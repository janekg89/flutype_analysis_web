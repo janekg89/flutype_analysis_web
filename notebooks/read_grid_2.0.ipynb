{
 "cells": [
  {
   "cell_type": "code",
   "execution_count": 1,
   "metadata": {},
   "outputs": [],
   "source": [
    "from __future__ import absolute_import, print_function, unicode_literals\n",
    "from importlib import reload\n",
    "import pandas as pd\n",
    "import os\n",
    "import repackage\n",
    "from pprint import pprint\n",
    "repackage.up()\n",
    "import data.microarray_2018_03_21.data as d1\n",
    "import spot2intensity.ui_grid as ui\n",
    "from utils import ensure_dir\n",
    "import time"
   ]
  },
  {
   "cell_type": "code",
   "execution_count": 2,
   "metadata": {},
   "outputs": [
    {
     "data": {
      "text/plain": [
       "<module 'spot2intensity.ui_grid' from '/home/janekg89/Develop/Pycharm_Projects/flutype_analysis_web/spot2intensity/ui_grid.py'>"
      ]
     },
     "execution_count": 2,
     "metadata": {},
     "output_type": "execute_result"
    }
   ],
   "source": [
    "reload(d1)\n",
    "reload(ui)"
   ]
  },
  {
   "cell_type": "code",
   "execution_count": 3,
   "metadata": {},
   "outputs": [
    {
     "name": "stdout",
     "output_type": "stream",
     "text": [
      "5.239183664321899\n"
     ]
    }
   ],
   "source": [
    "start = time.time()\n",
    "col = d1.load_data()\n",
    "end = time.time()\n",
    "print(end-start)"
   ]
  },
  {
   "cell_type": "code",
   "execution_count": null,
   "metadata": {
    "collapsed": true
   },
   "outputs": [],
   "source": [
    "#col[\"slide_69\"].create_grid()"
   ]
  },
  {
   "cell_type": "code",
   "execution_count": 46,
   "metadata": {},
   "outputs": [
    {
     "name": "stdout",
     "output_type": "stream",
     "text": [
      "2.141237735748291\n"
     ]
    }
   ],
   "source": [
    "start = time.time()\n",
    "col = d1.load_data()\n",
    "end = time.time()\n",
    "print(end-start)"
   ]
  },
  {
   "cell_type": "code",
   "execution_count": 47,
   "metadata": {},
   "outputs": [
    {
     "data": {
      "text/plain": [
       "{'slide_19': <spot2intensity.spot2intensity.Collection at 0x7f8744ff1438>,\n",
       " 'slide_20': <spot2intensity.spot2intensity.Collection at 0x7f87446b4160>,\n",
       " 'slide_21': <spot2intensity.spot2intensity.Collection at 0x7f87446531d0>,\n",
       " 'slide_22': <spot2intensity.spot2intensity.Collection at 0x7f8744ff1f60>,\n",
       " 'slide_23': <spot2intensity.spot2intensity.Collection at 0x7f8744ff42b0>,\n",
       " 'slide_24': <spot2intensity.spot2intensity.Collection at 0x7f8744651fd0>,\n",
       " 'slide_25': <spot2intensity.spot2intensity.Collection at 0x7f8744ff1518>,\n",
       " 'slide_26': <spot2intensity.spot2intensity.Collection at 0x7f87446accf8>,\n",
       " 'slide_27': <spot2intensity.spot2intensity.Collection at 0x7f8744ff1f28>,\n",
       " 'slide_28': <spot2intensity.spot2intensity.Collection at 0x7f8744ff1908>,\n",
       " 'slide_29': <spot2intensity.spot2intensity.Collection at 0x7f8744ff11d0>,\n",
       " 'slide_30': <spot2intensity.spot2intensity.Collection at 0x7f87446a1d30>,\n",
       " 'slide_31': <spot2intensity.spot2intensity.Collection at 0x7f87446ac8d0>,\n",
       " 'slide_32': <spot2intensity.spot2intensity.Collection at 0x7f87446a1a58>,\n",
       " 'slide_33': <spot2intensity.spot2intensity.Collection at 0x7f8744ff4828>,\n",
       " 'slide_34': <spot2intensity.spot2intensity.Collection at 0x7f87446b43c8>,\n",
       " 'slide_35': <spot2intensity.spot2intensity.Collection at 0x7f8744ff4400>,\n",
       " 'slide_36': <spot2intensity.spot2intensity.Collection at 0x7f8744ff1ba8>,\n",
       " 'slide_37': <spot2intensity.spot2intensity.Collection at 0x7f8744ff1e48>,\n",
       " 'slide_38': <spot2intensity.spot2intensity.Collection at 0x7f87446bc588>,\n",
       " 'slide_39': <spot2intensity.spot2intensity.Collection at 0x7f8744ff15f8>,\n",
       " 'slide_40': <spot2intensity.spot2intensity.Collection at 0x7f8744ff1a90>,\n",
       " 'slide_41': <spot2intensity.spot2intensity.Collection at 0x7f87446d1208>,\n",
       " 'slide_42': <spot2intensity.spot2intensity.Collection at 0x7f87446d1f98>,\n",
       " 'slide_44': <spot2intensity.spot2intensity.Collection at 0x7f87446a0cf8>,\n",
       " 'slide_45': <spot2intensity.spot2intensity.Collection at 0x7f87446acbe0>,\n",
       " 'slide_47': <spot2intensity.spot2intensity.Collection at 0x7f87446d82b0>}"
      ]
     },
     "execution_count": 47,
     "metadata": {},
     "output_type": "execute_result"
    }
   ],
   "source": [
    "col"
   ]
  },
  {
   "cell_type": "code",
   "execution_count": null,
   "metadata": {
    "collapsed": true
   },
   "outputs": [],
   "source": []
  }
 ],
 "metadata": {
  "kernelspec": {
   "display_name": "flutype_web_analysis",
   "language": "python",
   "name": "flutype_web_analysis"
  },
  "language_info": {
   "codemirror_mode": {
    "name": "ipython",
    "version": 3
   },
   "file_extension": ".py",
   "mimetype": "text/x-python",
   "name": "python",
   "nbconvert_exporter": "python",
   "pygments_lexer": "ipython3",
   "version": "3.5.2"
  }
 },
 "nbformat": 4,
 "nbformat_minor": 2
}
