{
 "cells": [
  {
   "cell_type": "code",
   "execution_count": 1,
   "metadata": {},
   "outputs": [
    {
     "name": "stdout",
     "output_type": "stream",
     "text": [
      "****************************************\n",
      "RUNNING IN DEVELOP\n",
      "****************************************\n"
     ]
    },
    {
     "name": "stderr",
     "output_type": "stream",
     "text": [
      "/home/janekg89/Envs/flutype_webapp/local/lib/python2.7/site-packages/statsmodels/compat/pandas.py:56: FutureWarning: The pandas.core.datetools module is deprecated and will be removed in a future version. Please use the pandas.tseries module instead.\n",
      "  from pandas.core import datetools\n"
     ]
    }
   ],
   "source": [
    "from __future__ import absolute_import, print_function, unicode_literals\n",
    "import sys\n",
    "import os\n",
    "import repackage\n",
    "repackage.up()\n",
    "import pandas as pd\n",
    "import numpy as np\n",
    "import matplotlib.pyplot as plt\n",
    "import matplotlib.cm as cm\n",
    "import analysis as a\n",
    "import preprocessing as pp\n",
    "import copy\n",
    "reload(a)\n",
    "reload(pp)\n",
    "from IPython.display import display, HTML\n",
    "sys.path.append('/home/janekg89/Develop/Pycharm_Projects/flutype_webapp')\n",
    "os.environ.setdefault(\"DJANGO_SETTINGS_MODULE\", \"flutype_webapp.settings\")\n",
    "import django\n",
    "django.setup()\n",
    "from flutype.models import Spot\n"
   ]
  },
  {
   "cell_type": "code",
   "execution_count": 21,
   "metadata": {
    "collapsed": true
   },
   "outputs": [],
   "source": [
    "cs_train = [\"slide_21\",\"slide_22\",\"slide_26\",\"slide_27\",\"slide_31\",\"slide_32\",\"slide_36\"]#\"slide_41\",\"slide_42\"]\n",
    "cs_test = [\"slide_23\",\"slide_28\",\"slide_33\",\"slide_37\"]\n",
    "\n",
    "spots_train = Spot.objects.filter(raw_spot__raw_spot_collection__sid__in=cs_train)\n",
    "spots_train = spots_train.filter(spot_collection__sid = \"quant1\")\n",
    "spots_train_cq = spots_train.filter(circle_quality__gte = 0.3)\n",
    "\n",
    "spots_test = Spot.objects.filter(raw_spot__raw_spot_collection__sid__in=cs_test)\n",
    "spots_test = spots_test.filter(spot_collection__sid = \"quant1\")\n",
    "spots_test_cq = spots_test.filter(circle_quality__gte = 0.3)\n",
    "\n",
    "\n"
   ]
  },
  {
   "cell_type": "code",
   "execution_count": 22,
   "metadata": {
    "collapsed": true,
    "scrolled": true
   },
   "outputs": [],
   "source": [
    "#sp = a.Data(spots_train).spots_pd\n",
    "#sp = sp[sp[\"Collection\"] == \"slide_22\"]\n",
    "#sp[sp[\"Ligand Batch\"] == \"Nenad\"]\n",
    "#sp[sp[\"Column\"] == 1]\n",
    "\n",
    "#sp[sp[\"Ligand Batch\"] == \"Nenad\"].sort_values(by=\"Collection\")"
   ]
  },
  {
   "cell_type": "code",
   "execution_count": 23,
   "metadata": {
    "collapsed": true
   },
   "outputs": [],
   "source": [
    "#spots_train"
   ]
  },
  {
   "cell_type": "code",
   "execution_count": null,
   "metadata": {
    "collapsed": true
   },
   "outputs": [],
   "source": []
  },
  {
   "cell_type": "code",
   "execution_count": 24,
   "metadata": {},
   "outputs": [
    {
     "name": "stdout",
     "output_type": "stream",
     "text": [
      "3420 1699 1595\n",
      "5985 3096 2933\n"
     ]
    }
   ],
   "source": [
    "data_train = a.Data(spots_train)\n",
    "data_test = a.Data(spots_test)\n",
    "data_train_cq = a.Data(spots_train_cq)\n",
    "data_test_cq = a.Data(spots_test_cq)\n",
    "data_train_outlier = copy.deepcopy(data_train_cq )\n",
    "data_test_outlier = copy.deepcopy(data_test_cq )\n",
    "data_train_outlier.spots_pd = pp.outlier_filtering(data_train_outlier.spots_pd, \"Collection\")\n",
    "data_test_outlier.spots_pd = pp.outlier_filtering(data_test_outlier.spots_pd, \"Collection\")\n",
    "\n",
    "print(len(data_test.spots_pd),len(data_test_cq.spots_pd),len(data_test_outlier.spots_pd))\n",
    "print(len(data_train.spots_pd),len(data_train_cq.spots_pd),len(data_train_outlier.spots_pd))\n",
    "\n"
   ]
  },
  {
   "cell_type": "code",
   "execution_count": 25,
   "metadata": {},
   "outputs": [
    {
     "data": {
      "text/html": [
       "<div>\n",
       "<style>\n",
       "    .dataframe thead tr:only-child th {\n",
       "        text-align: right;\n",
       "    }\n",
       "\n",
       "    .dataframe thead th {\n",
       "        text-align: left;\n",
       "    }\n",
       "\n",
       "    .dataframe tbody tr th {\n",
       "        vertical-align: top;\n",
       "    }\n",
       "</style>\n",
       "<table border=\"1\" class=\"dataframe\">\n",
       "  <thead>\n",
       "    <tr style=\"text-align: right;\">\n",
       "      <th></th>\n",
       "      <th>Name</th>\n",
       "      <th>unweighted accuracy</th>\n",
       "      <th>true positive</th>\n",
       "      <th>false positive</th>\n",
       "      <th>true negative</th>\n",
       "      <th>false negative</th>\n",
       "    </tr>\n",
       "  </thead>\n",
       "  <tbody>\n",
       "    <tr>\n",
       "      <th>0</th>\n",
       "      <td>Nearest Neighbors</td>\n",
       "      <td>41.00</td>\n",
       "      <td>41.836735</td>\n",
       "      <td>58.163265</td>\n",
       "      <td>80.463576</td>\n",
       "      <td>19.536424</td>\n",
       "    </tr>\n",
       "    <tr>\n",
       "      <th>1</th>\n",
       "      <td>Decision Tree</td>\n",
       "      <td>15.00</td>\n",
       "      <td>36.581197</td>\n",
       "      <td>63.418803</td>\n",
       "      <td>81.674877</td>\n",
       "      <td>18.325123</td>\n",
       "    </tr>\n",
       "    <tr>\n",
       "      <th>2</th>\n",
       "      <td>Random Forest</td>\n",
       "      <td>33.25</td>\n",
       "      <td>59.917355</td>\n",
       "      <td>40.082645</td>\n",
       "      <td>81.222386</td>\n",
       "      <td>18.777614</td>\n",
       "    </tr>\n",
       "    <tr>\n",
       "      <th>3</th>\n",
       "      <td>AdaBoost</td>\n",
       "      <td>32.75</td>\n",
       "      <td>66.666667</td>\n",
       "      <td>33.333333</td>\n",
       "      <td>80.884451</td>\n",
       "      <td>19.115549</td>\n",
       "    </tr>\n",
       "    <tr>\n",
       "      <th>4</th>\n",
       "      <td>Naive Bayes</td>\n",
       "      <td>25.25</td>\n",
       "      <td>37.719298</td>\n",
       "      <td>62.280702</td>\n",
       "      <td>78.457870</td>\n",
       "      <td>21.542130</td>\n",
       "    </tr>\n",
       "    <tr>\n",
       "      <th>5</th>\n",
       "      <td>LDA</td>\n",
       "      <td>32.25</td>\n",
       "      <td>40.509915</td>\n",
       "      <td>59.490085</td>\n",
       "      <td>79.390537</td>\n",
       "      <td>20.609463</td>\n",
       "    </tr>\n",
       "  </tbody>\n",
       "</table>\n",
       "</div>"
      ],
      "text/plain": [
       "                Name  unweighted accuracy  true positive  false positive  \\\n",
       "0  Nearest Neighbors                41.00      41.836735       58.163265   \n",
       "1      Decision Tree                15.00      36.581197       63.418803   \n",
       "2      Random Forest                33.25      59.917355       40.082645   \n",
       "3           AdaBoost                32.75      66.666667       33.333333   \n",
       "4        Naive Bayes                25.25      37.719298       62.280702   \n",
       "5                LDA                32.25      40.509915       59.490085   \n",
       "\n",
       "   true negative  false negative  \n",
       "0      80.463576       19.536424  \n",
       "1      81.674877       18.325123  \n",
       "2      81.222386       18.777614  \n",
       "3      80.884451       19.115549  \n",
       "4      78.457870       21.542130  \n",
       "5      79.390537       20.609463  "
      ]
     },
     "execution_count": 25,
     "metadata": {},
     "output_type": "execute_result"
    }
   ],
   "source": [
    "data_train_piv = data_train._pivot_table(data_train.generate_data_for_fitting(200))\n",
    "data_test_piv = data_test._pivot_table(data_test.generate_data_for_fitting(100))\n",
    "ana = a.Analysis(data_train_piv,data_test_piv)\n",
    "ana.performance_table()"
   ]
  },
  {
   "cell_type": "code",
   "execution_count": 26,
   "metadata": {},
   "outputs": [
    {
     "data": {
      "text/html": [
       "<div>\n",
       "<style>\n",
       "    .dataframe thead tr:only-child th {\n",
       "        text-align: right;\n",
       "    }\n",
       "\n",
       "    .dataframe thead th {\n",
       "        text-align: left;\n",
       "    }\n",
       "\n",
       "    .dataframe tbody tr th {\n",
       "        vertical-align: top;\n",
       "    }\n",
       "</style>\n",
       "<table border=\"1\" class=\"dataframe\">\n",
       "  <thead>\n",
       "    <tr style=\"text-align: right;\">\n",
       "      <th></th>\n",
       "      <th>Name</th>\n",
       "      <th>unweighted accuracy</th>\n",
       "      <th>true positive</th>\n",
       "      <th>false positive</th>\n",
       "      <th>true negative</th>\n",
       "      <th>false negative</th>\n",
       "    </tr>\n",
       "  </thead>\n",
       "  <tbody>\n",
       "    <tr>\n",
       "      <th>0</th>\n",
       "      <td>Nearest Neighbors</td>\n",
       "      <td>43.25</td>\n",
       "      <td>47.267760</td>\n",
       "      <td>52.732240</td>\n",
       "      <td>81.604538</td>\n",
       "      <td>18.395462</td>\n",
       "    </tr>\n",
       "    <tr>\n",
       "      <th>1</th>\n",
       "      <td>Decision Tree</td>\n",
       "      <td>19.00</td>\n",
       "      <td>39.700375</td>\n",
       "      <td>60.299625</td>\n",
       "      <td>82.363977</td>\n",
       "      <td>17.636023</td>\n",
       "    </tr>\n",
       "    <tr>\n",
       "      <th>2</th>\n",
       "      <td>Random Forest</td>\n",
       "      <td>36.75</td>\n",
       "      <td>60.727273</td>\n",
       "      <td>39.272727</td>\n",
       "      <td>82.415094</td>\n",
       "      <td>17.584906</td>\n",
       "    </tr>\n",
       "    <tr>\n",
       "      <th>3</th>\n",
       "      <td>AdaBoost</td>\n",
       "      <td>35.50</td>\n",
       "      <td>70.616114</td>\n",
       "      <td>29.383886</td>\n",
       "      <td>81.929446</td>\n",
       "      <td>18.070554</td>\n",
       "    </tr>\n",
       "    <tr>\n",
       "      <th>4</th>\n",
       "      <td>Naive Bayes</td>\n",
       "      <td>24.25</td>\n",
       "      <td>50.480769</td>\n",
       "      <td>49.519231</td>\n",
       "      <td>78.807471</td>\n",
       "      <td>21.192529</td>\n",
       "    </tr>\n",
       "    <tr>\n",
       "      <th>5</th>\n",
       "      <td>LDA</td>\n",
       "      <td>52.75</td>\n",
       "      <td>71.346705</td>\n",
       "      <td>28.653295</td>\n",
       "      <td>87.929656</td>\n",
       "      <td>12.070344</td>\n",
       "    </tr>\n",
       "  </tbody>\n",
       "</table>\n",
       "</div>"
      ],
      "text/plain": [
       "                Name  unweighted accuracy  true positive  false positive  \\\n",
       "0  Nearest Neighbors                43.25      47.267760       52.732240   \n",
       "1      Decision Tree                19.00      39.700375       60.299625   \n",
       "2      Random Forest                36.75      60.727273       39.272727   \n",
       "3           AdaBoost                35.50      70.616114       29.383886   \n",
       "4        Naive Bayes                24.25      50.480769       49.519231   \n",
       "5                LDA                52.75      71.346705       28.653295   \n",
       "\n",
       "   true negative  false negative  \n",
       "0      81.604538       18.395462  \n",
       "1      82.363977       17.636023  \n",
       "2      82.415094       17.584906  \n",
       "3      81.929446       18.070554  \n",
       "4      78.807471       21.192529  \n",
       "5      87.929656       12.070344  "
      ]
     },
     "execution_count": 26,
     "metadata": {},
     "output_type": "execute_result"
    }
   ],
   "source": [
    "data_train.spots_pd = pp.normalize_on_ligand_batch(data_train.spots_pd)\n",
    "data_test.spots_pd = pp.normalize_on_ligand_batch(data_test.spots_pd)\n",
    "data_train_piv = data_train._pivot_table(data_train.generate_data_for_fitting(200))\n",
    "data_test_piv = data_test._pivot_table(data_test.generate_data_for_fitting(100))\n",
    "ana = a.Analysis(data_train_piv,data_test_piv)\n",
    "ana.performance_table()"
   ]
  },
  {
   "cell_type": "code",
   "execution_count": 27,
   "metadata": {},
   "outputs": [
    {
     "data": {
      "text/html": [
       "<div>\n",
       "<style>\n",
       "    .dataframe thead tr:only-child th {\n",
       "        text-align: right;\n",
       "    }\n",
       "\n",
       "    .dataframe thead th {\n",
       "        text-align: left;\n",
       "    }\n",
       "\n",
       "    .dataframe tbody tr th {\n",
       "        vertical-align: top;\n",
       "    }\n",
       "</style>\n",
       "<table border=\"1\" class=\"dataframe\">\n",
       "  <thead>\n",
       "    <tr style=\"text-align: right;\">\n",
       "      <th></th>\n",
       "      <th>Name</th>\n",
       "      <th>unweighted accuracy</th>\n",
       "      <th>true positive</th>\n",
       "      <th>false positive</th>\n",
       "      <th>true negative</th>\n",
       "      <th>false negative</th>\n",
       "    </tr>\n",
       "  </thead>\n",
       "  <tbody>\n",
       "    <tr>\n",
       "      <th>0</th>\n",
       "      <td>Nearest Neighbors</td>\n",
       "      <td>45.50</td>\n",
       "      <td>48.924731</td>\n",
       "      <td>51.075269</td>\n",
       "      <td>82.247557</td>\n",
       "      <td>17.752443</td>\n",
       "    </tr>\n",
       "    <tr>\n",
       "      <th>1</th>\n",
       "      <td>Decision Tree</td>\n",
       "      <td>9.75</td>\n",
       "      <td>26.373626</td>\n",
       "      <td>73.626374</td>\n",
       "      <td>75.404531</td>\n",
       "      <td>24.595469</td>\n",
       "    </tr>\n",
       "    <tr>\n",
       "      <th>2</th>\n",
       "      <td>Random Forest</td>\n",
       "      <td>23.75</td>\n",
       "      <td>50.480769</td>\n",
       "      <td>49.519231</td>\n",
       "      <td>78.807471</td>\n",
       "      <td>21.192529</td>\n",
       "    </tr>\n",
       "    <tr>\n",
       "      <th>3</th>\n",
       "      <td>AdaBoost</td>\n",
       "      <td>23.75</td>\n",
       "      <td>68.027211</td>\n",
       "      <td>31.972789</td>\n",
       "      <td>79.353063</td>\n",
       "      <td>20.646937</td>\n",
       "    </tr>\n",
       "    <tr>\n",
       "      <th>4</th>\n",
       "      <td>Naive Bayes</td>\n",
       "      <td>5.00</td>\n",
       "      <td>20.183486</td>\n",
       "      <td>79.816514</td>\n",
       "      <td>74.647887</td>\n",
       "      <td>25.352113</td>\n",
       "    </tr>\n",
       "    <tr>\n",
       "      <th>5</th>\n",
       "      <td>LDA</td>\n",
       "      <td>34.00</td>\n",
       "      <td>62.151394</td>\n",
       "      <td>37.848606</td>\n",
       "      <td>81.912528</td>\n",
       "      <td>18.087472</td>\n",
       "    </tr>\n",
       "  </tbody>\n",
       "</table>\n",
       "</div>"
      ],
      "text/plain": [
       "                Name  unweighted accuracy  true positive  false positive  \\\n",
       "0  Nearest Neighbors                45.50      48.924731       51.075269   \n",
       "1      Decision Tree                 9.75      26.373626       73.626374   \n",
       "2      Random Forest                23.75      50.480769       49.519231   \n",
       "3           AdaBoost                23.75      68.027211       31.972789   \n",
       "4        Naive Bayes                 5.00      20.183486       79.816514   \n",
       "5                LDA                34.00      62.151394       37.848606   \n",
       "\n",
       "   true negative  false negative  \n",
       "0      82.247557       17.752443  \n",
       "1      75.404531       24.595469  \n",
       "2      78.807471       21.192529  \n",
       "3      79.353063       20.646937  \n",
       "4      74.647887       25.352113  \n",
       "5      81.912528       18.087472  "
      ]
     },
     "execution_count": 27,
     "metadata": {},
     "output_type": "execute_result"
    }
   ],
   "source": [
    "data_train.spots_pd = pp.outlier_filtering(data_train.spots_pd, \"Collection\")\n",
    "data_test.spots_pd =  pp.outlier_filtering(data_test.spots_pd, \"Collection\")\n",
    "\n",
    "data_train_piv = data_train._pivot_table(data_train.generate_data_for_fitting(200))\n",
    "data_test_piv = data_test._pivot_table(data_test.generate_data_for_fitting(100))\n",
    "ana = a.Analysis(data_train_piv,data_test_piv)\n",
    "ana.performance_table()"
   ]
  },
  {
   "cell_type": "code",
   "execution_count": 28,
   "metadata": {},
   "outputs": [
    {
     "name": "stdout",
     "output_type": "stream",
     "text": [
      "[nan, u'P043', u'P008', u'P045.3', u'P009', u'P096', u'P073', u'P072', u'P098', u'Nenad', u'P095', u'P094', u'P090', u'LF', u'P059', u'P010', u'P050', u'P057', u'P056', u'P055', u'P054', u'P102', u'P131.2', u'P088', u'P063', u'P060', u'P061', u'P084', u'P086', u'P080', u'P081', u'P082', u'P083', u'P048', u'P124', u'P122', u'P121', u'P105', u'P104', u'P106', u'P101', u'P100', u'P103', u'P047', u'P044']\n",
      "[u'slide_23' u'slide_28' u'slide_33' u'slide_37']\n",
      "[u'slide_21' u'slide_22' u'slide_26' u'slide_27' u'slide_31' u'slide_32'\n",
      " u'slide_36']\n"
     ]
    }
   ],
   "source": [
    "def common_ligand_batches(train,test):\n",
    "    return list(minimum_unique_lb_on_collection(train).intersection( minimum_unique_lb_on_collection(test)))\n",
    "\n",
    "def minimum_unique_lb_on_collection(spots):\n",
    "    min_uni_lb = set(spots[\"Ligand Batch\"].unique())\n",
    "    spots = spots.dropna(subset=[\"Intensity\"])\n",
    "    for n,d in spots.groupby([\"Collection\"]):\n",
    "        min_uni_lb =  min_uni_lb.intersection(set(d[\"Ligand Batch\"].unique()))\n",
    "    return min_uni_lb\n",
    "\n",
    "def drop_not_common(spots, common):\n",
    "    return spots[spots.applymap(lambda x: x in list(common))[\"Ligand Batch\"]]\n",
    "\n",
    "def collection_with_ligand_batch(spots, lb=\"Nenad\"):\n",
    "    spots = spots[spots[\"Ligand Batch\"] == lb]\n",
    "    return spots[\"Collection\"].unique()\n",
    "\n",
    "data_train_cq = a.Data(spots_train_cq)\n",
    "data_test_cq = a.Data(spots_test_cq)\n",
    "common = common_ligand_batches(data_train_cq.spots_pd,data_test_cq.spots_pd)\n",
    "print(common)\n",
    "print(collection_with_ligand_batch(data_test_cq.spots_pd))\n",
    "print(collection_with_ligand_batch(data_train_cq.spots_pd))\n",
    "\n",
    "data_train_cq.spots_pd = drop_not_common(data_train_cq.spots_pd, common)\n",
    "data_test_cq.spots_pd = drop_not_common(data_test_cq.spots_pd, common)\n",
    "\n",
    "#len(data_test_cq.spots_pd[\"Ligand Batch\"].unique())\n",
    "#data_train_cq.spots_pd[\"Ligand Batch\"].unique()"
   ]
  },
  {
   "cell_type": "code",
   "execution_count": null,
   "metadata": {
    "collapsed": true
   },
   "outputs": [],
   "source": []
  },
  {
   "cell_type": "code",
   "execution_count": 29,
   "metadata": {
    "collapsed": true
   },
   "outputs": [],
   "source": [
    "data_train_piv = data_train_cq._pivot_table(data_train_cq.generate_data_for_fitting(200))\n",
    "data_test_piv = data_test_cq._pivot_table(data_test_cq.generate_data_for_fitting(100))"
   ]
  },
  {
   "cell_type": "code",
   "execution_count": null,
   "metadata": {
    "collapsed": true
   },
   "outputs": [],
   "source": []
  },
  {
   "cell_type": "code",
   "execution_count": 30,
   "metadata": {},
   "outputs": [
    {
     "data": {
      "text/html": [
       "<div>\n",
       "<style>\n",
       "    .dataframe thead tr:only-child th {\n",
       "        text-align: right;\n",
       "    }\n",
       "\n",
       "    .dataframe thead th {\n",
       "        text-align: left;\n",
       "    }\n",
       "\n",
       "    .dataframe tbody tr th {\n",
       "        vertical-align: top;\n",
       "    }\n",
       "</style>\n",
       "<table border=\"1\" class=\"dataframe\">\n",
       "  <thead>\n",
       "    <tr style=\"text-align: right;\">\n",
       "      <th></th>\n",
       "      <th>Name</th>\n",
       "      <th>unweighted accuracy</th>\n",
       "      <th>true positive</th>\n",
       "      <th>false positive</th>\n",
       "      <th>true negative</th>\n",
       "      <th>false negative</th>\n",
       "    </tr>\n",
       "  </thead>\n",
       "  <tbody>\n",
       "    <tr>\n",
       "      <th>0</th>\n",
       "      <td>Nearest Neighbors</td>\n",
       "      <td>42.75</td>\n",
       "      <td>43.073048</td>\n",
       "      <td>56.926952</td>\n",
       "      <td>80.964256</td>\n",
       "      <td>19.035744</td>\n",
       "    </tr>\n",
       "    <tr>\n",
       "      <th>1</th>\n",
       "      <td>Decision Tree</td>\n",
       "      <td>3.50</td>\n",
       "      <td>23.370429</td>\n",
       "      <td>76.629571</td>\n",
       "      <td>73.944387</td>\n",
       "      <td>26.055613</td>\n",
       "    </tr>\n",
       "    <tr>\n",
       "      <th>2</th>\n",
       "      <td>Random Forest</td>\n",
       "      <td>21.50</td>\n",
       "      <td>37.101449</td>\n",
       "      <td>62.898551</td>\n",
       "      <td>78.326693</td>\n",
       "      <td>21.673307</td>\n",
       "    </tr>\n",
       "    <tr>\n",
       "      <th>3</th>\n",
       "      <td>AdaBoost</td>\n",
       "      <td>31.00</td>\n",
       "      <td>54.964539</td>\n",
       "      <td>45.035461</td>\n",
       "      <td>81.411229</td>\n",
       "      <td>18.588771</td>\n",
       "    </tr>\n",
       "    <tr>\n",
       "      <th>4</th>\n",
       "      <td>Naive Bayes</td>\n",
       "      <td>21.25</td>\n",
       "      <td>38.068182</td>\n",
       "      <td>61.931818</td>\n",
       "      <td>78.685897</td>\n",
       "      <td>21.314103</td>\n",
       "    </tr>\n",
       "    <tr>\n",
       "      <th>5</th>\n",
       "      <td>LDA</td>\n",
       "      <td>38.00</td>\n",
       "      <td>46.636771</td>\n",
       "      <td>53.363229</td>\n",
       "      <td>83.362218</td>\n",
       "      <td>16.637782</td>\n",
       "    </tr>\n",
       "  </tbody>\n",
       "</table>\n",
       "</div>"
      ],
      "text/plain": [
       "                Name  unweighted accuracy  true positive  false positive  \\\n",
       "0  Nearest Neighbors                42.75      43.073048       56.926952   \n",
       "1      Decision Tree                 3.50      23.370429       76.629571   \n",
       "2      Random Forest                21.50      37.101449       62.898551   \n",
       "3           AdaBoost                31.00      54.964539       45.035461   \n",
       "4        Naive Bayes                21.25      38.068182       61.931818   \n",
       "5                LDA                38.00      46.636771       53.363229   \n",
       "\n",
       "   true negative  false negative  \n",
       "0      80.964256       19.035744  \n",
       "1      73.944387       26.055613  \n",
       "2      78.326693       21.673307  \n",
       "3      81.411229       18.588771  \n",
       "4      78.685897       21.314103  \n",
       "5      83.362218       16.637782  "
      ]
     },
     "execution_count": 30,
     "metadata": {},
     "output_type": "execute_result"
    }
   ],
   "source": [
    "\n",
    "ana = a.Analysis(data_train_piv,data_test_piv)\n",
    "ana.performance_table()"
   ]
  },
  {
   "cell_type": "code",
   "execution_count": null,
   "metadata": {
    "collapsed": true
   },
   "outputs": [],
   "source": []
  },
  {
   "cell_type": "code",
   "execution_count": 31,
   "metadata": {
    "collapsed": true
   },
   "outputs": [],
   "source": [
    "from sklearn.preprocessing import Imputer\n",
    "\n",
    "def impute(data):\n",
    "    im = Imputer(strategy=\"mean\",axis=0)\n",
    "    im.fit(data)\n",
    "    return pd.DataFrame(im.transform(data), index=data.index, columns = data.columns)"
   ]
  },
  {
   "cell_type": "code",
   "execution_count": null,
   "metadata": {
    "collapsed": true
   },
   "outputs": [],
   "source": []
  },
  {
   "cell_type": "code",
   "execution_count": 43,
   "metadata": {},
   "outputs": [
    {
     "ename": "JoblibValueError",
     "evalue": "JoblibValueError\n___________________________________________________________________________\nMultiprocessing exception:\n...........................................................................\n/usr/lib/python2.7/runpy.py in _run_module_as_main(mod_name='ipykernel_launcher', alter_argv=1)\n    169     pkg_name = mod_name.rpartition('.')[0]\n    170     main_globals = sys.modules[\"__main__\"].__dict__\n    171     if alter_argv:\n    172         sys.argv[0] = fname\n    173     return _run_code(code, main_globals, None,\n--> 174                      \"__main__\", fname, loader, pkg_name)\n        fname = '/home/janekg89/Envs/flutype_webapp/lib/python2.7/site-packages/ipykernel_launcher.py'\n        loader = <pkgutil.ImpLoader instance>\n        pkg_name = ''\n    175 \n    176 def run_module(mod_name, init_globals=None,\n    177                run_name=None, alter_sys=False):\n    178     \"\"\"Execute a module's code without importing it\n\n...........................................................................\n/usr/lib/python2.7/runpy.py in _run_code(code=<code object <module> at 0x7f22f5b3c1b0, file \"/...2.7/site-packages/ipykernel_launcher.py\", line 5>, run_globals={'__builtins__': <module '__builtin__' (built-in)>, '__doc__': 'Entry point for launching an IPython kernel.\\n\\nTh...orts until\\nafter removing the cwd from sys.path.\\n', '__file__': '/home/janekg89/Envs/flutype_webapp/lib/python2.7/site-packages/ipykernel_launcher.py', '__loader__': <pkgutil.ImpLoader instance>, '__name__': '__main__', '__package__': '', 'app': <module 'ipykernel.kernelapp' from '/home/janekg...python2.7/site-packages/ipykernel/kernelapp.pyc'>, 'sys': <module 'sys' (built-in)>}, init_globals=None, mod_name='__main__', mod_fname='/home/janekg89/Envs/flutype_webapp/lib/python2.7/site-packages/ipykernel_launcher.py', mod_loader=<pkgutil.ImpLoader instance>, pkg_name='')\n     67         run_globals.update(init_globals)\n     68     run_globals.update(__name__ = mod_name,\n     69                        __file__ = mod_fname,\n     70                        __loader__ = mod_loader,\n     71                        __package__ = pkg_name)\n---> 72     exec code in run_globals\n        code = <code object <module> at 0x7f22f5b3c1b0, file \"/...2.7/site-packages/ipykernel_launcher.py\", line 5>\n        run_globals = {'__builtins__': <module '__builtin__' (built-in)>, '__doc__': 'Entry point for launching an IPython kernel.\\n\\nTh...orts until\\nafter removing the cwd from sys.path.\\n', '__file__': '/home/janekg89/Envs/flutype_webapp/lib/python2.7/site-packages/ipykernel_launcher.py', '__loader__': <pkgutil.ImpLoader instance>, '__name__': '__main__', '__package__': '', 'app': <module 'ipykernel.kernelapp' from '/home/janekg...python2.7/site-packages/ipykernel/kernelapp.pyc'>, 'sys': <module 'sys' (built-in)>}\n     73     return run_globals\n     74 \n     75 def _run_module_code(code, init_globals=None,\n     76                     mod_name=None, mod_fname=None,\n\n...........................................................................\n/home/janekg89/Envs/flutype_webapp/lib/python2.7/site-packages/ipykernel_launcher.py in <module>()\n     11     # This is added back by InteractiveShellApp.init_path()\n     12     if sys.path[0] == '':\n     13         del sys.path[0]\n     14 \n     15     from ipykernel import kernelapp as app\n---> 16     app.launch_new_instance()\n\n...........................................................................\n/home/janekg89/Envs/flutype_webapp/local/lib/python2.7/site-packages/traitlets/config/application.py in launch_instance(cls=<class 'ipykernel.kernelapp.IPKernelApp'>, argv=None, **kwargs={})\n    653 \n    654         If a global instance already exists, this reinitializes and starts it\n    655         \"\"\"\n    656         app = cls.instance(**kwargs)\n    657         app.initialize(argv)\n--> 658         app.start()\n        app.start = <bound method IPKernelApp.start of <ipykernel.kernelapp.IPKernelApp object>>\n    659 \n    660 #-----------------------------------------------------------------------------\n    661 # utility functions, for convenience\n    662 #-----------------------------------------------------------------------------\n\n...........................................................................\n/home/janekg89/Envs/flutype_webapp/local/lib/python2.7/site-packages/ipykernel/kernelapp.py in start(self=<ipykernel.kernelapp.IPKernelApp object>)\n    472             return self.subapp.start()\n    473         if self.poller is not None:\n    474             self.poller.start()\n    475         self.kernel.start()\n    476         try:\n--> 477             ioloop.IOLoop.instance().start()\n    478         except KeyboardInterrupt:\n    479             pass\n    480 \n    481 launch_new_instance = IPKernelApp.launch_instance\n\n...........................................................................\n/home/janekg89/Envs/flutype_webapp/local/lib/python2.7/site-packages/zmq/eventloop/ioloop.py in start(self=<zmq.eventloop.ioloop.ZMQIOLoop object>)\n    172             )\n    173         return loop\n    174     \n    175     def start(self):\n    176         try:\n--> 177             super(ZMQIOLoop, self).start()\n        self.start = <bound method ZMQIOLoop.start of <zmq.eventloop.ioloop.ZMQIOLoop object>>\n    178         except ZMQError as e:\n    179             if e.errno == ETERM:\n    180                 # quietly return on ETERM\n    181                 pass\n\n...........................................................................\n/home/janekg89/Envs/flutype_webapp/local/lib/python2.7/site-packages/tornado/ioloop.py in start(self=<zmq.eventloop.ioloop.ZMQIOLoop object>)\n    883                 self._events.update(event_pairs)\n    884                 while self._events:\n    885                     fd, events = self._events.popitem()\n    886                     try:\n    887                         fd_obj, handler_func = self._handlers[fd]\n--> 888                         handler_func(fd_obj, events)\n        handler_func = <function null_wrapper>\n        fd_obj = <zmq.sugar.socket.Socket object>\n        events = 1\n    889                     except (OSError, IOError) as e:\n    890                         if errno_from_exception(e) == errno.EPIPE:\n    891                             # Happens when the client closes the connection\n    892                             pass\n\n...........................................................................\n/home/janekg89/Envs/flutype_webapp/local/lib/python2.7/site-packages/tornado/stack_context.py in null_wrapper(*args=(<zmq.sugar.socket.Socket object>, 1), **kwargs={})\n    272         # Fast path when there are no active contexts.\n    273         def null_wrapper(*args, **kwargs):\n    274             try:\n    275                 current_state = _state.contexts\n    276                 _state.contexts = cap_contexts[0]\n--> 277                 return fn(*args, **kwargs)\n        args = (<zmq.sugar.socket.Socket object>, 1)\n        kwargs = {}\n    278             finally:\n    279                 _state.contexts = current_state\n    280         null_wrapper._wrapped = True\n    281         return null_wrapper\n\n...........................................................................\n/home/janekg89/Envs/flutype_webapp/local/lib/python2.7/site-packages/zmq/eventloop/zmqstream.py in _handle_events(self=<zmq.eventloop.zmqstream.ZMQStream object>, fd=<zmq.sugar.socket.Socket object>, events=1)\n    435             # dispatch events:\n    436             if events & IOLoop.ERROR:\n    437                 gen_log.error(\"got POLLERR event on ZMQStream, which doesn't make sense\")\n    438                 return\n    439             if events & IOLoop.READ:\n--> 440                 self._handle_recv()\n        self._handle_recv = <bound method ZMQStream._handle_recv of <zmq.eventloop.zmqstream.ZMQStream object>>\n    441                 if not self.socket:\n    442                     return\n    443             if events & IOLoop.WRITE:\n    444                 self._handle_send()\n\n...........................................................................\n/home/janekg89/Envs/flutype_webapp/local/lib/python2.7/site-packages/zmq/eventloop/zmqstream.py in _handle_recv(self=<zmq.eventloop.zmqstream.ZMQStream object>)\n    467                 gen_log.error(\"RECV Error: %s\"%zmq.strerror(e.errno))\n    468         else:\n    469             if self._recv_callback:\n    470                 callback = self._recv_callback\n    471                 # self._recv_callback = None\n--> 472                 self._run_callback(callback, msg)\n        self._run_callback = <bound method ZMQStream._run_callback of <zmq.eventloop.zmqstream.ZMQStream object>>\n        callback = <function null_wrapper>\n        msg = [<zmq.sugar.frame.Frame object>, <zmq.sugar.frame.Frame object>, <zmq.sugar.frame.Frame object>, <zmq.sugar.frame.Frame object>, <zmq.sugar.frame.Frame object>, <zmq.sugar.frame.Frame object>, <zmq.sugar.frame.Frame object>]\n    473                 \n    474         # self.update_state()\n    475         \n    476 \n\n...........................................................................\n/home/janekg89/Envs/flutype_webapp/local/lib/python2.7/site-packages/zmq/eventloop/zmqstream.py in _run_callback(self=<zmq.eventloop.zmqstream.ZMQStream object>, callback=<function null_wrapper>, *args=([<zmq.sugar.frame.Frame object>, <zmq.sugar.frame.Frame object>, <zmq.sugar.frame.Frame object>, <zmq.sugar.frame.Frame object>, <zmq.sugar.frame.Frame object>, <zmq.sugar.frame.Frame object>, <zmq.sugar.frame.Frame object>],), **kwargs={})\n    409         close our socket.\"\"\"\n    410         try:\n    411             # Use a NullContext to ensure that all StackContexts are run\n    412             # inside our blanket exception handler rather than outside.\n    413             with stack_context.NullContext():\n--> 414                 callback(*args, **kwargs)\n        callback = <function null_wrapper>\n        args = ([<zmq.sugar.frame.Frame object>, <zmq.sugar.frame.Frame object>, <zmq.sugar.frame.Frame object>, <zmq.sugar.frame.Frame object>, <zmq.sugar.frame.Frame object>, <zmq.sugar.frame.Frame object>, <zmq.sugar.frame.Frame object>],)\n        kwargs = {}\n    415         except:\n    416             gen_log.error(\"Uncaught exception, closing connection.\",\n    417                           exc_info=True)\n    418             # Close the socket on an uncaught exception from a user callback\n\n...........................................................................\n/home/janekg89/Envs/flutype_webapp/local/lib/python2.7/site-packages/tornado/stack_context.py in null_wrapper(*args=([<zmq.sugar.frame.Frame object>, <zmq.sugar.frame.Frame object>, <zmq.sugar.frame.Frame object>, <zmq.sugar.frame.Frame object>, <zmq.sugar.frame.Frame object>, <zmq.sugar.frame.Frame object>, <zmq.sugar.frame.Frame object>],), **kwargs={})\n    272         # Fast path when there are no active contexts.\n    273         def null_wrapper(*args, **kwargs):\n    274             try:\n    275                 current_state = _state.contexts\n    276                 _state.contexts = cap_contexts[0]\n--> 277                 return fn(*args, **kwargs)\n        args = ([<zmq.sugar.frame.Frame object>, <zmq.sugar.frame.Frame object>, <zmq.sugar.frame.Frame object>, <zmq.sugar.frame.Frame object>, <zmq.sugar.frame.Frame object>, <zmq.sugar.frame.Frame object>, <zmq.sugar.frame.Frame object>],)\n        kwargs = {}\n    278             finally:\n    279                 _state.contexts = current_state\n    280         null_wrapper._wrapped = True\n    281         return null_wrapper\n\n...........................................................................\n/home/janekg89/Envs/flutype_webapp/local/lib/python2.7/site-packages/ipykernel/kernelbase.py in dispatcher(msg=[<zmq.sugar.frame.Frame object>, <zmq.sugar.frame.Frame object>, <zmq.sugar.frame.Frame object>, <zmq.sugar.frame.Frame object>, <zmq.sugar.frame.Frame object>, <zmq.sugar.frame.Frame object>, <zmq.sugar.frame.Frame object>])\n    278         if self.control_stream:\n    279             self.control_stream.on_recv(self.dispatch_control, copy=False)\n    280 \n    281         def make_dispatcher(stream):\n    282             def dispatcher(msg):\n--> 283                 return self.dispatch_shell(stream, msg)\n        msg = [<zmq.sugar.frame.Frame object>, <zmq.sugar.frame.Frame object>, <zmq.sugar.frame.Frame object>, <zmq.sugar.frame.Frame object>, <zmq.sugar.frame.Frame object>, <zmq.sugar.frame.Frame object>, <zmq.sugar.frame.Frame object>]\n    284             return dispatcher\n    285 \n    286         for s in self.shell_streams:\n    287             s.on_recv(make_dispatcher(s), copy=False)\n\n...........................................................................\n/home/janekg89/Envs/flutype_webapp/local/lib/python2.7/site-packages/ipykernel/kernelbase.py in dispatch_shell(self=<ipykernel.ipkernel.IPythonKernel object>, stream=<zmq.eventloop.zmqstream.ZMQStream object>, msg={'buffers': [], 'content': {u'allow_stdin': True, u'code': u'data_train_piv = data_train_cq._pivot_table(da...,impute(data_test_piv))\\nana.performance_table()', u'silent': False, u'stop_on_error': True, u'store_history': True, u'user_expressions': {}}, 'header': {u'date': datetime.datetime(2018, 3, 23, 11, 30, 26, 562638, tzinfo=tzlocal()), u'msg_id': u'40bc3b2e96084781bfb9bbe3b545089e', u'msg_type': u'execute_request', u'session': u'd53eb6b58ae14ffc8f469e8b9feb025c', u'username': u'username', u'version': u'5.2'}, 'metadata': {}, 'msg_id': u'40bc3b2e96084781bfb9bbe3b545089e', 'msg_type': u'execute_request', 'parent_header': {}})\n    230             self.log.warn(\"Unknown message type: %r\", msg_type)\n    231         else:\n    232             self.log.debug(\"%s: %s\", msg_type, msg)\n    233             self.pre_handler_hook()\n    234             try:\n--> 235                 handler(stream, idents, msg)\n        handler = <bound method IPythonKernel.execute_request of <ipykernel.ipkernel.IPythonKernel object>>\n        stream = <zmq.eventloop.zmqstream.ZMQStream object>\n        idents = ['d53eb6b58ae14ffc8f469e8b9feb025c']\n        msg = {'buffers': [], 'content': {u'allow_stdin': True, u'code': u'data_train_piv = data_train_cq._pivot_table(da...,impute(data_test_piv))\\nana.performance_table()', u'silent': False, u'stop_on_error': True, u'store_history': True, u'user_expressions': {}}, 'header': {u'date': datetime.datetime(2018, 3, 23, 11, 30, 26, 562638, tzinfo=tzlocal()), u'msg_id': u'40bc3b2e96084781bfb9bbe3b545089e', u'msg_type': u'execute_request', u'session': u'd53eb6b58ae14ffc8f469e8b9feb025c', u'username': u'username', u'version': u'5.2'}, 'metadata': {}, 'msg_id': u'40bc3b2e96084781bfb9bbe3b545089e', 'msg_type': u'execute_request', 'parent_header': {}}\n    236             except Exception:\n    237                 self.log.error(\"Exception in message handler:\", exc_info=True)\n    238             finally:\n    239                 self.post_handler_hook()\n\n...........................................................................\n/home/janekg89/Envs/flutype_webapp/local/lib/python2.7/site-packages/ipykernel/kernelbase.py in execute_request(self=<ipykernel.ipkernel.IPythonKernel object>, stream=<zmq.eventloop.zmqstream.ZMQStream object>, ident=['d53eb6b58ae14ffc8f469e8b9feb025c'], parent={'buffers': [], 'content': {u'allow_stdin': True, u'code': u'data_train_piv = data_train_cq._pivot_table(da...,impute(data_test_piv))\\nana.performance_table()', u'silent': False, u'stop_on_error': True, u'store_history': True, u'user_expressions': {}}, 'header': {u'date': datetime.datetime(2018, 3, 23, 11, 30, 26, 562638, tzinfo=tzlocal()), u'msg_id': u'40bc3b2e96084781bfb9bbe3b545089e', u'msg_type': u'execute_request', u'session': u'd53eb6b58ae14ffc8f469e8b9feb025c', u'username': u'username', u'version': u'5.2'}, 'metadata': {}, 'msg_id': u'40bc3b2e96084781bfb9bbe3b545089e', 'msg_type': u'execute_request', 'parent_header': {}})\n    394         if not silent:\n    395             self.execution_count += 1\n    396             self._publish_execute_input(code, parent, self.execution_count)\n    397 \n    398         reply_content = self.do_execute(code, silent, store_history,\n--> 399                                         user_expressions, allow_stdin)\n        user_expressions = {}\n        allow_stdin = True\n    400 \n    401         # Flush output before sending the reply.\n    402         sys.stdout.flush()\n    403         sys.stderr.flush()\n\n...........................................................................\n/home/janekg89/Envs/flutype_webapp/local/lib/python2.7/site-packages/ipykernel/ipkernel.py in do_execute(self=<ipykernel.ipkernel.IPythonKernel object>, code=u'data_train_piv = data_train_cq._pivot_table(da...,impute(data_test_piv))\\nana.performance_table()', silent=False, store_history=True, user_expressions={}, allow_stdin=True)\n    191 \n    192         self._forward_input(allow_stdin)\n    193 \n    194         reply_content = {}\n    195         try:\n--> 196             res = shell.run_cell(code, store_history=store_history, silent=silent)\n        res = undefined\n        shell.run_cell = <bound method ZMQInteractiveShell.run_cell of <ipykernel.zmqshell.ZMQInteractiveShell object>>\n        code = u'data_train_piv = data_train_cq._pivot_table(da...,impute(data_test_piv))\\nana.performance_table()'\n        store_history = True\n        silent = False\n    197         finally:\n    198             self._restore_input()\n    199 \n    200         if res.error_before_exec is not None:\n\n...........................................................................\n/home/janekg89/Envs/flutype_webapp/local/lib/python2.7/site-packages/ipykernel/zmqshell.py in run_cell(self=<ipykernel.zmqshell.ZMQInteractiveShell object>, *args=(u'data_train_piv = data_train_cq._pivot_table(da...,impute(data_test_piv))\\nana.performance_table()',), **kwargs={'silent': False, 'store_history': True})\n    528             )\n    529         self.payload_manager.write_payload(payload)\n    530 \n    531     def run_cell(self, *args, **kwargs):\n    532         self._last_traceback = None\n--> 533         return super(ZMQInteractiveShell, self).run_cell(*args, **kwargs)\n        self.run_cell = <bound method ZMQInteractiveShell.run_cell of <ipykernel.zmqshell.ZMQInteractiveShell object>>\n        args = (u'data_train_piv = data_train_cq._pivot_table(da...,impute(data_test_piv))\\nana.performance_table()',)\n        kwargs = {'silent': False, 'store_history': True}\n    534 \n    535     def _showtraceback(self, etype, evalue, stb):\n    536         # try to preserve ordering of tracebacks and print statements\n    537         sys.stdout.flush()\n\n...........................................................................\n/home/janekg89/Envs/flutype_webapp/local/lib/python2.7/site-packages/IPython/core/interactiveshell.py in run_cell(self=<ipykernel.zmqshell.ZMQInteractiveShell object>, raw_cell=u'data_train_piv = data_train_cq._pivot_table(da...,impute(data_test_piv))\\nana.performance_table()', store_history=True, silent=False, shell_futures=True)\n   2713                 self.displayhook.exec_result = result\n   2714 \n   2715                 # Execute the user code\n   2716                 interactivity = \"none\" if silent else self.ast_node_interactivity\n   2717                 has_raised = self.run_ast_nodes(code_ast.body, cell_name,\n-> 2718                    interactivity=interactivity, compiler=compiler, result=result)\n        interactivity = 'last_expr'\n        compiler = <IPython.core.compilerop.CachingCompiler instance>\n   2719                 \n   2720                 self.last_execution_succeeded = not has_raised\n   2721 \n   2722                 # Reset this so later displayed values do not modify the\n\n...........................................................................\n/home/janekg89/Envs/flutype_webapp/local/lib/python2.7/site-packages/IPython/core/interactiveshell.py in run_ast_nodes(self=<ipykernel.zmqshell.ZMQInteractiveShell object>, nodelist=[<_ast.Assign object>, <_ast.Assign object>, <_ast.Assign object>, <_ast.Expr object>], cell_name='<ipython-input-43-445d39c05224>', interactivity='last', compiler=<IPython.core.compilerop.CachingCompiler instance>, result=<ExecutionResult object at 7f22ab78bcd0, executi..._before_exec=None error_in_exec=None result=None>)\n   2823                     return True\n   2824 \n   2825             for i, node in enumerate(to_run_interactive):\n   2826                 mod = ast.Interactive([node])\n   2827                 code = compiler(mod, cell_name, \"single\")\n-> 2828                 if self.run_code(code, result):\n        self.run_code = <bound method ZMQInteractiveShell.run_code of <ipykernel.zmqshell.ZMQInteractiveShell object>>\n        code = <code object <module> at 0x7f22ab85dd30, file \"<ipython-input-43-445d39c05224>\", line 4>\n        result = <ExecutionResult object at 7f22ab78bcd0, executi..._before_exec=None error_in_exec=None result=None>\n   2829                     return True\n   2830 \n   2831             # Flush softspace\n   2832             if softspace(sys.stdout, 0):\n\n...........................................................................\n/home/janekg89/Envs/flutype_webapp/local/lib/python2.7/site-packages/IPython/core/interactiveshell.py in run_code(self=<ipykernel.zmqshell.ZMQInteractiveShell object>, code_obj=<code object <module> at 0x7f22ab85dd30, file \"<ipython-input-43-445d39c05224>\", line 4>, result=<ExecutionResult object at 7f22ab78bcd0, executi..._before_exec=None error_in_exec=None result=None>)\n   2877         outflag = 1  # happens in more places, so it's easier as default\n   2878         try:\n   2879             try:\n   2880                 self.hooks.pre_run_code_hook()\n   2881                 #rprint('Running code', repr(code_obj)) # dbg\n-> 2882                 exec(code_obj, self.user_global_ns, self.user_ns)\n        code_obj = <code object <module> at 0x7f22ab85dd30, file \"<ipython-input-43-445d39c05224>\", line 4>\n        self.user_global_ns = {'HTML': <class 'IPython.core.display.HTML'>, 'Imputer': <class 'sklearn.preprocessing.imputation.Imputer'>, 'In': ['', u'from __future__ import absolute_import, print_...ndjango.setup()\\nfrom flutype.models import Spot', u'cs_train = [\"slide_21\",\"slide_22\",\"slide_26\",\"...q = spots_test.filter(circle_quality__gte = 0.1)', u'sp = a.Data(spots_train).spots_pd\\nsp = sp[sp[...Batch\"] == \"Nenad\"].sort_values(by=\"Collection\")', u'#sp = a.Data(spots_train).spots_pd\\n#sp = sp[s...Batch\"] == \"Nenad\"].sort_values(by=\"Collection\")', u'#spots_train', u'data_train = a.Data(spots_train)\\ndata_test = ...n_cq.spots_pd),len(data_train_outlier.spots_pd))', u'data_train_piv = data_train._pivot_table(data_...rain_piv,data_test_piv)\\nana.performance_table()', u'data_train.spots_pd = pp.normalize_on_ligand_b...rain_piv,data_test_piv)\\nana.performance_table()', u'data_train.spots_pd = pp.outlier_filtering(dat...rain_piv,data_test_piv)\\nana.performance_table()', u'data_train.spots_pd = pp.outlier_filtering(dat...rain_piv,data_test_piv)\\nana.performance_table()', u'def common_ligand_batches(train,test):\\n    re...#data_train_cq.spots_pd[\"Ligand Batch\"].unique()', u'data_train_piv = data_train_cq._pivot_table(da...ble(data_test_cq.generate_data_for_fitting(100))', u'data_test_piv', u'\\nana = a.Analysis(data_train_piv,data_test_piv)\\nana.performance_table()', u'#data_test_piv', u'from sklearn.preprocessing import Imputer\\n\\nd...data), index=data.index, columns = data.columns)', u'\\n\\ndata_train_piv = data_train._pivot_table(d...impute(data_test_piv))\\n#ana.performance_table()', u'\\n\\ndata_train_piv = data_train._pivot_table(d...,impute(data_test_piv))\\nana.performance_table()', u'data_train_piv = data_train_cq._pivot_table(da...,impute(data_test_piv))\\nana.performance_table()', ...], 'Out': {3:      Ligand Batch  Ligand Batch Concentration   ...    1  \n1665      1  \n1680      1  \n1695      1  , 7:                 Name  unweighted accuracy  true ...   20.876494  \n5      79.411765       20.588235  , 8:                 Name  unweighted accuracy  true ...   21.625544  \n5      85.848319       14.151681  , 9:                 Name  unweighted accuracy  true ...   25.995949  \n5      82.805430       17.194570  , 10:                 Name  unweighted accuracy  true ...   25.575279  \n5      86.280488       13.719512  , 13: Ligand Batch                                    ... 99        7346.236593  \n\n[400 rows x 84 columns], 14:                 Name  unweighted accuracy  true ...   22.360248  \n5      76.903974       23.096026  , 18:                 Name  unweighted accuracy  true ...   25.755585  \n5      80.855693       19.144307  , 19:                 Name  unweighted accuracy  true ...   21.583851  \n5      80.098280       19.901720  , 20: Ligand Batch                                    ... 99        7118.990930  \n\n[400 rows x 84 columns], ...}, 'Spot': <class 'flutype.models.Spot'>, '_':                 Name  unweighted accuracy  true ...   25.708502  \n5      83.246850       16.753150  , '_10':                 Name  unweighted accuracy  true ...   25.575279  \n5      86.280488       13.719512  , '_13': Ligand Batch                                    ... 99        7346.236593  \n\n[400 rows x 84 columns], '_14':                 Name  unweighted accuracy  true ...   22.360248  \n5      76.903974       23.096026  , '_18':                 Name  unweighted accuracy  true ...   25.755585  \n5      80.855693       19.144307  , ...}\n        self.user_ns = {'HTML': <class 'IPython.core.display.HTML'>, 'Imputer': <class 'sklearn.preprocessing.imputation.Imputer'>, 'In': ['', u'from __future__ import absolute_import, print_...ndjango.setup()\\nfrom flutype.models import Spot', u'cs_train = [\"slide_21\",\"slide_22\",\"slide_26\",\"...q = spots_test.filter(circle_quality__gte = 0.1)', u'sp = a.Data(spots_train).spots_pd\\nsp = sp[sp[...Batch\"] == \"Nenad\"].sort_values(by=\"Collection\")', u'#sp = a.Data(spots_train).spots_pd\\n#sp = sp[s...Batch\"] == \"Nenad\"].sort_values(by=\"Collection\")', u'#spots_train', u'data_train = a.Data(spots_train)\\ndata_test = ...n_cq.spots_pd),len(data_train_outlier.spots_pd))', u'data_train_piv = data_train._pivot_table(data_...rain_piv,data_test_piv)\\nana.performance_table()', u'data_train.spots_pd = pp.normalize_on_ligand_b...rain_piv,data_test_piv)\\nana.performance_table()', u'data_train.spots_pd = pp.outlier_filtering(dat...rain_piv,data_test_piv)\\nana.performance_table()', u'data_train.spots_pd = pp.outlier_filtering(dat...rain_piv,data_test_piv)\\nana.performance_table()', u'def common_ligand_batches(train,test):\\n    re...#data_train_cq.spots_pd[\"Ligand Batch\"].unique()', u'data_train_piv = data_train_cq._pivot_table(da...ble(data_test_cq.generate_data_for_fitting(100))', u'data_test_piv', u'\\nana = a.Analysis(data_train_piv,data_test_piv)\\nana.performance_table()', u'#data_test_piv', u'from sklearn.preprocessing import Imputer\\n\\nd...data), index=data.index, columns = data.columns)', u'\\n\\ndata_train_piv = data_train._pivot_table(d...impute(data_test_piv))\\n#ana.performance_table()', u'\\n\\ndata_train_piv = data_train._pivot_table(d...,impute(data_test_piv))\\nana.performance_table()', u'data_train_piv = data_train_cq._pivot_table(da...,impute(data_test_piv))\\nana.performance_table()', ...], 'Out': {3:      Ligand Batch  Ligand Batch Concentration   ...    1  \n1665      1  \n1680      1  \n1695      1  , 7:                 Name  unweighted accuracy  true ...   20.876494  \n5      79.411765       20.588235  , 8:                 Name  unweighted accuracy  true ...   21.625544  \n5      85.848319       14.151681  , 9:                 Name  unweighted accuracy  true ...   25.995949  \n5      82.805430       17.194570  , 10:                 Name  unweighted accuracy  true ...   25.575279  \n5      86.280488       13.719512  , 13: Ligand Batch                                    ... 99        7346.236593  \n\n[400 rows x 84 columns], 14:                 Name  unweighted accuracy  true ...   22.360248  \n5      76.903974       23.096026  , 18:                 Name  unweighted accuracy  true ...   25.755585  \n5      80.855693       19.144307  , 19:                 Name  unweighted accuracy  true ...   21.583851  \n5      80.098280       19.901720  , 20: Ligand Batch                                    ... 99        7118.990930  \n\n[400 rows x 84 columns], ...}, 'Spot': <class 'flutype.models.Spot'>, '_':                 Name  unweighted accuracy  true ...   25.708502  \n5      83.246850       16.753150  , '_10':                 Name  unweighted accuracy  true ...   25.575279  \n5      86.280488       13.719512  , '_13': Ligand Batch                                    ... 99        7346.236593  \n\n[400 rows x 84 columns], '_14':                 Name  unweighted accuracy  true ...   22.360248  \n5      76.903974       23.096026  , '_18':                 Name  unweighted accuracy  true ...   25.755585  \n5      80.855693       19.144307  , ...}\n   2883             finally:\n   2884                 # Reset our crash handler in place\n   2885                 sys.excepthook = old_excepthook\n   2886         except SystemExit as e:\n\n...........................................................................\n/home/janekg89/Develop/Pycharm_Projects/flutype_analyse_wepdata/notebooks/<ipython-input-43-445d39c05224> in <module>()\n      1 data_train_piv = data_train_cq._pivot_table(data_train_cq.generate_data_for_fitting(200))\n      2 data_test_piv = data_test_cq._pivot_table(data_test_cq.generate_data_for_fitting(100))\n      3 ana = a.Analysis(impute(data_train_piv),impute(data_test_piv))\n----> 4 ana.performance_table()\n\n...........................................................................\n/home/janekg89/Develop/Pycharm_Projects/flutype_analyse_wepdata/analysis.py in performance_table(self=<analysis.Analysis object>)\n    299 \n    300         multi_clfs = self.fit_classifiers()\n    301 \n    302         for multi_clf, name, i in zip(multi_clfs, self.classifier_names, range(len(self.classifier_names))):\n    303 \n--> 304                 TP, FP, TN, FN = self.perf_measure(self.y_validate, multi_clf.predict(self.validation_data))\n        TP = undefined\n        FP = undefined\n        TN = undefined\n        FN = undefined\n        self.perf_measure = <function perf_measure>\n        self.y_validate =      A/Brisbaine/59/2007(H1N1)-2018-03-20  \\\n0  ...                      1  \n\n[400 rows x 4 columns]\n        multi_clf.predict = <bound method MultiOutputClassifier.predict of M...       weights='uniform'),\n           n_jobs=-1)>\n        self.validation_data = Ligand Batch                                    ... 99        1488.488959  \n\n[400 rows x 82 columns]\n    305                 #In multi-label classification, this is the subset accuracy which is a harsh metric since you require for each sample that each label set be correctly predicted.\n    306                 unweighted_accuracy = 100 * multi_clf.score(self.validation_data, self.y_validate)\n    307                 true_positive = 100 * np.divide(np.float64(TP) , np.float64(TP + FP))\n    308                 false_positive = 100 * np.divide(np.float64(FP) , np.float64(TP + FP))\n\n...........................................................................\n/home/janekg89/Envs/flutype_webapp/local/lib/python2.7/site-packages/sklearn/multioutput.py in predict(self=MultiOutputClassifier(estimator=KNeighborsClassi...        weights='uniform'),\n           n_jobs=-1), X=array([[  1120.14058957,   1039.65467626,   1002...519.7444795 ,  10556.70309951,   1488.48895899]]))\n    191 \n    192         X = check_array(X, accept_sparse=True)\n    193 \n    194         y = Parallel(n_jobs=self.n_jobs)(\n    195             delayed(parallel_helper)(e, 'predict', X)\n--> 196             for e in self.estimators_)\n        self.estimators_ = [KNeighborsClassifier(algorithm='auto', leaf_size...n_neighbors=3, p=2,\n           weights='uniform'), KNeighborsClassifier(algorithm='auto', leaf_size...n_neighbors=3, p=2,\n           weights='uniform'), KNeighborsClassifier(algorithm='auto', leaf_size...n_neighbors=3, p=2,\n           weights='uniform'), KNeighborsClassifier(algorithm='auto', leaf_size...n_neighbors=3, p=2,\n           weights='uniform')]\n    197 \n    198         return np.asarray(y).T\n    199 \n    200 \n\n...........................................................................\n/home/janekg89/Envs/flutype_webapp/local/lib/python2.7/site-packages/sklearn/externals/joblib/parallel.py in __call__(self=Parallel(n_jobs=-1), iterable=<generator object <genexpr>>)\n    784             if pre_dispatch == \"all\" or n_jobs == 1:\n    785                 # The iterable was consumed all at once by the above for loop.\n    786                 # No need to wait for async callbacks to trigger to\n    787                 # consumption.\n    788                 self._iterating = False\n--> 789             self.retrieve()\n        self.retrieve = <bound method Parallel.retrieve of Parallel(n_jobs=-1)>\n    790             # Make sure that we get a last message telling us we are done\n    791             elapsed_time = time.time() - self._start_time\n    792             self._print('Done %3i out of %3i | elapsed: %s finished',\n    793                         (len(self._output), len(self._output),\n\n---------------------------------------------------------------------------\nSub-process traceback:\n---------------------------------------------------------------------------\nValueError                                         Fri Mar 23 11:30:30 2018\nPID: 10410     Python 2.7.12: /home/janekg89/Envs/flutype_webapp/bin/python\n...........................................................................\n/home/janekg89/Envs/flutype_webapp/local/lib/python2.7/site-packages/sklearn/externals/joblib/parallel.py in __call__(self=<sklearn.externals.joblib.parallel.BatchedCalls object>)\n    126     def __init__(self, iterator_slice):\n    127         self.items = list(iterator_slice)\n    128         self._size = len(self.items)\n    129 \n    130     def __call__(self):\n--> 131         return [func(*args, **kwargs) for func, args, kwargs in self.items]\n        func = <function parallel_helper>\n        args = (KNeighborsClassifier(algorithm='auto', leaf_size...n_neighbors=3, p=2,\n           weights='uniform'), 'predict', array([[  1120.14058957,   1039.65467626,   1002...519.7444795 ,  10556.70309951,   1488.48895899]]))\n        kwargs = {}\n        self.items = [(<function parallel_helper>, (KNeighborsClassifier(algorithm='auto', leaf_size...n_neighbors=3, p=2,\n           weights='uniform'), 'predict', array([[  1120.14058957,   1039.65467626,   1002...519.7444795 ,  10556.70309951,   1488.48895899]])), {})]\n    132 \n    133     def __len__(self):\n    134         return self._size\n    135 \n\n...........................................................................\n/home/janekg89/Envs/flutype_webapp/local/lib/python2.7/site-packages/sklearn/utils/fixes.py in parallel_helper(obj=KNeighborsClassifier(algorithm='auto', leaf_size...n_neighbors=3, p=2,\n           weights='uniform'), methodname='predict', *args=(array([[  1120.14058957,   1039.65467626,   1002...519.7444795 ,  10556.70309951,   1488.48895899]]),), **kwargs={})\n    150     from scipy.misc import comb, logsumexp  # noqa\n    151 \n    152 \n    153 def parallel_helper(obj, methodname, *args, **kwargs):\n    154     \"\"\"Workaround for Python 2 limitations of pickling instance methods\"\"\"\n--> 155     return getattr(obj, methodname)(*args, **kwargs)\n        obj = KNeighborsClassifier(algorithm='auto', leaf_size...n_neighbors=3, p=2,\n           weights='uniform')\n        methodname = 'predict'\n        args = (array([[  1120.14058957,   1039.65467626,   1002...519.7444795 ,  10556.70309951,   1488.48895899]]),)\n        kwargs = {}\n    156 \n    157 \n    158 if 'exist_ok' in signature(os.makedirs).parameters:\n    159     makedirs = os.makedirs\n\n...........................................................................\n/home/janekg89/Envs/flutype_webapp/local/lib/python2.7/site-packages/sklearn/neighbors/classification.py in predict(self=KNeighborsClassifier(algorithm='auto', leaf_size...n_neighbors=3, p=2,\n           weights='uniform'), X=array([[  1120.14058957,   1039.65467626,   1002...519.7444795 ,  10556.70309951,   1488.48895899]]))\n    140         y : array of shape [n_samples] or [n_samples, n_outputs]\n    141             Class labels for each data sample.\n    142         \"\"\"\n    143         X = check_array(X, accept_sparse='csr')\n    144 \n--> 145         neigh_dist, neigh_ind = self.kneighbors(X)\n        neigh_dist = undefined\n        neigh_ind = undefined\n        self.kneighbors = <bound method KNeighborsClassifier.kneighbors of..._neighbors=3, p=2,\n           weights='uniform')>\n        X = array([[  1120.14058957,   1039.65467626,   1002...519.7444795 ,  10556.70309951,   1488.48895899]])\n    146 \n    147         classes_ = self.classes_\n    148         _y = self._y\n    149         if not self.outputs_2d_:\n\n...........................................................................\n/home/janekg89/Envs/flutype_webapp/local/lib/python2.7/site-packages/sklearn/neighbors/base.py in kneighbors(self=KNeighborsClassifier(algorithm='auto', leaf_size...n_neighbors=3, p=2,\n           weights='uniform'), X=array([[  1120.14058957,   1039.65467626,   1002...519.7444795 ,  10556.70309951,   1488.48895899]]), n_neighbors=3, return_distance=True)\n    380                     \"%s does not work with sparse matrices. Densify the data, \"\n    381                     \"or set algorithm='brute'\" % self._fit_method)\n    382             result = Parallel(n_jobs, backend='threading')(\n    383                 delayed(self._tree.query, check_pickle=False)(\n    384                     X[s], n_neighbors, return_distance)\n--> 385                 for s in gen_even_slices(X.shape[0], n_jobs)\n        X.shape = (400, 82)\n        n_jobs = 1\n    386             )\n    387             if return_distance:\n    388                 dist, neigh_ind = tuple(zip(*result))\n    389                 result = np.vstack(dist), np.vstack(neigh_ind)\n\n...........................................................................\n/home/janekg89/Envs/flutype_webapp/local/lib/python2.7/site-packages/sklearn/externals/joblib/parallel.py in __call__(self=Parallel(n_jobs=1), iterable=<generator object <genexpr>>)\n    774         self.n_completed_tasks = 0\n    775         try:\n    776             # Only set self._iterating to True if at least a batch\n    777             # was dispatched. In particular this covers the edge\n    778             # case of Parallel used with an exhausted iterator.\n--> 779             while self.dispatch_one_batch(iterator):\n        self.dispatch_one_batch = <bound method Parallel.dispatch_one_batch of Parallel(n_jobs=1)>\n        iterator = <generator object <genexpr>>\n    780                 self._iterating = True\n    781             else:\n    782                 self._iterating = False\n    783 \n\n...........................................................................\n/home/janekg89/Envs/flutype_webapp/local/lib/python2.7/site-packages/sklearn/externals/joblib/parallel.py in dispatch_one_batch(self=Parallel(n_jobs=1), iterator=<generator object <genexpr>>)\n    620             tasks = BatchedCalls(itertools.islice(iterator, batch_size))\n    621             if len(tasks) == 0:\n    622                 # No more tasks available in the iterator: tell caller to stop.\n    623                 return False\n    624             else:\n--> 625                 self._dispatch(tasks)\n        self._dispatch = <bound method Parallel._dispatch of Parallel(n_jobs=1)>\n        tasks = <sklearn.externals.joblib.parallel.BatchedCalls object>\n    626                 return True\n    627 \n    628     def _print(self, msg, msg_args):\n    629         \"\"\"Display the message on stout or stderr depending on verbosity\"\"\"\n\n...........................................................................\n/home/janekg89/Envs/flutype_webapp/local/lib/python2.7/site-packages/sklearn/externals/joblib/parallel.py in _dispatch(self=Parallel(n_jobs=1), batch=<sklearn.externals.joblib.parallel.BatchedCalls object>)\n    583         self.n_dispatched_tasks += len(batch)\n    584         self.n_dispatched_batches += 1\n    585 \n    586         dispatch_timestamp = time.time()\n    587         cb = BatchCompletionCallBack(dispatch_timestamp, len(batch), self)\n--> 588         job = self._backend.apply_async(batch, callback=cb)\n        job = undefined\n        self._backend.apply_async = <bound method SequentialBackend.apply_async of <...lib._parallel_backends.SequentialBackend object>>\n        batch = <sklearn.externals.joblib.parallel.BatchedCalls object>\n        cb = <sklearn.externals.joblib.parallel.BatchCompletionCallBack object>\n    589         self._jobs.append(job)\n    590 \n    591     def dispatch_next(self):\n    592         \"\"\"Dispatch more data for parallel processing\n\n...........................................................................\n/home/janekg89/Envs/flutype_webapp/local/lib/python2.7/site-packages/sklearn/externals/joblib/_parallel_backends.py in apply_async(self=<sklearn.externals.joblib._parallel_backends.SequentialBackend object>, func=<sklearn.externals.joblib.parallel.BatchedCalls object>, callback=<sklearn.externals.joblib.parallel.BatchCompletionCallBack object>)\n    106             raise ValueError('n_jobs == 0 in Parallel has no meaning')\n    107         return 1\n    108 \n    109     def apply_async(self, func, callback=None):\n    110         \"\"\"Schedule a func to be run\"\"\"\n--> 111         result = ImmediateResult(func)\n        result = undefined\n        func = <sklearn.externals.joblib.parallel.BatchedCalls object>\n    112         if callback:\n    113             callback(result)\n    114         return result\n    115 \n\n...........................................................................\n/home/janekg89/Envs/flutype_webapp/local/lib/python2.7/site-packages/sklearn/externals/joblib/_parallel_backends.py in __init__(self=<sklearn.externals.joblib._parallel_backends.ImmediateResult object>, batch=<sklearn.externals.joblib.parallel.BatchedCalls object>)\n    327 \n    328 class ImmediateResult(object):\n    329     def __init__(self, batch):\n    330         # Don't delay the application, to avoid keeping the input\n    331         # arguments in memory\n--> 332         self.results = batch()\n        self.results = undefined\n        batch = <sklearn.externals.joblib.parallel.BatchedCalls object>\n    333 \n    334     def get(self):\n    335         return self.results\n    336 \n\n...........................................................................\n/home/janekg89/Envs/flutype_webapp/local/lib/python2.7/site-packages/sklearn/externals/joblib/parallel.py in __call__(self=<sklearn.externals.joblib.parallel.BatchedCalls object>)\n    126     def __init__(self, iterator_slice):\n    127         self.items = list(iterator_slice)\n    128         self._size = len(self.items)\n    129 \n    130     def __call__(self):\n--> 131         return [func(*args, **kwargs) for func, args, kwargs in self.items]\n        func = <built-in method query of sklearn.neighbors.kd_tree.BinaryTree object>\n        args = (array([[  1120.14058957,   1039.65467626,   1002...519.7444795 ,  10556.70309951,   1488.48895899]]), 3, True)\n        kwargs = {}\n        self.items = [(<built-in method query of sklearn.neighbors.kd_tree.BinaryTree object>, (array([[  1120.14058957,   1039.65467626,   1002...519.7444795 ,  10556.70309951,   1488.48895899]]), 3, True), {})]\n    132 \n    133     def __len__(self):\n    134         return self._size\n    135 \n\n...........................................................................\n/home/janekg89/Envs/flutype_webapp/local/lib/python2.7/site-packages/sklearn/neighbors/kd_tree.so in sklearn.neighbors.kd_tree.BinaryTree.query()\n\nValueError: query data dimension must match training data dimension\n___________________________________________________________________________",
     "output_type": "error",
     "traceback": [
      "\u001b[0;31m---------------------------------------------------------------------------\u001b[0m",
      "\u001b[0;31mJoblibValueError\u001b[0m                          Traceback (most recent call last)",
      "\u001b[0;32m<ipython-input-43-445d39c05224>\u001b[0m in \u001b[0;36m<module>\u001b[0;34m()\u001b[0m\n\u001b[1;32m      2\u001b[0m \u001b[0mdata_test_piv\u001b[0m \u001b[0;34m=\u001b[0m \u001b[0mdata_test_cq\u001b[0m\u001b[0;34m.\u001b[0m\u001b[0m_pivot_table\u001b[0m\u001b[0;34m(\u001b[0m\u001b[0mdata_test_cq\u001b[0m\u001b[0;34m.\u001b[0m\u001b[0mgenerate_data_for_fitting\u001b[0m\u001b[0;34m(\u001b[0m\u001b[0;36m100\u001b[0m\u001b[0;34m)\u001b[0m\u001b[0;34m)\u001b[0m\u001b[0;34m\u001b[0m\u001b[0m\n\u001b[1;32m      3\u001b[0m \u001b[0mana\u001b[0m \u001b[0;34m=\u001b[0m \u001b[0ma\u001b[0m\u001b[0;34m.\u001b[0m\u001b[0mAnalysis\u001b[0m\u001b[0;34m(\u001b[0m\u001b[0mimpute\u001b[0m\u001b[0;34m(\u001b[0m\u001b[0mdata_train_piv\u001b[0m\u001b[0;34m)\u001b[0m\u001b[0;34m,\u001b[0m\u001b[0mimpute\u001b[0m\u001b[0;34m(\u001b[0m\u001b[0mdata_test_piv\u001b[0m\u001b[0;34m)\u001b[0m\u001b[0;34m)\u001b[0m\u001b[0;34m\u001b[0m\u001b[0m\n\u001b[0;32m----> 4\u001b[0;31m \u001b[0mana\u001b[0m\u001b[0;34m.\u001b[0m\u001b[0mperformance_table\u001b[0m\u001b[0;34m(\u001b[0m\u001b[0;34m)\u001b[0m\u001b[0;34m\u001b[0m\u001b[0m\n\u001b[0m",
      "\u001b[0;32m/home/janekg89/Develop/Pycharm_Projects/flutype_analyse_wepdata/analysis.pyc\u001b[0m in \u001b[0;36mperformance_table\u001b[0;34m(self)\u001b[0m\n\u001b[1;32m    302\u001b[0m         \u001b[0;32mfor\u001b[0m \u001b[0mmulti_clf\u001b[0m\u001b[0;34m,\u001b[0m \u001b[0mname\u001b[0m\u001b[0;34m,\u001b[0m \u001b[0mi\u001b[0m \u001b[0;32min\u001b[0m \u001b[0mzip\u001b[0m\u001b[0;34m(\u001b[0m\u001b[0mmulti_clfs\u001b[0m\u001b[0;34m,\u001b[0m \u001b[0mself\u001b[0m\u001b[0;34m.\u001b[0m\u001b[0mclassifier_names\u001b[0m\u001b[0;34m,\u001b[0m \u001b[0mrange\u001b[0m\u001b[0;34m(\u001b[0m\u001b[0mlen\u001b[0m\u001b[0;34m(\u001b[0m\u001b[0mself\u001b[0m\u001b[0;34m.\u001b[0m\u001b[0mclassifier_names\u001b[0m\u001b[0;34m)\u001b[0m\u001b[0;34m)\u001b[0m\u001b[0;34m)\u001b[0m\u001b[0;34m:\u001b[0m\u001b[0;34m\u001b[0m\u001b[0m\n\u001b[1;32m    303\u001b[0m \u001b[0;34m\u001b[0m\u001b[0m\n\u001b[0;32m--> 304\u001b[0;31m                 \u001b[0mTP\u001b[0m\u001b[0;34m,\u001b[0m \u001b[0mFP\u001b[0m\u001b[0;34m,\u001b[0m \u001b[0mTN\u001b[0m\u001b[0;34m,\u001b[0m \u001b[0mFN\u001b[0m \u001b[0;34m=\u001b[0m \u001b[0mself\u001b[0m\u001b[0;34m.\u001b[0m\u001b[0mperf_measure\u001b[0m\u001b[0;34m(\u001b[0m\u001b[0mself\u001b[0m\u001b[0;34m.\u001b[0m\u001b[0my_validate\u001b[0m\u001b[0;34m,\u001b[0m \u001b[0mmulti_clf\u001b[0m\u001b[0;34m.\u001b[0m\u001b[0mpredict\u001b[0m\u001b[0;34m(\u001b[0m\u001b[0mself\u001b[0m\u001b[0;34m.\u001b[0m\u001b[0mvalidation_data\u001b[0m\u001b[0;34m)\u001b[0m\u001b[0;34m)\u001b[0m\u001b[0;34m\u001b[0m\u001b[0m\n\u001b[0m\u001b[1;32m    305\u001b[0m                 \u001b[0;31m#In multi-label classification, this is the subset accuracy which is a harsh metric since you require for each sample that each label set be correctly predicted.\u001b[0m\u001b[0;34m\u001b[0m\u001b[0;34m\u001b[0m\u001b[0m\n\u001b[1;32m    306\u001b[0m                 \u001b[0munweighted_accuracy\u001b[0m \u001b[0;34m=\u001b[0m \u001b[0;36m100\u001b[0m \u001b[0;34m*\u001b[0m \u001b[0mmulti_clf\u001b[0m\u001b[0;34m.\u001b[0m\u001b[0mscore\u001b[0m\u001b[0;34m(\u001b[0m\u001b[0mself\u001b[0m\u001b[0;34m.\u001b[0m\u001b[0mvalidation_data\u001b[0m\u001b[0;34m,\u001b[0m \u001b[0mself\u001b[0m\u001b[0;34m.\u001b[0m\u001b[0my_validate\u001b[0m\u001b[0;34m)\u001b[0m\u001b[0;34m\u001b[0m\u001b[0m\n",
      "\u001b[0;32m/home/janekg89/Envs/flutype_webapp/local/lib/python2.7/site-packages/sklearn/multioutput.pyc\u001b[0m in \u001b[0;36mpredict\u001b[0;34m(self, X)\u001b[0m\n\u001b[1;32m    194\u001b[0m         y = Parallel(n_jobs=self.n_jobs)(\n\u001b[1;32m    195\u001b[0m             \u001b[0mdelayed\u001b[0m\u001b[0;34m(\u001b[0m\u001b[0mparallel_helper\u001b[0m\u001b[0;34m)\u001b[0m\u001b[0;34m(\u001b[0m\u001b[0me\u001b[0m\u001b[0;34m,\u001b[0m \u001b[0;34m'predict'\u001b[0m\u001b[0;34m,\u001b[0m \u001b[0mX\u001b[0m\u001b[0;34m)\u001b[0m\u001b[0;34m\u001b[0m\u001b[0m\n\u001b[0;32m--> 196\u001b[0;31m             for e in self.estimators_)\n\u001b[0m\u001b[1;32m    197\u001b[0m \u001b[0;34m\u001b[0m\u001b[0m\n\u001b[1;32m    198\u001b[0m         \u001b[0;32mreturn\u001b[0m \u001b[0mnp\u001b[0m\u001b[0;34m.\u001b[0m\u001b[0masarray\u001b[0m\u001b[0;34m(\u001b[0m\u001b[0my\u001b[0m\u001b[0;34m)\u001b[0m\u001b[0;34m.\u001b[0m\u001b[0mT\u001b[0m\u001b[0;34m\u001b[0m\u001b[0m\n",
      "\u001b[0;32m/home/janekg89/Envs/flutype_webapp/local/lib/python2.7/site-packages/sklearn/externals/joblib/parallel.pyc\u001b[0m in \u001b[0;36m__call__\u001b[0;34m(self, iterable)\u001b[0m\n\u001b[1;32m    787\u001b[0m                 \u001b[0;31m# consumption.\u001b[0m\u001b[0;34m\u001b[0m\u001b[0;34m\u001b[0m\u001b[0m\n\u001b[1;32m    788\u001b[0m                 \u001b[0mself\u001b[0m\u001b[0;34m.\u001b[0m\u001b[0m_iterating\u001b[0m \u001b[0;34m=\u001b[0m \u001b[0mFalse\u001b[0m\u001b[0;34m\u001b[0m\u001b[0m\n\u001b[0;32m--> 789\u001b[0;31m             \u001b[0mself\u001b[0m\u001b[0;34m.\u001b[0m\u001b[0mretrieve\u001b[0m\u001b[0;34m(\u001b[0m\u001b[0;34m)\u001b[0m\u001b[0;34m\u001b[0m\u001b[0m\n\u001b[0m\u001b[1;32m    790\u001b[0m             \u001b[0;31m# Make sure that we get a last message telling us we are done\u001b[0m\u001b[0;34m\u001b[0m\u001b[0;34m\u001b[0m\u001b[0m\n\u001b[1;32m    791\u001b[0m             \u001b[0melapsed_time\u001b[0m \u001b[0;34m=\u001b[0m \u001b[0mtime\u001b[0m\u001b[0;34m.\u001b[0m\u001b[0mtime\u001b[0m\u001b[0;34m(\u001b[0m\u001b[0;34m)\u001b[0m \u001b[0;34m-\u001b[0m \u001b[0mself\u001b[0m\u001b[0;34m.\u001b[0m\u001b[0m_start_time\u001b[0m\u001b[0;34m\u001b[0m\u001b[0m\n",
      "\u001b[0;32m/home/janekg89/Envs/flutype_webapp/local/lib/python2.7/site-packages/sklearn/externals/joblib/parallel.pyc\u001b[0m in \u001b[0;36mretrieve\u001b[0;34m(self)\u001b[0m\n\u001b[1;32m    738\u001b[0m                     \u001b[0mexception\u001b[0m \u001b[0;34m=\u001b[0m \u001b[0mexception_type\u001b[0m\u001b[0;34m(\u001b[0m\u001b[0mreport\u001b[0m\u001b[0;34m)\u001b[0m\u001b[0;34m\u001b[0m\u001b[0m\n\u001b[1;32m    739\u001b[0m \u001b[0;34m\u001b[0m\u001b[0m\n\u001b[0;32m--> 740\u001b[0;31m                     \u001b[0;32mraise\u001b[0m \u001b[0mexception\u001b[0m\u001b[0;34m\u001b[0m\u001b[0m\n\u001b[0m\u001b[1;32m    741\u001b[0m \u001b[0;34m\u001b[0m\u001b[0m\n\u001b[1;32m    742\u001b[0m     \u001b[0;32mdef\u001b[0m \u001b[0m__call__\u001b[0m\u001b[0;34m(\u001b[0m\u001b[0mself\u001b[0m\u001b[0;34m,\u001b[0m \u001b[0miterable\u001b[0m\u001b[0;34m)\u001b[0m\u001b[0;34m:\u001b[0m\u001b[0;34m\u001b[0m\u001b[0m\n",
      "\u001b[0;31mJoblibValueError\u001b[0m: JoblibValueError\n___________________________________________________________________________\nMultiprocessing exception:\n...........................................................................\n/usr/lib/python2.7/runpy.py in _run_module_as_main(mod_name='ipykernel_launcher', alter_argv=1)\n    169     pkg_name = mod_name.rpartition('.')[0]\n    170     main_globals = sys.modules[\"__main__\"].__dict__\n    171     if alter_argv:\n    172         sys.argv[0] = fname\n    173     return _run_code(code, main_globals, None,\n--> 174                      \"__main__\", fname, loader, pkg_name)\n        fname = '/home/janekg89/Envs/flutype_webapp/lib/python2.7/site-packages/ipykernel_launcher.py'\n        loader = <pkgutil.ImpLoader instance>\n        pkg_name = ''\n    175 \n    176 def run_module(mod_name, init_globals=None,\n    177                run_name=None, alter_sys=False):\n    178     \"\"\"Execute a module's code without importing it\n\n...........................................................................\n/usr/lib/python2.7/runpy.py in _run_code(code=<code object <module> at 0x7f22f5b3c1b0, file \"/...2.7/site-packages/ipykernel_launcher.py\", line 5>, run_globals={'__builtins__': <module '__builtin__' (built-in)>, '__doc__': 'Entry point for launching an IPython kernel.\\n\\nTh...orts until\\nafter removing the cwd from sys.path.\\n', '__file__': '/home/janekg89/Envs/flutype_webapp/lib/python2.7/site-packages/ipykernel_launcher.py', '__loader__': <pkgutil.ImpLoader instance>, '__name__': '__main__', '__package__': '', 'app': <module 'ipykernel.kernelapp' from '/home/janekg...python2.7/site-packages/ipykernel/kernelapp.pyc'>, 'sys': <module 'sys' (built-in)>}, init_globals=None, mod_name='__main__', mod_fname='/home/janekg89/Envs/flutype_webapp/lib/python2.7/site-packages/ipykernel_launcher.py', mod_loader=<pkgutil.ImpLoader instance>, pkg_name='')\n     67         run_globals.update(init_globals)\n     68     run_globals.update(__name__ = mod_name,\n     69                        __file__ = mod_fname,\n     70                        __loader__ = mod_loader,\n     71                        __package__ = pkg_name)\n---> 72     exec code in run_globals\n        code = <code object <module> at 0x7f22f5b3c1b0, file \"/...2.7/site-packages/ipykernel_launcher.py\", line 5>\n        run_globals = {'__builtins__': <module '__builtin__' (built-in)>, '__doc__': 'Entry point for launching an IPython kernel.\\n\\nTh...orts until\\nafter removing the cwd from sys.path.\\n', '__file__': '/home/janekg89/Envs/flutype_webapp/lib/python2.7/site-packages/ipykernel_launcher.py', '__loader__': <pkgutil.ImpLoader instance>, '__name__': '__main__', '__package__': '', 'app': <module 'ipykernel.kernelapp' from '/home/janekg...python2.7/site-packages/ipykernel/kernelapp.pyc'>, 'sys': <module 'sys' (built-in)>}\n     73     return run_globals\n     74 \n     75 def _run_module_code(code, init_globals=None,\n     76                     mod_name=None, mod_fname=None,\n\n...........................................................................\n/home/janekg89/Envs/flutype_webapp/lib/python2.7/site-packages/ipykernel_launcher.py in <module>()\n     11     # This is added back by InteractiveShellApp.init_path()\n     12     if sys.path[0] == '':\n     13         del sys.path[0]\n     14 \n     15     from ipykernel import kernelapp as app\n---> 16     app.launch_new_instance()\n\n...........................................................................\n/home/janekg89/Envs/flutype_webapp/local/lib/python2.7/site-packages/traitlets/config/application.py in launch_instance(cls=<class 'ipykernel.kernelapp.IPKernelApp'>, argv=None, **kwargs={})\n    653 \n    654         If a global instance already exists, this reinitializes and starts it\n    655         \"\"\"\n    656         app = cls.instance(**kwargs)\n    657         app.initialize(argv)\n--> 658         app.start()\n        app.start = <bound method IPKernelApp.start of <ipykernel.kernelapp.IPKernelApp object>>\n    659 \n    660 #-----------------------------------------------------------------------------\n    661 # utility functions, for convenience\n    662 #-----------------------------------------------------------------------------\n\n...........................................................................\n/home/janekg89/Envs/flutype_webapp/local/lib/python2.7/site-packages/ipykernel/kernelapp.py in start(self=<ipykernel.kernelapp.IPKernelApp object>)\n    472             return self.subapp.start()\n    473         if self.poller is not None:\n    474             self.poller.start()\n    475         self.kernel.start()\n    476         try:\n--> 477             ioloop.IOLoop.instance().start()\n    478         except KeyboardInterrupt:\n    479             pass\n    480 \n    481 launch_new_instance = IPKernelApp.launch_instance\n\n...........................................................................\n/home/janekg89/Envs/flutype_webapp/local/lib/python2.7/site-packages/zmq/eventloop/ioloop.py in start(self=<zmq.eventloop.ioloop.ZMQIOLoop object>)\n    172             )\n    173         return loop\n    174     \n    175     def start(self):\n    176         try:\n--> 177             super(ZMQIOLoop, self).start()\n        self.start = <bound method ZMQIOLoop.start of <zmq.eventloop.ioloop.ZMQIOLoop object>>\n    178         except ZMQError as e:\n    179             if e.errno == ETERM:\n    180                 # quietly return on ETERM\n    181                 pass\n\n...........................................................................\n/home/janekg89/Envs/flutype_webapp/local/lib/python2.7/site-packages/tornado/ioloop.py in start(self=<zmq.eventloop.ioloop.ZMQIOLoop object>)\n    883                 self._events.update(event_pairs)\n    884                 while self._events:\n    885                     fd, events = self._events.popitem()\n    886                     try:\n    887                         fd_obj, handler_func = self._handlers[fd]\n--> 888                         handler_func(fd_obj, events)\n        handler_func = <function null_wrapper>\n        fd_obj = <zmq.sugar.socket.Socket object>\n        events = 1\n    889                     except (OSError, IOError) as e:\n    890                         if errno_from_exception(e) == errno.EPIPE:\n    891                             # Happens when the client closes the connection\n    892                             pass\n\n...........................................................................\n/home/janekg89/Envs/flutype_webapp/local/lib/python2.7/site-packages/tornado/stack_context.py in null_wrapper(*args=(<zmq.sugar.socket.Socket object>, 1), **kwargs={})\n    272         # Fast path when there are no active contexts.\n    273         def null_wrapper(*args, **kwargs):\n    274             try:\n    275                 current_state = _state.contexts\n    276                 _state.contexts = cap_contexts[0]\n--> 277                 return fn(*args, **kwargs)\n        args = (<zmq.sugar.socket.Socket object>, 1)\n        kwargs = {}\n    278             finally:\n    279                 _state.contexts = current_state\n    280         null_wrapper._wrapped = True\n    281         return null_wrapper\n\n...........................................................................\n/home/janekg89/Envs/flutype_webapp/local/lib/python2.7/site-packages/zmq/eventloop/zmqstream.py in _handle_events(self=<zmq.eventloop.zmqstream.ZMQStream object>, fd=<zmq.sugar.socket.Socket object>, events=1)\n    435             # dispatch events:\n    436             if events & IOLoop.ERROR:\n    437                 gen_log.error(\"got POLLERR event on ZMQStream, which doesn't make sense\")\n    438                 return\n    439             if events & IOLoop.READ:\n--> 440                 self._handle_recv()\n        self._handle_recv = <bound method ZMQStream._handle_recv of <zmq.eventloop.zmqstream.ZMQStream object>>\n    441                 if not self.socket:\n    442                     return\n    443             if events & IOLoop.WRITE:\n    444                 self._handle_send()\n\n...........................................................................\n/home/janekg89/Envs/flutype_webapp/local/lib/python2.7/site-packages/zmq/eventloop/zmqstream.py in _handle_recv(self=<zmq.eventloop.zmqstream.ZMQStream object>)\n    467                 gen_log.error(\"RECV Error: %s\"%zmq.strerror(e.errno))\n    468         else:\n    469             if self._recv_callback:\n    470                 callback = self._recv_callback\n    471                 # self._recv_callback = None\n--> 472                 self._run_callback(callback, msg)\n        self._run_callback = <bound method ZMQStream._run_callback of <zmq.eventloop.zmqstream.ZMQStream object>>\n        callback = <function null_wrapper>\n        msg = [<zmq.sugar.frame.Frame object>, <zmq.sugar.frame.Frame object>, <zmq.sugar.frame.Frame object>, <zmq.sugar.frame.Frame object>, <zmq.sugar.frame.Frame object>, <zmq.sugar.frame.Frame object>, <zmq.sugar.frame.Frame object>]\n    473                 \n    474         # self.update_state()\n    475         \n    476 \n\n...........................................................................\n/home/janekg89/Envs/flutype_webapp/local/lib/python2.7/site-packages/zmq/eventloop/zmqstream.py in _run_callback(self=<zmq.eventloop.zmqstream.ZMQStream object>, callback=<function null_wrapper>, *args=([<zmq.sugar.frame.Frame object>, <zmq.sugar.frame.Frame object>, <zmq.sugar.frame.Frame object>, <zmq.sugar.frame.Frame object>, <zmq.sugar.frame.Frame object>, <zmq.sugar.frame.Frame object>, <zmq.sugar.frame.Frame object>],), **kwargs={})\n    409         close our socket.\"\"\"\n    410         try:\n    411             # Use a NullContext to ensure that all StackContexts are run\n    412             # inside our blanket exception handler rather than outside.\n    413             with stack_context.NullContext():\n--> 414                 callback(*args, **kwargs)\n        callback = <function null_wrapper>\n        args = ([<zmq.sugar.frame.Frame object>, <zmq.sugar.frame.Frame object>, <zmq.sugar.frame.Frame object>, <zmq.sugar.frame.Frame object>, <zmq.sugar.frame.Frame object>, <zmq.sugar.frame.Frame object>, <zmq.sugar.frame.Frame object>],)\n        kwargs = {}\n    415         except:\n    416             gen_log.error(\"Uncaught exception, closing connection.\",\n    417                           exc_info=True)\n    418             # Close the socket on an uncaught exception from a user callback\n\n...........................................................................\n/home/janekg89/Envs/flutype_webapp/local/lib/python2.7/site-packages/tornado/stack_context.py in null_wrapper(*args=([<zmq.sugar.frame.Frame object>, <zmq.sugar.frame.Frame object>, <zmq.sugar.frame.Frame object>, <zmq.sugar.frame.Frame object>, <zmq.sugar.frame.Frame object>, <zmq.sugar.frame.Frame object>, <zmq.sugar.frame.Frame object>],), **kwargs={})\n    272         # Fast path when there are no active contexts.\n    273         def null_wrapper(*args, **kwargs):\n    274             try:\n    275                 current_state = _state.contexts\n    276                 _state.contexts = cap_contexts[0]\n--> 277                 return fn(*args, **kwargs)\n        args = ([<zmq.sugar.frame.Frame object>, <zmq.sugar.frame.Frame object>, <zmq.sugar.frame.Frame object>, <zmq.sugar.frame.Frame object>, <zmq.sugar.frame.Frame object>, <zmq.sugar.frame.Frame object>, <zmq.sugar.frame.Frame object>],)\n        kwargs = {}\n    278             finally:\n    279                 _state.contexts = current_state\n    280         null_wrapper._wrapped = True\n    281         return null_wrapper\n\n...........................................................................\n/home/janekg89/Envs/flutype_webapp/local/lib/python2.7/site-packages/ipykernel/kernelbase.py in dispatcher(msg=[<zmq.sugar.frame.Frame object>, <zmq.sugar.frame.Frame object>, <zmq.sugar.frame.Frame object>, <zmq.sugar.frame.Frame object>, <zmq.sugar.frame.Frame object>, <zmq.sugar.frame.Frame object>, <zmq.sugar.frame.Frame object>])\n    278         if self.control_stream:\n    279             self.control_stream.on_recv(self.dispatch_control, copy=False)\n    280 \n    281         def make_dispatcher(stream):\n    282             def dispatcher(msg):\n--> 283                 return self.dispatch_shell(stream, msg)\n        msg = [<zmq.sugar.frame.Frame object>, <zmq.sugar.frame.Frame object>, <zmq.sugar.frame.Frame object>, <zmq.sugar.frame.Frame object>, <zmq.sugar.frame.Frame object>, <zmq.sugar.frame.Frame object>, <zmq.sugar.frame.Frame object>]\n    284             return dispatcher\n    285 \n    286         for s in self.shell_streams:\n    287             s.on_recv(make_dispatcher(s), copy=False)\n\n...........................................................................\n/home/janekg89/Envs/flutype_webapp/local/lib/python2.7/site-packages/ipykernel/kernelbase.py in dispatch_shell(self=<ipykernel.ipkernel.IPythonKernel object>, stream=<zmq.eventloop.zmqstream.ZMQStream object>, msg={'buffers': [], 'content': {u'allow_stdin': True, u'code': u'data_train_piv = data_train_cq._pivot_table(da...,impute(data_test_piv))\\nana.performance_table()', u'silent': False, u'stop_on_error': True, u'store_history': True, u'user_expressions': {}}, 'header': {u'date': datetime.datetime(2018, 3, 23, 11, 30, 26, 562638, tzinfo=tzlocal()), u'msg_id': u'40bc3b2e96084781bfb9bbe3b545089e', u'msg_type': u'execute_request', u'session': u'd53eb6b58ae14ffc8f469e8b9feb025c', u'username': u'username', u'version': u'5.2'}, 'metadata': {}, 'msg_id': u'40bc3b2e96084781bfb9bbe3b545089e', 'msg_type': u'execute_request', 'parent_header': {}})\n    230             self.log.warn(\"Unknown message type: %r\", msg_type)\n    231         else:\n    232             self.log.debug(\"%s: %s\", msg_type, msg)\n    233             self.pre_handler_hook()\n    234             try:\n--> 235                 handler(stream, idents, msg)\n        handler = <bound method IPythonKernel.execute_request of <ipykernel.ipkernel.IPythonKernel object>>\n        stream = <zmq.eventloop.zmqstream.ZMQStream object>\n        idents = ['d53eb6b58ae14ffc8f469e8b9feb025c']\n        msg = {'buffers': [], 'content': {u'allow_stdin': True, u'code': u'data_train_piv = data_train_cq._pivot_table(da...,impute(data_test_piv))\\nana.performance_table()', u'silent': False, u'stop_on_error': True, u'store_history': True, u'user_expressions': {}}, 'header': {u'date': datetime.datetime(2018, 3, 23, 11, 30, 26, 562638, tzinfo=tzlocal()), u'msg_id': u'40bc3b2e96084781bfb9bbe3b545089e', u'msg_type': u'execute_request', u'session': u'd53eb6b58ae14ffc8f469e8b9feb025c', u'username': u'username', u'version': u'5.2'}, 'metadata': {}, 'msg_id': u'40bc3b2e96084781bfb9bbe3b545089e', 'msg_type': u'execute_request', 'parent_header': {}}\n    236             except Exception:\n    237                 self.log.error(\"Exception in message handler:\", exc_info=True)\n    238             finally:\n    239                 self.post_handler_hook()\n\n...........................................................................\n/home/janekg89/Envs/flutype_webapp/local/lib/python2.7/site-packages/ipykernel/kernelbase.py in execute_request(self=<ipykernel.ipkernel.IPythonKernel object>, stream=<zmq.eventloop.zmqstream.ZMQStream object>, ident=['d53eb6b58ae14ffc8f469e8b9feb025c'], parent={'buffers': [], 'content': {u'allow_stdin': True, u'code': u'data_train_piv = data_train_cq._pivot_table(da...,impute(data_test_piv))\\nana.performance_table()', u'silent': False, u'stop_on_error': True, u'store_history': True, u'user_expressions': {}}, 'header': {u'date': datetime.datetime(2018, 3, 23, 11, 30, 26, 562638, tzinfo=tzlocal()), u'msg_id': u'40bc3b2e96084781bfb9bbe3b545089e', u'msg_type': u'execute_request', u'session': u'd53eb6b58ae14ffc8f469e8b9feb025c', u'username': u'username', u'version': u'5.2'}, 'metadata': {}, 'msg_id': u'40bc3b2e96084781bfb9bbe3b545089e', 'msg_type': u'execute_request', 'parent_header': {}})\n    394         if not silent:\n    395             self.execution_count += 1\n    396             self._publish_execute_input(code, parent, self.execution_count)\n    397 \n    398         reply_content = self.do_execute(code, silent, store_history,\n--> 399                                         user_expressions, allow_stdin)\n        user_expressions = {}\n        allow_stdin = True\n    400 \n    401         # Flush output before sending the reply.\n    402         sys.stdout.flush()\n    403         sys.stderr.flush()\n\n...........................................................................\n/home/janekg89/Envs/flutype_webapp/local/lib/python2.7/site-packages/ipykernel/ipkernel.py in do_execute(self=<ipykernel.ipkernel.IPythonKernel object>, code=u'data_train_piv = data_train_cq._pivot_table(da...,impute(data_test_piv))\\nana.performance_table()', silent=False, store_history=True, user_expressions={}, allow_stdin=True)\n    191 \n    192         self._forward_input(allow_stdin)\n    193 \n    194         reply_content = {}\n    195         try:\n--> 196             res = shell.run_cell(code, store_history=store_history, silent=silent)\n        res = undefined\n        shell.run_cell = <bound method ZMQInteractiveShell.run_cell of <ipykernel.zmqshell.ZMQInteractiveShell object>>\n        code = u'data_train_piv = data_train_cq._pivot_table(da...,impute(data_test_piv))\\nana.performance_table()'\n        store_history = True\n        silent = False\n    197         finally:\n    198             self._restore_input()\n    199 \n    200         if res.error_before_exec is not None:\n\n...........................................................................\n/home/janekg89/Envs/flutype_webapp/local/lib/python2.7/site-packages/ipykernel/zmqshell.py in run_cell(self=<ipykernel.zmqshell.ZMQInteractiveShell object>, *args=(u'data_train_piv = data_train_cq._pivot_table(da...,impute(data_test_piv))\\nana.performance_table()',), **kwargs={'silent': False, 'store_history': True})\n    528             )\n    529         self.payload_manager.write_payload(payload)\n    530 \n    531     def run_cell(self, *args, **kwargs):\n    532         self._last_traceback = None\n--> 533         return super(ZMQInteractiveShell, self).run_cell(*args, **kwargs)\n        self.run_cell = <bound method ZMQInteractiveShell.run_cell of <ipykernel.zmqshell.ZMQInteractiveShell object>>\n        args = (u'data_train_piv = data_train_cq._pivot_table(da...,impute(data_test_piv))\\nana.performance_table()',)\n        kwargs = {'silent': False, 'store_history': True}\n    534 \n    535     def _showtraceback(self, etype, evalue, stb):\n    536         # try to preserve ordering of tracebacks and print statements\n    537         sys.stdout.flush()\n\n...........................................................................\n/home/janekg89/Envs/flutype_webapp/local/lib/python2.7/site-packages/IPython/core/interactiveshell.py in run_cell(self=<ipykernel.zmqshell.ZMQInteractiveShell object>, raw_cell=u'data_train_piv = data_train_cq._pivot_table(da...,impute(data_test_piv))\\nana.performance_table()', store_history=True, silent=False, shell_futures=True)\n   2713                 self.displayhook.exec_result = result\n   2714 \n   2715                 # Execute the user code\n   2716                 interactivity = \"none\" if silent else self.ast_node_interactivity\n   2717                 has_raised = self.run_ast_nodes(code_ast.body, cell_name,\n-> 2718                    interactivity=interactivity, compiler=compiler, result=result)\n        interactivity = 'last_expr'\n        compiler = <IPython.core.compilerop.CachingCompiler instance>\n   2719                 \n   2720                 self.last_execution_succeeded = not has_raised\n   2721 \n   2722                 # Reset this so later displayed values do not modify the\n\n...........................................................................\n/home/janekg89/Envs/flutype_webapp/local/lib/python2.7/site-packages/IPython/core/interactiveshell.py in run_ast_nodes(self=<ipykernel.zmqshell.ZMQInteractiveShell object>, nodelist=[<_ast.Assign object>, <_ast.Assign object>, <_ast.Assign object>, <_ast.Expr object>], cell_name='<ipython-input-43-445d39c05224>', interactivity='last', compiler=<IPython.core.compilerop.CachingCompiler instance>, result=<ExecutionResult object at 7f22ab78bcd0, executi..._before_exec=None error_in_exec=None result=None>)\n   2823                     return True\n   2824 \n   2825             for i, node in enumerate(to_run_interactive):\n   2826                 mod = ast.Interactive([node])\n   2827                 code = compiler(mod, cell_name, \"single\")\n-> 2828                 if self.run_code(code, result):\n        self.run_code = <bound method ZMQInteractiveShell.run_code of <ipykernel.zmqshell.ZMQInteractiveShell object>>\n        code = <code object <module> at 0x7f22ab85dd30, file \"<ipython-input-43-445d39c05224>\", line 4>\n        result = <ExecutionResult object at 7f22ab78bcd0, executi..._before_exec=None error_in_exec=None result=None>\n   2829                     return True\n   2830 \n   2831             # Flush softspace\n   2832             if softspace(sys.stdout, 0):\n\n...........................................................................\n/home/janekg89/Envs/flutype_webapp/local/lib/python2.7/site-packages/IPython/core/interactiveshell.py in run_code(self=<ipykernel.zmqshell.ZMQInteractiveShell object>, code_obj=<code object <module> at 0x7f22ab85dd30, file \"<ipython-input-43-445d39c05224>\", line 4>, result=<ExecutionResult object at 7f22ab78bcd0, executi..._before_exec=None error_in_exec=None result=None>)\n   2877         outflag = 1  # happens in more places, so it's easier as default\n   2878         try:\n   2879             try:\n   2880                 self.hooks.pre_run_code_hook()\n   2881                 #rprint('Running code', repr(code_obj)) # dbg\n-> 2882                 exec(code_obj, self.user_global_ns, self.user_ns)\n        code_obj = <code object <module> at 0x7f22ab85dd30, file \"<ipython-input-43-445d39c05224>\", line 4>\n        self.user_global_ns = {'HTML': <class 'IPython.core.display.HTML'>, 'Imputer': <class 'sklearn.preprocessing.imputation.Imputer'>, 'In': ['', u'from __future__ import absolute_import, print_...ndjango.setup()\\nfrom flutype.models import Spot', u'cs_train = [\"slide_21\",\"slide_22\",\"slide_26\",\"...q = spots_test.filter(circle_quality__gte = 0.1)', u'sp = a.Data(spots_train).spots_pd\\nsp = sp[sp[...Batch\"] == \"Nenad\"].sort_values(by=\"Collection\")', u'#sp = a.Data(spots_train).spots_pd\\n#sp = sp[s...Batch\"] == \"Nenad\"].sort_values(by=\"Collection\")', u'#spots_train', u'data_train = a.Data(spots_train)\\ndata_test = ...n_cq.spots_pd),len(data_train_outlier.spots_pd))', u'data_train_piv = data_train._pivot_table(data_...rain_piv,data_test_piv)\\nana.performance_table()', u'data_train.spots_pd = pp.normalize_on_ligand_b...rain_piv,data_test_piv)\\nana.performance_table()', u'data_train.spots_pd = pp.outlier_filtering(dat...rain_piv,data_test_piv)\\nana.performance_table()', u'data_train.spots_pd = pp.outlier_filtering(dat...rain_piv,data_test_piv)\\nana.performance_table()', u'def common_ligand_batches(train,test):\\n    re...#data_train_cq.spots_pd[\"Ligand Batch\"].unique()', u'data_train_piv = data_train_cq._pivot_table(da...ble(data_test_cq.generate_data_for_fitting(100))', u'data_test_piv', u'\\nana = a.Analysis(data_train_piv,data_test_piv)\\nana.performance_table()', u'#data_test_piv', u'from sklearn.preprocessing import Imputer\\n\\nd...data), index=data.index, columns = data.columns)', u'\\n\\ndata_train_piv = data_train._pivot_table(d...impute(data_test_piv))\\n#ana.performance_table()', u'\\n\\ndata_train_piv = data_train._pivot_table(d...,impute(data_test_piv))\\nana.performance_table()', u'data_train_piv = data_train_cq._pivot_table(da...,impute(data_test_piv))\\nana.performance_table()', ...], 'Out': {3:      Ligand Batch  Ligand Batch Concentration   ...    1  \n1665      1  \n1680      1  \n1695      1  , 7:                 Name  unweighted accuracy  true ...   20.876494  \n5      79.411765       20.588235  , 8:                 Name  unweighted accuracy  true ...   21.625544  \n5      85.848319       14.151681  , 9:                 Name  unweighted accuracy  true ...   25.995949  \n5      82.805430       17.194570  , 10:                 Name  unweighted accuracy  true ...   25.575279  \n5      86.280488       13.719512  , 13: Ligand Batch                                    ... 99        7346.236593  \n\n[400 rows x 84 columns], 14:                 Name  unweighted accuracy  true ...   22.360248  \n5      76.903974       23.096026  , 18:                 Name  unweighted accuracy  true ...   25.755585  \n5      80.855693       19.144307  , 19:                 Name  unweighted accuracy  true ...   21.583851  \n5      80.098280       19.901720  , 20: Ligand Batch                                    ... 99        7118.990930  \n\n[400 rows x 84 columns], ...}, 'Spot': <class 'flutype.models.Spot'>, '_':                 Name  unweighted accuracy  true ...   25.708502  \n5      83.246850       16.753150  , '_10':                 Name  unweighted accuracy  true ...   25.575279  \n5      86.280488       13.719512  , '_13': Ligand Batch                                    ... 99        7346.236593  \n\n[400 rows x 84 columns], '_14':                 Name  unweighted accuracy  true ...   22.360248  \n5      76.903974       23.096026  , '_18':                 Name  unweighted accuracy  true ...   25.755585  \n5      80.855693       19.144307  , ...}\n        self.user_ns = {'HTML': <class 'IPython.core.display.HTML'>, 'Imputer': <class 'sklearn.preprocessing.imputation.Imputer'>, 'In': ['', u'from __future__ import absolute_import, print_...ndjango.setup()\\nfrom flutype.models import Spot', u'cs_train = [\"slide_21\",\"slide_22\",\"slide_26\",\"...q = spots_test.filter(circle_quality__gte = 0.1)', u'sp = a.Data(spots_train).spots_pd\\nsp = sp[sp[...Batch\"] == \"Nenad\"].sort_values(by=\"Collection\")', u'#sp = a.Data(spots_train).spots_pd\\n#sp = sp[s...Batch\"] == \"Nenad\"].sort_values(by=\"Collection\")', u'#spots_train', u'data_train = a.Data(spots_train)\\ndata_test = ...n_cq.spots_pd),len(data_train_outlier.spots_pd))', u'data_train_piv = data_train._pivot_table(data_...rain_piv,data_test_piv)\\nana.performance_table()', u'data_train.spots_pd = pp.normalize_on_ligand_b...rain_piv,data_test_piv)\\nana.performance_table()', u'data_train.spots_pd = pp.outlier_filtering(dat...rain_piv,data_test_piv)\\nana.performance_table()', u'data_train.spots_pd = pp.outlier_filtering(dat...rain_piv,data_test_piv)\\nana.performance_table()', u'def common_ligand_batches(train,test):\\n    re...#data_train_cq.spots_pd[\"Ligand Batch\"].unique()', u'data_train_piv = data_train_cq._pivot_table(da...ble(data_test_cq.generate_data_for_fitting(100))', u'data_test_piv', u'\\nana = a.Analysis(data_train_piv,data_test_piv)\\nana.performance_table()', u'#data_test_piv', u'from sklearn.preprocessing import Imputer\\n\\nd...data), index=data.index, columns = data.columns)', u'\\n\\ndata_train_piv = data_train._pivot_table(d...impute(data_test_piv))\\n#ana.performance_table()', u'\\n\\ndata_train_piv = data_train._pivot_table(d...,impute(data_test_piv))\\nana.performance_table()', u'data_train_piv = data_train_cq._pivot_table(da...,impute(data_test_piv))\\nana.performance_table()', ...], 'Out': {3:      Ligand Batch  Ligand Batch Concentration   ...    1  \n1665      1  \n1680      1  \n1695      1  , 7:                 Name  unweighted accuracy  true ...   20.876494  \n5      79.411765       20.588235  , 8:                 Name  unweighted accuracy  true ...   21.625544  \n5      85.848319       14.151681  , 9:                 Name  unweighted accuracy  true ...   25.995949  \n5      82.805430       17.194570  , 10:                 Name  unweighted accuracy  true ...   25.575279  \n5      86.280488       13.719512  , 13: Ligand Batch                                    ... 99        7346.236593  \n\n[400 rows x 84 columns], 14:                 Name  unweighted accuracy  true ...   22.360248  \n5      76.903974       23.096026  , 18:                 Name  unweighted accuracy  true ...   25.755585  \n5      80.855693       19.144307  , 19:                 Name  unweighted accuracy  true ...   21.583851  \n5      80.098280       19.901720  , 20: Ligand Batch                                    ... 99        7118.990930  \n\n[400 rows x 84 columns], ...}, 'Spot': <class 'flutype.models.Spot'>, '_':                 Name  unweighted accuracy  true ...   25.708502  \n5      83.246850       16.753150  , '_10':                 Name  unweighted accuracy  true ...   25.575279  \n5      86.280488       13.719512  , '_13': Ligand Batch                                    ... 99        7346.236593  \n\n[400 rows x 84 columns], '_14':                 Name  unweighted accuracy  true ...   22.360248  \n5      76.903974       23.096026  , '_18':                 Name  unweighted accuracy  true ...   25.755585  \n5      80.855693       19.144307  , ...}\n   2883             finally:\n   2884                 # Reset our crash handler in place\n   2885                 sys.excepthook = old_excepthook\n   2886         except SystemExit as e:\n\n...........................................................................\n/home/janekg89/Develop/Pycharm_Projects/flutype_analyse_wepdata/notebooks/<ipython-input-43-445d39c05224> in <module>()\n      1 data_train_piv = data_train_cq._pivot_table(data_train_cq.generate_data_for_fitting(200))\n      2 data_test_piv = data_test_cq._pivot_table(data_test_cq.generate_data_for_fitting(100))\n      3 ana = a.Analysis(impute(data_train_piv),impute(data_test_piv))\n----> 4 ana.performance_table()\n\n...........................................................................\n/home/janekg89/Develop/Pycharm_Projects/flutype_analyse_wepdata/analysis.py in performance_table(self=<analysis.Analysis object>)\n    299 \n    300         multi_clfs = self.fit_classifiers()\n    301 \n    302         for multi_clf, name, i in zip(multi_clfs, self.classifier_names, range(len(self.classifier_names))):\n    303 \n--> 304                 TP, FP, TN, FN = self.perf_measure(self.y_validate, multi_clf.predict(self.validation_data))\n        TP = undefined\n        FP = undefined\n        TN = undefined\n        FN = undefined\n        self.perf_measure = <function perf_measure>\n        self.y_validate =      A/Brisbaine/59/2007(H1N1)-2018-03-20  \\\n0  ...                      1  \n\n[400 rows x 4 columns]\n        multi_clf.predict = <bound method MultiOutputClassifier.predict of M...       weights='uniform'),\n           n_jobs=-1)>\n        self.validation_data = Ligand Batch                                    ... 99        1488.488959  \n\n[400 rows x 82 columns]\n    305                 #In multi-label classification, this is the subset accuracy which is a harsh metric since you require for each sample that each label set be correctly predicted.\n    306                 unweighted_accuracy = 100 * multi_clf.score(self.validation_data, self.y_validate)\n    307                 true_positive = 100 * np.divide(np.float64(TP) , np.float64(TP + FP))\n    308                 false_positive = 100 * np.divide(np.float64(FP) , np.float64(TP + FP))\n\n...........................................................................\n/home/janekg89/Envs/flutype_webapp/local/lib/python2.7/site-packages/sklearn/multioutput.py in predict(self=MultiOutputClassifier(estimator=KNeighborsClassi...        weights='uniform'),\n           n_jobs=-1), X=array([[  1120.14058957,   1039.65467626,   1002...519.7444795 ,  10556.70309951,   1488.48895899]]))\n    191 \n    192         X = check_array(X, accept_sparse=True)\n    193 \n    194         y = Parallel(n_jobs=self.n_jobs)(\n    195             delayed(parallel_helper)(e, 'predict', X)\n--> 196             for e in self.estimators_)\n        self.estimators_ = [KNeighborsClassifier(algorithm='auto', leaf_size...n_neighbors=3, p=2,\n           weights='uniform'), KNeighborsClassifier(algorithm='auto', leaf_size...n_neighbors=3, p=2,\n           weights='uniform'), KNeighborsClassifier(algorithm='auto', leaf_size...n_neighbors=3, p=2,\n           weights='uniform'), KNeighborsClassifier(algorithm='auto', leaf_size...n_neighbors=3, p=2,\n           weights='uniform')]\n    197 \n    198         return np.asarray(y).T\n    199 \n    200 \n\n...........................................................................\n/home/janekg89/Envs/flutype_webapp/local/lib/python2.7/site-packages/sklearn/externals/joblib/parallel.py in __call__(self=Parallel(n_jobs=-1), iterable=<generator object <genexpr>>)\n    784             if pre_dispatch == \"all\" or n_jobs == 1:\n    785                 # The iterable was consumed all at once by the above for loop.\n    786                 # No need to wait for async callbacks to trigger to\n    787                 # consumption.\n    788                 self._iterating = False\n--> 789             self.retrieve()\n        self.retrieve = <bound method Parallel.retrieve of Parallel(n_jobs=-1)>\n    790             # Make sure that we get a last message telling us we are done\n    791             elapsed_time = time.time() - self._start_time\n    792             self._print('Done %3i out of %3i | elapsed: %s finished',\n    793                         (len(self._output), len(self._output),\n\n---------------------------------------------------------------------------\nSub-process traceback:\n---------------------------------------------------------------------------\nValueError                                         Fri Mar 23 11:30:30 2018\nPID: 10410     Python 2.7.12: /home/janekg89/Envs/flutype_webapp/bin/python\n...........................................................................\n/home/janekg89/Envs/flutype_webapp/local/lib/python2.7/site-packages/sklearn/externals/joblib/parallel.py in __call__(self=<sklearn.externals.joblib.parallel.BatchedCalls object>)\n    126     def __init__(self, iterator_slice):\n    127         self.items = list(iterator_slice)\n    128         self._size = len(self.items)\n    129 \n    130     def __call__(self):\n--> 131         return [func(*args, **kwargs) for func, args, kwargs in self.items]\n        func = <function parallel_helper>\n        args = (KNeighborsClassifier(algorithm='auto', leaf_size...n_neighbors=3, p=2,\n           weights='uniform'), 'predict', array([[  1120.14058957,   1039.65467626,   1002...519.7444795 ,  10556.70309951,   1488.48895899]]))\n        kwargs = {}\n        self.items = [(<function parallel_helper>, (KNeighborsClassifier(algorithm='auto', leaf_size...n_neighbors=3, p=2,\n           weights='uniform'), 'predict', array([[  1120.14058957,   1039.65467626,   1002...519.7444795 ,  10556.70309951,   1488.48895899]])), {})]\n    132 \n    133     def __len__(self):\n    134         return self._size\n    135 \n\n...........................................................................\n/home/janekg89/Envs/flutype_webapp/local/lib/python2.7/site-packages/sklearn/utils/fixes.py in parallel_helper(obj=KNeighborsClassifier(algorithm='auto', leaf_size...n_neighbors=3, p=2,\n           weights='uniform'), methodname='predict', *args=(array([[  1120.14058957,   1039.65467626,   1002...519.7444795 ,  10556.70309951,   1488.48895899]]),), **kwargs={})\n    150     from scipy.misc import comb, logsumexp  # noqa\n    151 \n    152 \n    153 def parallel_helper(obj, methodname, *args, **kwargs):\n    154     \"\"\"Workaround for Python 2 limitations of pickling instance methods\"\"\"\n--> 155     return getattr(obj, methodname)(*args, **kwargs)\n        obj = KNeighborsClassifier(algorithm='auto', leaf_size...n_neighbors=3, p=2,\n           weights='uniform')\n        methodname = 'predict'\n        args = (array([[  1120.14058957,   1039.65467626,   1002...519.7444795 ,  10556.70309951,   1488.48895899]]),)\n        kwargs = {}\n    156 \n    157 \n    158 if 'exist_ok' in signature(os.makedirs).parameters:\n    159     makedirs = os.makedirs\n\n...........................................................................\n/home/janekg89/Envs/flutype_webapp/local/lib/python2.7/site-packages/sklearn/neighbors/classification.py in predict(self=KNeighborsClassifier(algorithm='auto', leaf_size...n_neighbors=3, p=2,\n           weights='uniform'), X=array([[  1120.14058957,   1039.65467626,   1002...519.7444795 ,  10556.70309951,   1488.48895899]]))\n    140         y : array of shape [n_samples] or [n_samples, n_outputs]\n    141             Class labels for each data sample.\n    142         \"\"\"\n    143         X = check_array(X, accept_sparse='csr')\n    144 \n--> 145         neigh_dist, neigh_ind = self.kneighbors(X)\n        neigh_dist = undefined\n        neigh_ind = undefined\n        self.kneighbors = <bound method KNeighborsClassifier.kneighbors of..._neighbors=3, p=2,\n           weights='uniform')>\n        X = array([[  1120.14058957,   1039.65467626,   1002...519.7444795 ,  10556.70309951,   1488.48895899]])\n    146 \n    147         classes_ = self.classes_\n    148         _y = self._y\n    149         if not self.outputs_2d_:\n\n...........................................................................\n/home/janekg89/Envs/flutype_webapp/local/lib/python2.7/site-packages/sklearn/neighbors/base.py in kneighbors(self=KNeighborsClassifier(algorithm='auto', leaf_size...n_neighbors=3, p=2,\n           weights='uniform'), X=array([[  1120.14058957,   1039.65467626,   1002...519.7444795 ,  10556.70309951,   1488.48895899]]), n_neighbors=3, return_distance=True)\n    380                     \"%s does not work with sparse matrices. Densify the data, \"\n    381                     \"or set algorithm='brute'\" % self._fit_method)\n    382             result = Parallel(n_jobs, backend='threading')(\n    383                 delayed(self._tree.query, check_pickle=False)(\n    384                     X[s], n_neighbors, return_distance)\n--> 385                 for s in gen_even_slices(X.shape[0], n_jobs)\n        X.shape = (400, 82)\n        n_jobs = 1\n    386             )\n    387             if return_distance:\n    388                 dist, neigh_ind = tuple(zip(*result))\n    389                 result = np.vstack(dist), np.vstack(neigh_ind)\n\n...........................................................................\n/home/janekg89/Envs/flutype_webapp/local/lib/python2.7/site-packages/sklearn/externals/joblib/parallel.py in __call__(self=Parallel(n_jobs=1), iterable=<generator object <genexpr>>)\n    774         self.n_completed_tasks = 0\n    775         try:\n    776             # Only set self._iterating to True if at least a batch\n    777             # was dispatched. In particular this covers the edge\n    778             # case of Parallel used with an exhausted iterator.\n--> 779             while self.dispatch_one_batch(iterator):\n        self.dispatch_one_batch = <bound method Parallel.dispatch_one_batch of Parallel(n_jobs=1)>\n        iterator = <generator object <genexpr>>\n    780                 self._iterating = True\n    781             else:\n    782                 self._iterating = False\n    783 \n\n...........................................................................\n/home/janekg89/Envs/flutype_webapp/local/lib/python2.7/site-packages/sklearn/externals/joblib/parallel.py in dispatch_one_batch(self=Parallel(n_jobs=1), iterator=<generator object <genexpr>>)\n    620             tasks = BatchedCalls(itertools.islice(iterator, batch_size))\n    621             if len(tasks) == 0:\n    622                 # No more tasks available in the iterator: tell caller to stop.\n    623                 return False\n    624             else:\n--> 625                 self._dispatch(tasks)\n        self._dispatch = <bound method Parallel._dispatch of Parallel(n_jobs=1)>\n        tasks = <sklearn.externals.joblib.parallel.BatchedCalls object>\n    626                 return True\n    627 \n    628     def _print(self, msg, msg_args):\n    629         \"\"\"Display the message on stout or stderr depending on verbosity\"\"\"\n\n...........................................................................\n/home/janekg89/Envs/flutype_webapp/local/lib/python2.7/site-packages/sklearn/externals/joblib/parallel.py in _dispatch(self=Parallel(n_jobs=1), batch=<sklearn.externals.joblib.parallel.BatchedCalls object>)\n    583         self.n_dispatched_tasks += len(batch)\n    584         self.n_dispatched_batches += 1\n    585 \n    586         dispatch_timestamp = time.time()\n    587         cb = BatchCompletionCallBack(dispatch_timestamp, len(batch), self)\n--> 588         job = self._backend.apply_async(batch, callback=cb)\n        job = undefined\n        self._backend.apply_async = <bound method SequentialBackend.apply_async of <...lib._parallel_backends.SequentialBackend object>>\n        batch = <sklearn.externals.joblib.parallel.BatchedCalls object>\n        cb = <sklearn.externals.joblib.parallel.BatchCompletionCallBack object>\n    589         self._jobs.append(job)\n    590 \n    591     def dispatch_next(self):\n    592         \"\"\"Dispatch more data for parallel processing\n\n...........................................................................\n/home/janekg89/Envs/flutype_webapp/local/lib/python2.7/site-packages/sklearn/externals/joblib/_parallel_backends.py in apply_async(self=<sklearn.externals.joblib._parallel_backends.SequentialBackend object>, func=<sklearn.externals.joblib.parallel.BatchedCalls object>, callback=<sklearn.externals.joblib.parallel.BatchCompletionCallBack object>)\n    106             raise ValueError('n_jobs == 0 in Parallel has no meaning')\n    107         return 1\n    108 \n    109     def apply_async(self, func, callback=None):\n    110         \"\"\"Schedule a func to be run\"\"\"\n--> 111         result = ImmediateResult(func)\n        result = undefined\n        func = <sklearn.externals.joblib.parallel.BatchedCalls object>\n    112         if callback:\n    113             callback(result)\n    114         return result\n    115 \n\n...........................................................................\n/home/janekg89/Envs/flutype_webapp/local/lib/python2.7/site-packages/sklearn/externals/joblib/_parallel_backends.py in __init__(self=<sklearn.externals.joblib._parallel_backends.ImmediateResult object>, batch=<sklearn.externals.joblib.parallel.BatchedCalls object>)\n    327 \n    328 class ImmediateResult(object):\n    329     def __init__(self, batch):\n    330         # Don't delay the application, to avoid keeping the input\n    331         # arguments in memory\n--> 332         self.results = batch()\n        self.results = undefined\n        batch = <sklearn.externals.joblib.parallel.BatchedCalls object>\n    333 \n    334     def get(self):\n    335         return self.results\n    336 \n\n...........................................................................\n/home/janekg89/Envs/flutype_webapp/local/lib/python2.7/site-packages/sklearn/externals/joblib/parallel.py in __call__(self=<sklearn.externals.joblib.parallel.BatchedCalls object>)\n    126     def __init__(self, iterator_slice):\n    127         self.items = list(iterator_slice)\n    128         self._size = len(self.items)\n    129 \n    130     def __call__(self):\n--> 131         return [func(*args, **kwargs) for func, args, kwargs in self.items]\n        func = <built-in method query of sklearn.neighbors.kd_tree.BinaryTree object>\n        args = (array([[  1120.14058957,   1039.65467626,   1002...519.7444795 ,  10556.70309951,   1488.48895899]]), 3, True)\n        kwargs = {}\n        self.items = [(<built-in method query of sklearn.neighbors.kd_tree.BinaryTree object>, (array([[  1120.14058957,   1039.65467626,   1002...519.7444795 ,  10556.70309951,   1488.48895899]]), 3, True), {})]\n    132 \n    133     def __len__(self):\n    134         return self._size\n    135 \n\n...........................................................................\n/home/janekg89/Envs/flutype_webapp/local/lib/python2.7/site-packages/sklearn/neighbors/kd_tree.so in sklearn.neighbors.kd_tree.BinaryTree.query()\n\nValueError: query data dimension must match training data dimension\n___________________________________________________________________________"
     ]
    }
   ],
   "source": [
    "data_train_piv = data_train_cq._pivot_table(data_train_cq.generate_data_for_fitting(200))\n",
    "data_test_piv = data_test_cq._pivot_table(data_test_cq.generate_data_for_fitting(100))\n",
    "ana = a.Analysis(impute(data_train_piv),impute(data_test_piv))\n",
    "ana.performance_table()"
   ]
  },
  {
   "cell_type": "code",
   "execution_count": null,
   "metadata": {
    "collapsed": true
   },
   "outputs": [],
   "source": []
  },
  {
   "cell_type": "code",
   "execution_count": 33,
   "metadata": {
    "collapsed": true
   },
   "outputs": [],
   "source": [
    "data_train.spots_pd = pp.normalize_on_ligand_batch(data_train.spots_pd)\n",
    "data_test.spots_pd = pp.normalize_on_ligand_batch(data_test.spots_pd)"
   ]
  },
  {
   "cell_type": "code",
   "execution_count": null,
   "metadata": {
    "collapsed": true
   },
   "outputs": [],
   "source": []
  },
  {
   "cell_type": "code",
   "execution_count": 220,
   "metadata": {},
   "outputs": [
    {
     "data": {
      "text/html": [
       "<div>\n",
       "<style>\n",
       "    .dataframe thead tr:only-child th {\n",
       "        text-align: right;\n",
       "    }\n",
       "\n",
       "    .dataframe thead th {\n",
       "        text-align: left;\n",
       "    }\n",
       "\n",
       "    .dataframe tbody tr th {\n",
       "        vertical-align: top;\n",
       "    }\n",
       "</style>\n",
       "<table border=\"1\" class=\"dataframe\">\n",
       "  <thead>\n",
       "    <tr style=\"text-align: right;\">\n",
       "      <th></th>\n",
       "      <th>Ligand Batch</th>\n",
       "      <th>Ligand Batch Concentration</th>\n",
       "      <th>Ligand</th>\n",
       "      <th>Analyte Batch</th>\n",
       "      <th>Analyte</th>\n",
       "      <th>Intensity</th>\n",
       "      <th>Std</th>\n",
       "      <th>Circle Quality</th>\n",
       "      <th>Collection</th>\n",
       "      <th>Row</th>\n",
       "      <th>Column</th>\n",
       "      <th>Block</th>\n",
       "    </tr>\n",
       "  </thead>\n",
       "  <tbody>\n",
       "  </tbody>\n",
       "</table>\n",
       "</div>"
      ],
      "text/plain": [
       "Empty DataFrame\n",
       "Columns: [Ligand Batch, Ligand Batch Concentration, Ligand, Analyte Batch, Analyte, Intensity, Std, Circle Quality, Collection, Row, Column, Block]\n",
       "Index: []"
      ]
     },
     "execution_count": 220,
     "metadata": {},
     "output_type": "execute_result"
    }
   ],
   "source": [
    "data_test.spots_pd[data_test.spots_pd[\"Ligand Batch\"] == \"Nenad\"]"
   ]
  },
  {
   "cell_type": "code",
   "execution_count": null,
   "metadata": {
    "collapsed": true
   },
   "outputs": [],
   "source": []
  },
  {
   "cell_type": "code",
   "execution_count": null,
   "metadata": {
    "collapsed": true
   },
   "outputs": [],
   "source": []
  },
  {
   "cell_type": "code",
   "execution_count": 216,
   "metadata": {},
   "outputs": [
    {
     "ename": "ValueError",
     "evalue": "No objects to concatenate",
     "output_type": "error",
     "traceback": [
      "\u001b[0;31m---------------------------------------------------------------------------\u001b[0m",
      "\u001b[0;31mValueError\u001b[0m                                Traceback (most recent call last)",
      "\u001b[0;32m<ipython-input-216-36ebf454e328>\u001b[0m in \u001b[0;36m<module>\u001b[0;34m()\u001b[0m\n\u001b[0;32m----> 1\u001b[0;31m \u001b[0mdata_train_piv\u001b[0m \u001b[0;34m=\u001b[0m \u001b[0mdata_train\u001b[0m\u001b[0;34m.\u001b[0m\u001b[0m_pivot_table\u001b[0m\u001b[0;34m(\u001b[0m\u001b[0mdata_train\u001b[0m\u001b[0;34m.\u001b[0m\u001b[0mgenerate_data_for_fitting\u001b[0m\u001b[0;34m(\u001b[0m\u001b[0;36m200\u001b[0m\u001b[0;34m)\u001b[0m\u001b[0;34m)\u001b[0m\u001b[0;34m\u001b[0m\u001b[0m\n\u001b[0m\u001b[1;32m      2\u001b[0m \u001b[0mdata_test_piv\u001b[0m \u001b[0;34m=\u001b[0m \u001b[0mdata_test\u001b[0m\u001b[0;34m.\u001b[0m\u001b[0m_pivot_table\u001b[0m\u001b[0;34m(\u001b[0m\u001b[0mdata_test\u001b[0m\u001b[0;34m.\u001b[0m\u001b[0mgenerate_data_for_fitting\u001b[0m\u001b[0;34m(\u001b[0m\u001b[0;36m100\u001b[0m\u001b[0;34m)\u001b[0m\u001b[0;34m)\u001b[0m\u001b[0;34m\u001b[0m\u001b[0m\n\u001b[1;32m      3\u001b[0m \u001b[0mana\u001b[0m \u001b[0;34m=\u001b[0m \u001b[0ma\u001b[0m\u001b[0;34m.\u001b[0m\u001b[0mAnalysis\u001b[0m\u001b[0;34m(\u001b[0m\u001b[0mdata_train_piv\u001b[0m\u001b[0;34m,\u001b[0m\u001b[0mdata_test_piv\u001b[0m\u001b[0;34m)\u001b[0m\u001b[0;34m\u001b[0m\u001b[0m\n\u001b[1;32m      4\u001b[0m \u001b[0mana\u001b[0m\u001b[0;34m.\u001b[0m\u001b[0mperformance_table\u001b[0m\u001b[0;34m(\u001b[0m\u001b[0;34m)\u001b[0m\u001b[0;34m\u001b[0m\u001b[0m\n",
      "\u001b[0;32m/home/janekg89/Develop/Pycharm_Projects/flutype_analyse_wepdata/analysis.pyc\u001b[0m in \u001b[0;36mgenerate_data_for_fitting\u001b[0;34m(self, rpvb)\u001b[0m\n\u001b[1;32m    105\u001b[0m             \u001b[0mthis_d\u001b[0m\u001b[0;34m[\u001b[0m\u001b[0;34m\"Replica\"\u001b[0m\u001b[0;34m]\u001b[0m \u001b[0;34m=\u001b[0m \u001b[0mrange\u001b[0m\u001b[0;34m(\u001b[0m\u001b[0mrpvb\u001b[0m\u001b[0;34m)\u001b[0m\u001b[0;34m\u001b[0m\u001b[0m\n\u001b[1;32m    106\u001b[0m             \u001b[0mframes\u001b[0m\u001b[0;34m.\u001b[0m\u001b[0mappend\u001b[0m\u001b[0;34m(\u001b[0m\u001b[0mthis_d\u001b[0m\u001b[0;34m)\u001b[0m\u001b[0;34m\u001b[0m\u001b[0m\n\u001b[0;32m--> 107\u001b[0;31m         \u001b[0;32mreturn\u001b[0m \u001b[0mpd\u001b[0m\u001b[0;34m.\u001b[0m\u001b[0mconcat\u001b[0m\u001b[0;34m(\u001b[0m\u001b[0mframes\u001b[0m\u001b[0;34m)\u001b[0m\u001b[0;34m\u001b[0m\u001b[0m\n\u001b[0m\u001b[1;32m    108\u001b[0m \u001b[0;34m\u001b[0m\u001b[0m\n\u001b[1;32m    109\u001b[0m \u001b[0;34m\u001b[0m\u001b[0m\n",
      "\u001b[0;32m/home/janekg89/Envs/flutype_webapp/local/lib/python2.7/site-packages/pandas/core/reshape/concat.pyc\u001b[0m in \u001b[0;36mconcat\u001b[0;34m(objs, axis, join, join_axes, ignore_index, keys, levels, names, verify_integrity, copy)\u001b[0m\n\u001b[1;32m    204\u001b[0m                        \u001b[0mkeys\u001b[0m\u001b[0;34m=\u001b[0m\u001b[0mkeys\u001b[0m\u001b[0;34m,\u001b[0m \u001b[0mlevels\u001b[0m\u001b[0;34m=\u001b[0m\u001b[0mlevels\u001b[0m\u001b[0;34m,\u001b[0m \u001b[0mnames\u001b[0m\u001b[0;34m=\u001b[0m\u001b[0mnames\u001b[0m\u001b[0;34m,\u001b[0m\u001b[0;34m\u001b[0m\u001b[0m\n\u001b[1;32m    205\u001b[0m                        \u001b[0mverify_integrity\u001b[0m\u001b[0;34m=\u001b[0m\u001b[0mverify_integrity\u001b[0m\u001b[0;34m,\u001b[0m\u001b[0;34m\u001b[0m\u001b[0m\n\u001b[0;32m--> 206\u001b[0;31m                        copy=copy)\n\u001b[0m\u001b[1;32m    207\u001b[0m     \u001b[0;32mreturn\u001b[0m \u001b[0mop\u001b[0m\u001b[0;34m.\u001b[0m\u001b[0mget_result\u001b[0m\u001b[0;34m(\u001b[0m\u001b[0;34m)\u001b[0m\u001b[0;34m\u001b[0m\u001b[0m\n\u001b[1;32m    208\u001b[0m \u001b[0;34m\u001b[0m\u001b[0m\n",
      "\u001b[0;32m/home/janekg89/Envs/flutype_webapp/local/lib/python2.7/site-packages/pandas/core/reshape/concat.pyc\u001b[0m in \u001b[0;36m__init__\u001b[0;34m(self, objs, axis, join, join_axes, keys, levels, names, ignore_index, verify_integrity, copy)\u001b[0m\n\u001b[1;32m    237\u001b[0m \u001b[0;34m\u001b[0m\u001b[0m\n\u001b[1;32m    238\u001b[0m         \u001b[0;32mif\u001b[0m \u001b[0mlen\u001b[0m\u001b[0;34m(\u001b[0m\u001b[0mobjs\u001b[0m\u001b[0;34m)\u001b[0m \u001b[0;34m==\u001b[0m \u001b[0;36m0\u001b[0m\u001b[0;34m:\u001b[0m\u001b[0;34m\u001b[0m\u001b[0m\n\u001b[0;32m--> 239\u001b[0;31m             \u001b[0;32mraise\u001b[0m \u001b[0mValueError\u001b[0m\u001b[0;34m(\u001b[0m\u001b[0;34m'No objects to concatenate'\u001b[0m\u001b[0;34m)\u001b[0m\u001b[0;34m\u001b[0m\u001b[0m\n\u001b[0m\u001b[1;32m    240\u001b[0m \u001b[0;34m\u001b[0m\u001b[0m\n\u001b[1;32m    241\u001b[0m         \u001b[0;32mif\u001b[0m \u001b[0mkeys\u001b[0m \u001b[0;32mis\u001b[0m \u001b[0mNone\u001b[0m\u001b[0;34m:\u001b[0m\u001b[0;34m\u001b[0m\u001b[0m\n",
      "\u001b[0;31mValueError\u001b[0m: No objects to concatenate"
     ]
    }
   ],
   "source": [
    "\n",
    "\n",
    "\n",
    "data_train_piv = data_train._pivot_table(data_train.generate_data_for_fitting(200))\n",
    "data_test_piv = data_test._pivot_table(data_test.generate_data_for_fitting(100))\n",
    "ana = a.Analysis(data_train_piv,data_test_piv)\n",
    "ana.performance_table()"
   ]
  },
  {
   "cell_type": "code",
   "execution_count": null,
   "metadata": {
    "collapsed": true
   },
   "outputs": [],
   "source": []
  },
  {
   "cell_type": "code",
   "execution_count": null,
   "metadata": {
    "collapsed": true
   },
   "outputs": [],
   "source": []
  },
  {
   "cell_type": "code",
   "execution_count": null,
   "metadata": {
    "collapsed": true
   },
   "outputs": [],
   "source": []
  }
 ],
 "metadata": {
  "kernelspec": {
   "display_name": "flutype_webapp",
   "language": "python",
   "name": "flutype_webapp"
  },
  "language_info": {
   "codemirror_mode": {
    "name": "ipython",
    "version": 3
   },
   "file_extension": ".py",
   "mimetype": "text/x-python",
   "name": "python",
   "nbconvert_exporter": "python",
   "pygments_lexer": "ipython3",
   "version": "3.5.2"
  }
 },
 "nbformat": 4,
 "nbformat_minor": 2
}
