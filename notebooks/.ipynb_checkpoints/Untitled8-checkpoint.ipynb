{
 "cells": [
  {
   "cell_type": "code",
   "execution_count": 32,
   "metadata": {
    "collapsed": true
   },
   "outputs": [],
   "source": [
    "from __future__ import absolute_import, print_function, unicode_literals\n",
    "import sys\n",
    "import os\n",
    "import repackage\n",
    "repackage.up()\n",
    "import pandas as pd\n",
    "import numpy as np\n",
    "import matplotlib.pyplot as plt\n",
    "import matplotlib.cm as cm\n",
    "import analysis as a\n",
    "import preprocessing as pp\n",
    "import copy\n",
    "reload(a)\n",
    "reload(pp)\n",
    "from IPython.display import display, HTML\n",
    "sys.path.append('/home/janekg89/Develop/Pycharm_Projects/flutype_webapp')\n",
    "os.environ.setdefault(\"DJANGO_SETTINGS_MODULE\", \"flutype_webapp.settings\")\n",
    "import django\n",
    "django.setup()\n",
    "from flutype.models import Spot\n"
   ]
  },
  {
   "cell_type": "code",
   "execution_count": 31,
   "metadata": {
    "collapsed": true
   },
   "outputs": [],
   "source": [
    "from sklearn.preprocessing import Imputer\n",
    "\n",
    "def impute(data):\n",
    "    im = Imputer(strategy=\"mean\",axis=0)\n",
    "    im.fit(data)\n",
    "    return pd.DataFrame(im.transform(data), index=data.index, columns = data.columns)\n",
    "\n",
    "def common_ligand_batches(train,test):\n",
    "    return list(minimum_unique_lb_on_collection(train).intersection( minimum_unique_lb_on_collection(test)))\n",
    "\n",
    "def minimum_unique_lb_on_collection(spots):\n",
    "    min_uni_lb = set(spots[\"Ligand Batch\"].unique())\n",
    "    spots = spots.dropna(subset=[\"Intensity\"])\n",
    "    for n,d in spots.groupby([\"Collection\"]):\n",
    "        min_uni_lb =  min_uni_lb.intersection(set(d[\"Ligand Batch\"].unique()))\n",
    "    return min_uni_lb\n",
    "\n",
    "def drop_not_common(spots, common):\n",
    "    return spots[spots.applymap(lambda x: x in list(common))[\"Ligand Batch\"]]\n",
    "\n",
    "def collection_with_ligand_batch(spots, lb=\"Nenad\"):\n",
    "    spots = spots[spots[\"Ligand Batch\"] == lb]\n",
    "    return spots[\"Collection\"].unique()\n",
    "\n"
   ]
  },
  {
   "cell_type": "code",
   "execution_count": 49,
   "metadata": {
    "collapsed": true
   },
   "outputs": [],
   "source": [
    "cs_train = [\"slide_21\",\"slide_22\",\"slide_26\",\"slide_27\",\"slide_31\",\"slide_32\",\"slide_36\"]#\"slide_41\",\"slide_42\"]\n",
    "cs_test = [\"slide_23\",\"slide_28\",\"slide_33\",\"slide_37\"]\n",
    "\n",
    "spots_train = Spot.objects.filter(raw_spot__raw_spot_collection__sid__in=cs_train)\n",
    "spots_train = spots_train.filter(spot_collection__sid = \"quant1\")\n",
    "spots_train_cq = spots_train.filter(circle_quality__gte = 0.4)\n",
    "\n",
    "spots_test = Spot.objects.filter(raw_spot__raw_spot_collection__sid__in=cs_test)\n",
    "spots_test = spots_test.filter(spot_collection__sid = \"quant1\")\n",
    "spots_test_cq = spots_test.filter(circle_quality__gte = 0.4)"
   ]
  },
  {
   "cell_type": "code",
   "execution_count": 50,
   "metadata": {},
   "outputs": [
    {
     "name": "stdout",
     "output_type": "stream",
     "text": [
      "3420 1366 1306\n",
      "5985 2511 2391\n"
     ]
    }
   ],
   "source": [
    "data_train = a.Data(spots_train)\n",
    "data_test = a.Data(spots_test)\n",
    "\n",
    "data_train_cq = a.Data(spots_train_cq)\n",
    "data_test_cq = a.Data(spots_test_cq)\n",
    "\n",
    "data_train_outlier = copy.deepcopy(data_train_cq )\n",
    "data_test_outlier = copy.deepcopy(data_test_cq )\n",
    "\n",
    "data_train_outlier.spots_pd = pp.outlier_filtering(data_train_outlier.spots_pd, \"Collection\")\n",
    "data_test_outlier.spots_pd = pp.outlier_filtering(data_test_outlier.spots_pd, \"Collection\")\n",
    "\n",
    "print(len(data_test.spots_pd),len(data_test_cq.spots_pd),len(data_test_outlier.spots_pd))\n",
    "print(len(data_train.spots_pd),len(data_train_cq.spots_pd),len(data_train_outlier.spots_pd))"
   ]
  },
  {
   "cell_type": "code",
   "execution_count": 51,
   "metadata": {
    "collapsed": true
   },
   "outputs": [],
   "source": [
    "common = common_ligand_batches(data_train_outlier.spots_pd,data_test_outlier.spots_pd)\n",
    "data_train_outlier.spots_pd = drop_not_common(data_train_outlier.spots_pd, common)\n",
    "data_test_outlier.spots_pd = drop_not_common(data_test_outlier.spots_pd, common)\n",
    "data_train_outlier.spots_pd = pp.normalize_on_ligand_batch(data_train_outlier.spots_pd)\n",
    "data_test_outlier.spots_pd = pp.normalize_on_ligand_batch(data_test_outlier.spots_pd)"
   ]
  },
  {
   "cell_type": "code",
   "execution_count": 52,
   "metadata": {},
   "outputs": [
    {
     "data": {
      "text/html": [
       "<div>\n",
       "<style>\n",
       "    .dataframe thead tr:only-child th {\n",
       "        text-align: right;\n",
       "    }\n",
       "\n",
       "    .dataframe thead th {\n",
       "        text-align: left;\n",
       "    }\n",
       "\n",
       "    .dataframe tbody tr th {\n",
       "        vertical-align: top;\n",
       "    }\n",
       "</style>\n",
       "<table border=\"1\" class=\"dataframe\">\n",
       "  <thead>\n",
       "    <tr style=\"text-align: right;\">\n",
       "      <th></th>\n",
       "      <th>Name</th>\n",
       "      <th>unweighted accuracy</th>\n",
       "      <th>true positive</th>\n",
       "      <th>false positive</th>\n",
       "      <th>true negative</th>\n",
       "      <th>false negative</th>\n",
       "    </tr>\n",
       "  </thead>\n",
       "  <tbody>\n",
       "    <tr>\n",
       "      <th>0</th>\n",
       "      <td>Nearest Neighbors</td>\n",
       "      <td>41.25</td>\n",
       "      <td>43.535620</td>\n",
       "      <td>56.464380</td>\n",
       "      <td>80.753481</td>\n",
       "      <td>19.246519</td>\n",
       "    </tr>\n",
       "    <tr>\n",
       "      <th>1</th>\n",
       "      <td>Decision Tree</td>\n",
       "      <td>3.00</td>\n",
       "      <td>22.391858</td>\n",
       "      <td>77.608142</td>\n",
       "      <td>72.481572</td>\n",
       "      <td>27.518428</td>\n",
       "    </tr>\n",
       "    <tr>\n",
       "      <th>2</th>\n",
       "      <td>Random Forest</td>\n",
       "      <td>17.00</td>\n",
       "      <td>34.482759</td>\n",
       "      <td>65.517241</td>\n",
       "      <td>76.608187</td>\n",
       "      <td>23.391813</td>\n",
       "    </tr>\n",
       "    <tr>\n",
       "      <th>3</th>\n",
       "      <td>AdaBoost</td>\n",
       "      <td>19.25</td>\n",
       "      <td>38.349515</td>\n",
       "      <td>61.650485</td>\n",
       "      <td>76.972740</td>\n",
       "      <td>23.027260</td>\n",
       "    </tr>\n",
       "    <tr>\n",
       "      <th>4</th>\n",
       "      <td>Naive Bayes</td>\n",
       "      <td>20.25</td>\n",
       "      <td>50.310559</td>\n",
       "      <td>49.689441</td>\n",
       "      <td>77.831828</td>\n",
       "      <td>22.168172</td>\n",
       "    </tr>\n",
       "    <tr>\n",
       "      <th>5</th>\n",
       "      <td>LDA</td>\n",
       "      <td>31.50</td>\n",
       "      <td>43.396226</td>\n",
       "      <td>56.603774</td>\n",
       "      <td>81.632653</td>\n",
       "      <td>18.367347</td>\n",
       "    </tr>\n",
       "  </tbody>\n",
       "</table>\n",
       "</div>"
      ],
      "text/plain": [
       "                Name  unweighted accuracy  true positive  false positive  \\\n",
       "0  Nearest Neighbors                41.25      43.535620       56.464380   \n",
       "1      Decision Tree                 3.00      22.391858       77.608142   \n",
       "2      Random Forest                17.00      34.482759       65.517241   \n",
       "3           AdaBoost                19.25      38.349515       61.650485   \n",
       "4        Naive Bayes                20.25      50.310559       49.689441   \n",
       "5                LDA                31.50      43.396226       56.603774   \n",
       "\n",
       "   true negative  false negative  \n",
       "0      80.753481       19.246519  \n",
       "1      72.481572       27.518428  \n",
       "2      76.608187       23.391813  \n",
       "3      76.972740       23.027260  \n",
       "4      77.831828       22.168172  \n",
       "5      81.632653       18.367347  "
      ]
     },
     "execution_count": 52,
     "metadata": {},
     "output_type": "execute_result"
    }
   ],
   "source": [
    "data_train_piv = data_train_outlier._pivot_table(data_train_outlier.generate_data_for_fitting(200))\n",
    "data_test_piv = data_test_outlier._pivot_table(data_test_outlier.generate_data_for_fitting(100))\n",
    "ana = a.Analysis(data_train_piv,data_test_piv)\n",
    "ana.performance_table()"
   ]
  },
  {
   "cell_type": "code",
   "execution_count": 45,
   "metadata": {
    "collapsed": true
   },
   "outputs": [],
   "source": [
    "reload(a)\n",
    "reload(pp)\n",
    "ana = a.Analysis(data_train_piv,data_test_piv)\n"
   ]
  },
  {
   "cell_type": "code",
   "execution_count": 48,
   "metadata": {},
   "outputs": [
    {
     "data": {
      "text/plain": [
       "{u'AdaBoost': array([[98,  0,  2,  0],\n",
       "        [61,  2, 37,  0],\n",
       "        [ 7,  0, 92,  1],\n",
       "        [94,  1,  4,  1]]), u'Decision Tree': array([[100,   0,   0,   0],\n",
       "        [ 64,  15,  17,   4],\n",
       "        [ 72,  19,   9,   0],\n",
       "        [ 63,   7,  17,  13]]), u'LDA': array([[54,  1,  3, 42],\n",
       "        [51, 45,  4,  0],\n",
       "        [22, 11, 65,  2],\n",
       "        [56,  0,  0, 44]]), u'Naive Bayes': array([[100,   0,   0,   0],\n",
       "        [100,   0,   0,   0],\n",
       "        [ 96,   0,   4,   0],\n",
       "        [ 99,   0,   0,   1]]), u'Nearest Neighbors': array([[43,  5, 17, 35],\n",
       "        [19, 81,  0,  0],\n",
       "        [15, 44, 31, 10],\n",
       "        [ 5,  4, 43, 48]]), u'Random Forest': array([[97,  0,  3,  0],\n",
       "        [90,  0, 10,  0],\n",
       "        [ 1,  0, 99,  0],\n",
       "        [96,  0,  4,  0]])}"
      ]
     },
     "execution_count": 48,
     "metadata": {},
     "output_type": "execute_result"
    }
   ],
   "source": [
    "matrix =ana.conflux_matrixes()\n",
    "matrix"
   ]
  },
  {
   "cell_type": "code",
   "execution_count": null,
   "metadata": {
    "collapsed": true
   },
   "outputs": [],
   "source": [
    "plot_confusion_matrix(matrix[\"AdaBoost\"],)"
   ]
  }
 ],
 "metadata": {
  "kernelspec": {
   "display_name": "flutype_webapp",
   "language": "python",
   "name": "flutype_webapp"
  },
  "language_info": {
   "codemirror_mode": {
    "name": "ipython",
    "version": 3
   },
   "file_extension": ".py",
   "mimetype": "text/x-python",
   "name": "python",
   "nbconvert_exporter": "python",
   "pygments_lexer": "ipython3",
   "version": "3.5.2"
  }
 },
 "nbformat": 4,
 "nbformat_minor": 2
}
