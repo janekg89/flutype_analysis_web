{
 "cells": [
  {
   "cell_type": "code",
   "execution_count": 10,
   "metadata": {},
   "outputs": [],
   "source": [
    "from __future__ import absolute_import, print_function, unicode_literals\n",
    "import sys\n",
    "import os\n",
    "import repackage\n",
    "repackage.up()\n",
    "import pandas as pd\n",
    "import numpy as np\n",
    "import matplotlib.pyplot as plt\n",
    "import matplotlib as mpl\n",
    "from importlib import reload\n",
    "import analysis2 as a2\n",
    "from IPython.display import display, HTML\n",
    "sys.path.append('/home/janekg89/Develop/Pycharm_Projects/flutype_webapp')\n",
    "os.environ.setdefault(\"DJANGO_SETTINGS_MODULE\", \"flutype_webapp.settings\")\n",
    "import django\n",
    "django.setup()\n",
    "from flutype.models import Spot, RawSpotCollection"
   ]
  },
  {
   "cell_type": "code",
   "execution_count": 2,
   "metadata": {},
   "outputs": [
    {
     "data": {
      "text/plain": [
       "<mtrand.RandomState at 0x7f20916d3828>"
      ]
     },
     "execution_count": 2,
     "metadata": {},
     "output_type": "execute_result"
    }
   ],
   "source": []
  },
  {
   "cell_type": "code",
   "execution_count": 5,
   "metadata": {},
   "outputs": [],
   "source": [
    "cs1  = [\"2018-01-24_N22_Cal\"]\n",
    "cs2 = [\"2018_01_24_slide_22\"]\n",
    "spots_dj = Spot.objects.filter(spot_collection__sid = \"quant1\")\n",
    "\n",
    "spots_1 = spots_dj.filter(raw_spot__raw_spot_collection__sid__in=cs1)\n",
    "spots_2 = spots_dj.filter(raw_spot__raw_spot_collection__sid__in=cs2)"
   ]
  },
  {
   "cell_type": "code",
   "execution_count": 9,
   "metadata": {},
   "outputs": [
    {
     "data": {
      "text/plain": [
       "<QuerySet [<Spot: column:1-row:49-intensity:284.541598694943>, <Spot: column:15-row:48-intensity:272.456769983687>, <Spot: column:14-row:48-intensity:247.983686786297>, <Spot: column:13-row:48-intensity:277.165532879819>, <Spot: column:12-row:48-intensity:329.282218597064>, <Spot: column:11-row:48-intensity:639.722397476341>, <Spot: column:10-row:48-intensity:97.0530973451327>, <Spot: column:9-row:48-intensity:771.100238663484>, <Spot: column:8-row:48-intensity:303.283849918434>, <Spot: column:7-row:48-intensity:671.408910103421>, <Spot: column:6-row:48-intensity:256.161546085233>, <Spot: column:5-row:48-intensity:24396.0326223338>, <Spot: column:4-row:48-intensity:355.497522299306>, <Spot: column:3-row:48-intensity:19967.8979187314>, <Spot: column:2-row:48-intensity:28680.9116945107>, <Spot: column:1-row:48-intensity:122.075158227848>, <Spot: column:15-row:47-intensity:541.72972972973>, <Spot: column:14-row:47-intensity:311.340211935304>, <Spot: column:13-row:47-intensity:155.768087215064>, <Spot: column:12-row:47-intensity:147.591885441527>, '...(remaining elements truncated)...']>"
      ]
     },
     "execution_count": 9,
     "metadata": {},
     "output_type": "execute_result"
    }
   ],
   "source": [
    "#data1 = a2.Data(spots_dj=spots_1)\n",
    "#data2 = a2.Data(spots_dj=spots_2)\n",
    "spots_dj.filter(raw_spot__raw_spot_collection__studies__sid__in=cs2)\n",
    "spots_dj"
   ]
  },
  {
   "cell_type": "code",
   "execution_count": 12,
   "metadata": {},
   "outputs": [
    {
     "data": {
      "text/plain": [
       "[<RawSpotCollection: slide_32>,\n",
       " <RawSpotCollection: 2018-01-24_E15_X31>,\n",
       " <RawSpotCollection: 2018-01-24_E14_X31>,\n",
       " <RawSpotCollection: 2018-01-24_N23_X31>,\n",
       " <RawSpotCollection: 2018-01-24_N22_Cal>,\n",
       " <RawSpotCollection: 2018_03_21_slide_43>,\n",
       " <RawSpotCollection: 2018_03_21_slide_48>,\n",
       " <RawSpotCollection: 2018-01-24_N21_Pan>,\n",
       " <RawSpotCollection: 2018_03_21_slide_51>,\n",
       " <RawSpotCollection: 2018_03_21_slide_35>,\n",
       " <RawSpotCollection: 2018_03_21_slide_37>,\n",
       " <RawSpotCollection: 2018_03_21_slide_56>,\n",
       " <RawSpotCollection: 2018_03_21_slide_33>,\n",
       " <RawSpotCollection: 2018_03_21_slide_66>,\n",
       " <RawSpotCollection: 2018_03_21_slide_59>,\n",
       " <RawSpotCollection: 2018_03_21_slide_57>,\n",
       " <RawSpotCollection: 2018_03_21_slide_39>,\n",
       " <RawSpotCollection: 2018_03_21_slide_58>,\n",
       " <RawSpotCollection: 2018_03_21_slide_31>,\n",
       " <RawSpotCollection: 2018_03_21_slide_38>,\n",
       " <RawSpotCollection: 2018_03_21_slide_55>,\n",
       " <RawSpotCollection: 2018_03_21_slide_34>,\n",
       " <RawSpotCollection: 2018_03_21_slide_50>,\n",
       " <RawSpotCollection: 2018_03_21_slide_30>,\n",
       " <RawSpotCollection: 2018_03_21_slide_45>,\n",
       " <RawSpotCollection: 2018_03_21_slide_32>,\n",
       " <RawSpotCollection: 2018_03_21_slide_47>,\n",
       " <RawSpotCollection: 2018_03_21_slide_65>,\n",
       " <RawSpotCollection: 2018_03_21_slide_60>,\n",
       " <RawSpotCollection: 2018_03_21_slide_62>,\n",
       " <RawSpotCollection: 2018_03_21_slide_44>,\n",
       " <RawSpotCollection: 2018_03_21_slide_68>,\n",
       " <RawSpotCollection: 2018_03_21_slide_46>,\n",
       " <RawSpotCollection: 2018_03_21_slide_67>,\n",
       " <RawSpotCollection: 2018_03_21_slide_63>,\n",
       " <RawSpotCollection: 2018_03_21_slide_40>,\n",
       " <RawSpotCollection: 2018_03_21_slide_61>,\n",
       " <RawSpotCollection: 2018_03_21_slide_69>,\n",
       " <RawSpotCollection: 2018_03_21_slide_41>,\n",
       " <RawSpotCollection: slide_29>,\n",
       " <RawSpotCollection: 2018_03_21_slide_64>,\n",
       " <RawSpotCollection: 2018_03_21_slide_49>,\n",
       " <RawSpotCollection: 2018_03_21_slide_53>,\n",
       " <RawSpotCollection: 2018_03_21_slide_42>,\n",
       " <RawSpotCollection: slide_21>,\n",
       " <RawSpotCollection: 2018_03_21_slide_52>,\n",
       " <RawSpotCollection: slide_28>,\n",
       " <RawSpotCollection: slide_25>,\n",
       " <RawSpotCollection: 2018_03_21_slide_36>,\n",
       " <RawSpotCollection: slide_42>,\n",
       " <RawSpotCollection: slide_24>,\n",
       " <RawSpotCollection: slide_27>,\n",
       " <RawSpotCollection: slide_23>,\n",
       " <RawSpotCollection: slide_26>,\n",
       " <RawSpotCollection: slide_37>,\n",
       " <RawSpotCollection: slide_22>,\n",
       " <RawSpotCollection: slide_45>,\n",
       " <RawSpotCollection: slide_41>,\n",
       " <RawSpotCollection: slide_44>,\n",
       " <RawSpotCollection: slide_40>,\n",
       " <RawSpotCollection: slide_38>,\n",
       " <RawSpotCollection: slide_35>,\n",
       " <RawSpotCollection: slide_39>,\n",
       " <RawSpotCollection: slide_30>,\n",
       " <RawSpotCollection: slide_36>,\n",
       " <RawSpotCollection: slide_33>,\n",
       " <RawSpotCollection: slide_31>,\n",
       " <RawSpotCollection: slide_34>,\n",
       " <RawSpotCollection: 2018_01_24_slide_22>,\n",
       " <RawSpotCollection: 2018_01_24_slide_23>,\n",
       " <RawSpotCollection: 2018_01_24_slide_21>,\n",
       " <RawSpotCollection: 2018_01_24_slide_15>,\n",
       " <RawSpotCollection: 2018_01_24_slide_14>]"
      ]
     },
     "execution_count": 12,
     "metadata": {},
     "output_type": "execute_result"
    }
   ],
   "source": [
    "list(RawSpotCollection.objects.all())"
   ]
  },
  {
   "cell_type": "code",
   "execution_count": null,
   "metadata": {
    "collapsed": true
   },
   "outputs": [],
   "source": []
  }
 ],
 "metadata": {
  "kernelspec": {
   "display_name": "flutype_webapp3",
   "language": "python",
   "name": "flutype_webapp3"
  },
  "language_info": {
   "codemirror_mode": {
    "name": "ipython",
    "version": 3
   },
   "file_extension": ".py",
   "mimetype": "text/x-python",
   "name": "python",
   "nbconvert_exporter": "python",
   "pygments_lexer": "ipython3",
   "version": "3.5.2"
  }
 },
 "nbformat": 4,
 "nbformat_minor": 2
}
