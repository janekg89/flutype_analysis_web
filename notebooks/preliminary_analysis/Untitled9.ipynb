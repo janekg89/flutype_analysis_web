{
 "cells": [
  {
   "cell_type": "code",
   "execution_count": 1,
   "metadata": {
    "collapsed": true
   },
   "outputs": [],
   "source": [
    "import os\n",
    "import repackage\n",
    "repackage.up()\n",
    "import data.microarray_2018_03_21.data as d1\n",
    "from importlib import reload\n",
    "from utils import ensure_dir"
   ]
  },
  {
   "cell_type": "code",
   "execution_count": 2,
   "metadata": {},
   "outputs": [
    {
     "data": {
      "text/plain": [
       "<module 'data.microarray_2018_03_21.data' from '/home/janek89/Dev/flutype_analysis_web/data/microarray_2018_03_21/data.py'>"
      ]
     },
     "execution_count": 2,
     "metadata": {},
     "output_type": "execute_result"
    }
   ],
   "source": [
    "reload(d1)\n"
   ]
  },
  {
   "cell_type": "code",
   "execution_count": 3,
   "metadata": {
    "collapsed": true
   },
   "outputs": [],
   "source": [
    "COLLECTIONS = d1.load_data()"
   ]
  },
  {
   "cell_type": "code",
   "execution_count": 4,
   "metadata": {},
   "outputs": [
    {
     "data": {
      "text/plain": [
       "{'2018_03_21_slide_30': <spot2intensity.spot2intensity.Collection at 0x7f7cfed0ee80>,\n",
       " '2018_03_21_slide_32': <spot2intensity.spot2intensity.Collection at 0x7f7cfec30320>,\n",
       " '2018_03_21_slide_33': <spot2intensity.spot2intensity.Collection at 0x7f7cfec489e8>,\n",
       " '2018_03_21_slide_34': <spot2intensity.spot2intensity.Collection at 0x7f7cfec4e0f0>,\n",
       " '2018_03_21_slide_35': <spot2intensity.spot2intensity.Collection at 0x7f7cfec4f7b8>,\n",
       " '2018_03_21_slide_36': <spot2intensity.spot2intensity.Collection at 0x7f7cfebd5e80>,\n",
       " '2018_03_21_slide_37': <spot2intensity.spot2intensity.Collection at 0x7f7cfebdc588>,\n",
       " '2018_03_21_slide_38': <spot2intensity.spot2intensity.Collection at 0x7f7cfebdfc50>,\n",
       " '2018_03_21_slide_39': <spot2intensity.spot2intensity.Collection at 0x7f7cfebe5358>,\n",
       " '2018_03_21_slide_40': <spot2intensity.spot2intensity.Collection at 0x7f7cfebe7a20>,\n",
       " '2018_03_21_slide_41': <spot2intensity.spot2intensity.Collection at 0x7f7cfebec128>,\n",
       " '2018_03_21_slide_42': <spot2intensity.spot2intensity.Collection at 0x7f7cfebef7f0>,\n",
       " '2018_03_21_slide_43': <spot2intensity.spot2intensity.Collection at 0x7f7cfebf2eb8>,\n",
       " '2018_03_21_slide_44': <spot2intensity.spot2intensity.Collection at 0x7f7cfebf95c0>,\n",
       " '2018_03_21_slide_45': <spot2intensity.spot2intensity.Collection at 0x7f7cfebfac88>,\n",
       " '2018_03_21_slide_46': <spot2intensity.spot2intensity.Collection at 0x7f7cfec01390>,\n",
       " '2018_03_21_slide_47': <spot2intensity.spot2intensity.Collection at 0x7f7cfec00b00>,\n",
       " '2018_03_21_slide_48': <spot2intensity.spot2intensity.Collection at 0x7f7cfec08208>,\n",
       " '2018_03_21_slide_49': <spot2intensity.spot2intensity.Collection at 0x7f7cfec0d828>,\n",
       " '2018_03_21_slide_50': <spot2intensity.spot2intensity.Collection at 0x7f7cfec11ef0>,\n",
       " '2018_03_21_slide_51': <spot2intensity.spot2intensity.Collection at 0x7f7cfeb9b5f8>,\n",
       " '2018_03_21_slide_52': <spot2intensity.spot2intensity.Collection at 0x7f7cfeb98cc0>,\n",
       " '2018_03_21_slide_53': <spot2intensity.spot2intensity.Collection at 0x7f7cfeba03c8>,\n",
       " '2018_03_21_slide_55': <spot2intensity.spot2intensity.Collection at 0x7f7cfeba7a90>,\n",
       " '2018_03_21_slide_56': <spot2intensity.spot2intensity.Collection at 0x7f7cfebac198>,\n",
       " '2018_03_21_slide_57': <spot2intensity.spot2intensity.Collection at 0x7f7cfebb0c18>,\n",
       " '2018_03_21_slide_58': <spot2intensity.spot2intensity.Collection at 0x7f7cfebb4320>,\n",
       " '2018_03_21_slide_59': <spot2intensity.spot2intensity.Collection at 0x7f7cfebbc128>,\n",
       " '2018_03_21_slide_60': <spot2intensity.spot2intensity.Collection at 0x7f7cfebbee80>,\n",
       " '2018_03_21_slide_61': <spot2intensity.spot2intensity.Collection at 0x7f7cfebc3c18>,\n",
       " '2018_03_21_slide_62': <spot2intensity.spot2intensity.Collection at 0x7f7cfebc79b0>,\n",
       " '2018_03_21_slide_63': <spot2intensity.spot2intensity.Collection at 0x7f7cfebcb588>,\n",
       " '2018_03_21_slide_64': <spot2intensity.spot2intensity.Collection at 0x7f7cfebcce80>,\n",
       " '2018_03_21_slide_65': <spot2intensity.spot2intensity.Collection at 0x7f7cfebd07b8>,\n",
       " '2018_03_21_slide_66': <spot2intensity.spot2intensity.Collection at 0x7f7cfeb570f0>,\n",
       " '2018_03_21_slide_67': <spot2intensity.spot2intensity.Collection at 0x7f7cfeb549e8>,\n",
       " '2018_03_21_slide_68': <spot2intensity.spot2intensity.Collection at 0x7f7cfeb5b320>}"
      ]
     },
     "execution_count": 4,
     "metadata": {},
     "output_type": "execute_result"
    }
   ],
   "source": [
    "COLLECTIONS"
   ]
  },
  {
   "cell_type": "code",
   "execution_count": null,
   "metadata": {
    "collapsed": true
   },
   "outputs": [],
   "source": []
  }
 ],
 "metadata": {
  "kernelspec": {
   "display_name": "flutype_webapp",
   "language": "python",
   "name": "flutype_webapp"
  },
  "language_info": {
   "codemirror_mode": {
    "name": "ipython",
    "version": 2
   },
   "file_extension": ".py",
   "mimetype": "text/x-python",
   "name": "python",
   "nbconvert_exporter": "python",
   "pygments_lexer": "ipython2",
   "version": "2.7.12"
  }
 },
 "nbformat": 4,
 "nbformat_minor": 2
}
