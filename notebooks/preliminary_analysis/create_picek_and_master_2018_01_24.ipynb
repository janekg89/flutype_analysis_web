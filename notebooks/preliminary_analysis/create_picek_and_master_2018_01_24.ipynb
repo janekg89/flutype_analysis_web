{
 "cells": [
  {
   "cell_type": "code",
   "execution_count": 1,
   "metadata": {
    "collapsed": true
   },
   "outputs": [],
   "source": [
    "import os\n",
    "import data.microarray_2018_01_24.data as d1\n",
    "from importlib import reload\n",
    "from utils import ensure_dir\n",
    "import pandas as pd\n"
   ]
  },
  {
   "cell_type": "code",
   "execution_count": 2,
   "metadata": {
    "collapsed": true
   },
   "outputs": [],
   "source": [
    "folder = os.path.join(\"microarray_2018_03_21\",\"measurements/\")\n",
    "ensure_dir(folder)\n"
   ]
  },
  {
   "cell_type": "code",
   "execution_count": 3,
   "metadata": {},
   "outputs": [
    {
     "data": {
      "text/plain": [
       "<module 'data.microarray_2018_01_24.data' from '/home/janekg89/Develop/Pycharm_Projects/flutype_analysis_web/data/microarray_2018_01_24/data.py'>"
      ]
     },
     "execution_count": 3,
     "metadata": {},
     "output_type": "execute_result"
    }
   ],
   "source": [
    "reload(d1)"
   ]
  },
  {
   "cell_type": "code",
   "execution_count": 4,
   "metadata": {
    "collapsed": true
   },
   "outputs": [],
   "source": [
    "COLLECTIONS = d1.load_data()"
   ]
  },
  {
   "cell_type": "code",
   "execution_count": null,
   "metadata": {
    "collapsed": true
   },
   "outputs": [],
   "source": []
  },
  {
   "cell_type": "code",
   "execution_count": 5,
   "metadata": {},
   "outputs": [
    {
     "name": "stdout",
     "output_type": "stream",
     "text": [
      "<2018_01_24_slide_14> is beeing pickeled\n",
      "[<spot2intensity.model.Grid object at 0x7f4f789aeb70>, <spot2intensity.model.Grid object at 0x7f4f789aeb00>, <spot2intensity.model.Grid object at 0x7f4f789aea90>]\n",
      "Claculating grid starting at:(296,244)\n",
      "Claculating grid starting at:(303,2791)\n",
      "Claculating grid starting at:(302,5164)\n",
      "circle_qual\n",
      "std_intensities2\n",
      "spot_images\n",
      "intensities\n",
      "circles\n",
      "intensities2\n",
      "squares\n",
      "Starting with Collection <2018_01_24_slide_14>\n",
      "<2018_01_24_slide_15> is beeing pickeled\n",
      "[<spot2intensity.model.Grid object at 0x7f4f763dc048>, <spot2intensity.model.Grid object at 0x7f4f763dc0b8>, <spot2intensity.model.Grid object at 0x7f4f763dc128>]\n",
      "Claculating grid starting at:(292,250)\n",
      "Claculating grid starting at:(297,2810)\n",
      "Claculating grid starting at:(297,5188)\n",
      "circle_qual\n",
      "std_intensities2\n",
      "spot_images\n",
      "intensities\n",
      "circles\n",
      "intensities2\n",
      "squares\n",
      "Starting with Collection <2018_01_24_slide_15>\n",
      "<2018_01_24_slide_21> is beeing pickeled\n",
      "[<spot2intensity.model.Grid object at 0x7f4f789ae6d8>, <spot2intensity.model.Grid object at 0x7f4f789ae668>, <spot2intensity.model.Grid object at 0x7f4f789ae5f8>]\n",
      "Claculating grid starting at:(326,329)\n",
      "Claculating grid starting at:(315,2881)\n",
      "Claculating grid starting at:(325,5269)\n",
      "circle_qual\n",
      "std_intensities2\n",
      "spot_images\n",
      "intensities\n",
      "circles\n",
      "intensities2\n",
      "squares\n",
      "Starting with Collection <2018_01_24_slide_21>\n",
      "<2018_01_24_slide_22> is beeing pickeled\n",
      "[<spot2intensity.model.Grid object at 0x7f4f7640e748>, <spot2intensity.model.Grid object at 0x7f4f7640e6d8>, <spot2intensity.model.Grid object at 0x7f4f7640e668>]\n",
      "Claculating grid starting at:(310,314)\n",
      "Claculating grid starting at:(321,2873)\n",
      "Claculating grid starting at:(311,5254)\n",
      "circle_qual\n",
      "std_intensities2\n",
      "spot_images\n",
      "intensities\n",
      "circles\n",
      "intensities2\n",
      "squares\n",
      "Starting with Collection <2018_01_24_slide_22>\n",
      "<2018_01_24_slide_23> is beeing pickeled\n",
      "[<spot2intensity.model.Grid object at 0x7f4f7640e2b0>, <spot2intensity.model.Grid object at 0x7f4f7640e240>, <spot2intensity.model.Grid object at 0x7f4f7640e1d0>]\n",
      "Claculating grid starting at:(336,321)\n",
      "Claculating grid starting at:(328,2858)\n",
      "Claculating grid starting at:(321,5251)\n",
      "circle_qual\n",
      "std_intensities2\n",
      "spot_images\n",
      "intensities\n",
      "circles\n",
      "intensities2\n",
      "squares\n",
      "Starting with Collection <2018_01_24_slide_23>\n"
     ]
    }
   ],
   "source": [
    "for n, c in COLLECTIONS.items():\n",
    "    c.dump_pickel()\n",
    "    c.export_measurement_folder(folder)"
   ]
  },
  {
   "cell_type": "code",
   "execution_count": null,
   "metadata": {
    "collapsed": true
   },
   "outputs": [],
   "source": []
  },
  {
   "cell_type": "code",
   "execution_count": null,
   "metadata": {
    "collapsed": true
   },
   "outputs": [],
   "source": []
  }
 ],
 "metadata": {
  "kernelspec": {
   "display_name": "flutype_web_analysis",
   "language": "python",
   "name": "flutype_web_analysis"
  },
  "language_info": {
   "codemirror_mode": {
    "name": "ipython",
    "version": 3
   },
   "file_extension": ".py",
   "mimetype": "text/x-python",
   "name": "python",
   "nbconvert_exporter": "python",
   "pygments_lexer": "ipython3",
   "version": "3.5.2"
  }
 },
 "nbformat": 4,
 "nbformat_minor": 2
}
