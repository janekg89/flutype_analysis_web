{
 "cells": [
  {
   "cell_type": "code",
   "execution_count": 9,
   "metadata": {
    "collapsed": true
   },
   "outputs": [],
   "source": [
    "from __future__ import absolute_import, print_function, unicode_literals\n",
    "from importlib import reload\n",
    "import pandas as pd\n",
    "import os\n",
    "import repackage\n",
    "from pprint import pprint\n",
    "repackage.up()\n",
    "import data.microarray_2018_03_21.data as d1\n",
    "\n",
    "from utils import ensure_dir"
   ]
  },
  {
   "cell_type": "code",
   "execution_count": 10,
   "metadata": {},
   "outputs": [
    {
     "data": {
      "text/plain": [
       "<module 'data.microarray_2018_03_21.data' from '/home/janek89/Dev/flutype_analysis_web/data/microarray_2018_03_21/data.py'>"
      ]
     },
     "execution_count": 10,
     "metadata": {},
     "output_type": "execute_result"
    }
   ],
   "source": [
    "reload(d1)\n"
   ]
  },
  {
   "cell_type": "code",
   "execution_count": 11,
   "metadata": {},
   "outputs": [
    {
     "data": {
      "text/plain": [
       "0        LF 0.05\n",
       "1        LF 0.05\n",
       "2        LF 0.05\n",
       "3        LF 0.05\n",
       "4        LF 0.05\n",
       "5        LF 0.05\n",
       "6        LF 0.05\n",
       "7        LF 0.05\n",
       "8        LF 0.05\n",
       "9        LF 0.05\n",
       "10         blank\n",
       "11         blank\n",
       "12         blank\n",
       "13         blank\n",
       "14         blank\n",
       "15        Pep_80\n",
       "16        Pep_81\n",
       "17        Pep_82\n",
       "18        Pep_83\n",
       "19        Pep_84\n",
       "20        Pep_86\n",
       "21        Pep_88\n",
       "22        Pep_89\n",
       "23        Pep_90\n",
       "24        LF 0.1\n",
       "25        Pep_91\n",
       "26        Pep_94\n",
       "27        Pep_95\n",
       "28        Pep_96\n",
       "29        Pep_98\n",
       "         ...    \n",
       "825    Pep_131.1\n",
       "826      Pep_132\n",
       "827      Pep_133\n",
       "828      Pep_116\n",
       "829      Pep_134\n",
       "830      Pep_117\n",
       "831      Pep_118\n",
       "832      Pep_119\n",
       "833      Pep_128\n",
       "834      Pep_135\n",
       "835       LF 0.1\n",
       "836      Pep_120\n",
       "837      Pep_121\n",
       "838      Pep_122\n",
       "839      Pep_123\n",
       "840      Pep_124\n",
       "841      Pep_125\n",
       "842      Pep_130\n",
       "843      Pep_127\n",
       "844      LF 0.05\n",
       "845      LF 0.01\n",
       "846     LF 0.001\n",
       "847    LF 0.0001\n",
       "848       LF 0.5\n",
       "849        blank\n",
       "850        blank\n",
       "851        blank\n",
       "852      LF 0.05\n",
       "853      LF 0.05\n",
       "854        blank\n",
       "Name: Name, Length: 855, dtype: object"
      ]
     },
     "execution_count": 11,
     "metadata": {},
     "output_type": "execute_result"
    }
   ],
   "source": [
    "d1.OLD_GAL.Name"
   ]
  },
  {
   "cell_type": "code",
   "execution_count": 12,
   "metadata": {},
   "outputs": [],
   "source": [
    "new_gal = d1.OLD_GAL\n",
    "new_gal.Name = d1.OLD_GAL.Name.map(d1.PEP_MAP)\n",
    "new_gal.to_csv(\"../new_gal.tsv\",sep=\"\\t\")"
   ]
  },
  {
   "cell_type": "code",
   "execution_count": null,
   "metadata": {
    "collapsed": true
   },
   "outputs": [],
   "source": []
  }
 ],
 "metadata": {
  "kernelspec": {
   "display_name": "flutype_webapp",
   "language": "python",
   "name": "flutype_webapp"
  },
  "language_info": {
   "codemirror_mode": {
    "name": "ipython",
    "version": 3
   },
   "file_extension": ".py",
   "mimetype": "text/x-python",
   "name": "python",
   "nbconvert_exporter": "python",
   "pygments_lexer": "ipython3",
   "version": "3.5.2"
  }
 },
 "nbformat": 4,
 "nbformat_minor": 2
}
