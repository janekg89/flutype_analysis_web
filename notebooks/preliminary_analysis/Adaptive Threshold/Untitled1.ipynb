{
 "cells": [
  {
   "cell_type": "code",
   "execution_count": 9,
   "metadata": {},
   "outputs": [
    {
     "data": {
      "text/plain": [
       "<Figure size 720x576 with 0 Axes>"
      ]
     },
     "metadata": {},
     "output_type": "display_data"
    }
   ],
   "source": [
    "%matplotlib inline\n",
    "import mahotas as mh\n",
    "import numpy as np\n",
    "from matplotlib import pyplot as plt\n",
    "from IPython.html.widgets import interact, fixed\n",
    "plt.rcParams['figure.figsize'] = (10.0, 8.0) # 10 x 8 inches\n",
    "plt.gray()\n",
    "from skimage.feature import blob_dog, blob_log, blob_doh\n",
    "\n"
   ]
  },
  {
   "cell_type": "code",
   "execution_count": null,
   "metadata": {},
   "outputs": [],
   "source": []
  },
  {
   "cell_type": "code",
   "execution_count": null,
   "metadata": {},
   "outputs": [],
   "source": []
  },
  {
   "cell_type": "code",
   "execution_count": null,
   "metadata": {},
   "outputs": [],
   "source": [
    "\n",
    "\n",
    "equilized_image = exposure.equalize_hist(im)\n",
    "delta_x = int(c.grids[-1].abs_horizontal_spacing)\n",
    "delta_y = int(c.grids[-1].abs_vertical_spacing)\n",
    "x,y = c.grids[-1].points[47]\n",
    "x = int(x)\n",
    "y = int(y)\n",
    "rec = sp.create_patches((x, y), delta_x, delta_y)\n",
    "x0, y0 = rec.xy\n",
    "x0 = int(x0)\n",
    "y0 = int(y0)\n",
    "if x0 < 0:\n",
    "    x0 = 0\n",
    "if y0 < 0:\n",
    "    y0 = 0\n",
    "\n",
    "img = equilized_image[y0:y0 + delta_x, x0:x0 + delta_y]\n",
    "edges = filters.sobel(img)\n",
    "fig, ax = plt.subplots(figsize=(7, 7))\n",
    "ax.imshow(img, cmap=plt.cm.gray)\n"
   ]
  },
  {
   "cell_type": "code",
   "execution_count": null,
   "metadata": {},
   "outputs": [],
   "source": []
  },
  {
   "cell_type": "code",
   "execution_count": null,
   "metadata": {},
   "outputs": [],
   "source": []
  },
  {
   "cell_type": "code",
   "execution_count": null,
   "metadata": {},
   "outputs": [],
   "source": []
  }
 ],
 "metadata": {
  "kernelspec": {
   "display_name": "flutype_web_analysis",
   "language": "python",
   "name": "flutype_web_analysis"
  },
  "language_info": {
   "codemirror_mode": {
    "name": "ipython",
    "version": 3
   },
   "file_extension": ".py",
   "mimetype": "text/x-python",
   "name": "python",
   "nbconvert_exporter": "python",
   "pygments_lexer": "ipython3",
   "version": "3.5.2"
  }
 },
 "nbformat": 4,
 "nbformat_minor": 2
}
