{
 "cells": [
  {
   "cell_type": "code",
   "execution_count": 1,
   "metadata": {},
   "outputs": [],
   "source": [
    "import os\n",
    "import repackage\n",
    "from pprint import pprint\n",
    "repackage.up()\n",
    "from data.microarray_2018_02_18.data_180218 import load_data\n"
   ]
  },
  {
   "cell_type": "code",
   "execution_count": 2,
   "metadata": {},
   "outputs": [],
   "source": [
    "COLLECTIONS = load_data()"
   ]
  },
  {
   "cell_type": "code",
   "execution_count": 3,
   "metadata": {},
   "outputs": [
    {
     "name": "stdout",
     "output_type": "stream",
     "text": [
      "<slide_41> is beeing pickeled\n",
      "[<spot2intensity.model.Grid object at 0x7f46f5639278>]\n",
      "Claculating grid starting at:(51,89)\n",
      "<slide_45> is beeing pickeled\n",
      "[<spot2intensity.model.Grid object at 0x7f46f56a85c0>]\n",
      "Claculating grid starting at:(48,106)\n",
      "<slide_32> is beeing pickeled\n",
      "[<spot2intensity.model.Grid object at 0x7f46f5662668>]\n",
      "Claculating grid starting at:(51,85)\n",
      "<slide_44> is beeing pickeled\n",
      "[<spot2intensity.model.Grid object at 0x7f46f562ea58>]\n",
      "Claculating grid starting at:(53,95)\n",
      "<slide_35> is beeing pickeled\n",
      "[<spot2intensity.model.Grid object at 0x7f46f5652a58>]\n",
      "Claculating grid starting at:(44,116)\n",
      "<slide_34> is beeing pickeled\n",
      "[<spot2intensity.model.Grid object at 0x7f46f5659e48>]\n",
      "Claculating grid starting at:(35,98)\n",
      "<slide_30> is beeing pickeled\n",
      "[<spot2intensity.model.Grid object at 0x7f46f55ebe48>]\n",
      "Claculating grid starting at:(47,76)\n",
      "<slide_38> is beeing pickeled\n",
      "[<spot2intensity.model.Grid object at 0x7f46f5647e48>]\n",
      "Claculating grid starting at:(41,110)\n",
      "<slide_27> is beeing pickeled\n",
      "[<spot2intensity.model.Grid object at 0x7f46f55faa58>]\n",
      "Claculating grid starting at:(42,144)\n",
      "<slide_39> is beeing pickeled\n",
      "[<spot2intensity.model.Grid object at 0x7f46f5641a58>]\n",
      "Claculating grid starting at:(55,84)\n",
      "<slide_21> is beeing pickeled\n",
      "[<spot2intensity.model.Grid object at 0x7f46f5611828>]\n",
      "Claculating grid starting at:(55,132)\n",
      "<slide_40> is beeing pickeled\n",
      "[<spot2intensity.model.Grid object at 0x7f46f5636668>]\n",
      "Claculating grid starting at:(53,83)\n",
      "<slide_36> is beeing pickeled\n",
      "[<spot2intensity.model.Grid object at 0x7f46f5650668>]\n",
      "Claculating grid starting at:(43,102)\n",
      "<slide_31> is beeing pickeled\n",
      "[<spot2intensity.model.Grid object at 0x7f46f5666a58>]\n",
      "Claculating grid starting at:(37,90)\n",
      "<slide_42> is beeing pickeled\n",
      "[<spot2intensity.model.Grid object at 0x7f46f5633e48>]\n",
      "Claculating grid starting at:(55,84)\n",
      "<slide_25> is beeing pickeled\n",
      "[<spot2intensity.model.Grid object at 0x7f46f5606278>]\n",
      "Claculating grid starting at:(35,152)\n",
      "<slide_22> is beeing pickeled\n",
      "[<spot2intensity.model.Grid object at 0x7f46f5610cf8>]\n",
      "Claculating grid starting at:(39,134)\n",
      "<slide_24> is beeing pickeled\n",
      "[<spot2intensity.model.Grid object at 0x7f46f5609668>]\n",
      "Claculating grid starting at:(43,144)\n",
      "<slide_33> is beeing pickeled\n",
      "[<spot2intensity.model.Grid object at 0x7f46f565e278>]\n",
      "Claculating grid starting at:(51,89)\n",
      "<slide_23> is beeing pickeled\n",
      "[<spot2intensity.model.Grid object at 0x7f46f560e208>]\n",
      "Claculating grid starting at:(39,150)\n",
      "<slide_28> is beeing pickeled\n",
      "[<spot2intensity.model.Grid object at 0x7f46f55f5668>]\n",
      "Claculating grid starting at:(39,155)\n",
      "<slide_29> is beeing pickeled\n",
      "[<spot2intensity.model.Grid object at 0x7f46f55f2278>]\n",
      "Claculating grid starting at:(39,152)\n",
      "<slide_37> is beeing pickeled\n",
      "[<spot2intensity.model.Grid object at 0x7f46f564b278>]\n",
      "Claculating grid starting at:(43,98)\n",
      "<slide_26> is beeing pickeled\n",
      "[<spot2intensity.model.Grid object at 0x7f46f55ffe48>]\n",
      "Claculating grid starting at:(35,148)\n"
     ]
    }
   ],
   "source": [
    "for n, c in COLLECTIONS.items():\n",
    "    if n in [\"slide_19\",\"slide_20\",\"slide_46\",\"slide_47\"]:\n",
    "        continue\n",
    "    c.dump_pickel()"
   ]
  },
  {
   "cell_type": "code",
   "execution_count": null,
   "metadata": {},
   "outputs": [],
   "source": []
  }
 ],
 "metadata": {
  "kernelspec": {
   "display_name": "flutype_web_analysis",
   "language": "python",
   "name": "flutype_web_analysis"
  },
  "language_info": {
   "codemirror_mode": {
    "name": "ipython",
    "version": 3
   },
   "file_extension": ".py",
   "mimetype": "text/x-python",
   "name": "python",
   "nbconvert_exporter": "python",
   "pygments_lexer": "ipython3",
   "version": "3.5.2"
  }
 },
 "nbformat": 4,
 "nbformat_minor": 2
}
