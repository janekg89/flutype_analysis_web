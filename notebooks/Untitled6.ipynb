{
 "cells": [
  {
   "cell_type": "code",
   "execution_count": 308,
   "metadata": {},
   "outputs": [],
   "source": [
    "from __future__ import absolute_import, print_function, unicode_literals\n",
    "import sys\n",
    "import os\n",
    "import repackage\n",
    "repackage.up()\n",
    "import pandas as pd\n",
    "import numpy as np\n",
    "import matplotlib.pyplot as plt\n",
    "import matplotlib as mpl\n",
    "\n",
    "import analysis2 as a2\n",
    "reload(a2)\n",
    "from IPython.display import display, HTML\n",
    "sys.path.append('/home/janekg89/Develop/Pycharm_Projects/flutype_webapp')\n",
    "os.environ.setdefault(\"DJANGO_SETTINGS_MODULE\", \"flutype_webapp.settings\")\n",
    "import django\n",
    "django.setup()\n",
    "from flutype.models import Spot"
   ]
  },
  {
   "cell_type": "code",
   "execution_count": 309,
   "metadata": {},
   "outputs": [],
   "source": [
    "cs = [\"slide_21\",\"slide_22\",\"slide_26\",\"slide_27\",\"slide_31\",\"slide_32\",\"slide_36\",\"slide_23\",\"slide_28\",\"slide_33\",\"slide_37\"]\n",
    "spots_dj = Spot.objects.filter(raw_spot__raw_spot_collection__sid__in=cs)\n",
    "#spots_dj = spots_dj.filter(raw_spot__lig_fix_batch__sid__in = lb)\n",
    "spots_dj = spots_dj.filter(spot_collection__sid = \"quant1\")\n",
    "spots_dj = spots_dj.filter(circle_quality__gte = 0.3)"
   ]
  },
  {
   "cell_type": "code",
   "execution_count": null,
   "metadata": {},
   "outputs": [],
   "source": []
  },
  {
   "cell_type": "code",
   "execution_count": 310,
   "metadata": {},
   "outputs": [],
   "source": [
    "data = a2.Data(spots_dj=spots_dj).outlier_filtering().sample_on_collection(20).clean()\n",
    "lb = data.ligand_batch_significance().groupby(\"Ligand Batch\").apply(lambda x: x[\"Significance\"].max()).sort_values(ascending=False)\n",
    "pbs = [list(lb.index.values[:i]) for i in range(1,len(lb.index.values))]\n",
    "pb = pbs[25]\n"
   ]
  },
  {
   "cell_type": "code",
   "execution_count": 311,
   "metadata": {},
   "outputs": [],
   "source": [
    "spots_this = spots_dj.filter(raw_spot__lig_fix_batch__sid__in = pb)\n",
    "data = a2.Data(spots_dj=spots_this)\n",
    "data = data.outlier_filtering().sample_on_collection(200).clean().reset_index()"
   ]
  },
  {
   "cell_type": "code",
   "execution_count": null,
   "metadata": {},
   "outputs": [],
   "source": []
  },
  {
   "cell_type": "code",
   "execution_count": 312,
   "metadata": {},
   "outputs": [],
   "source": [
    "data.train_test_combinations\n",
    "from sklearn.model_selection import GroupKFold,LeavePGroupsOut, GroupShuffleSplit\n",
    "from sklearn.preprocessing import LabelEncoder\n",
    "from sklearn.model_selection import validation_curve, learning_curve, cross_val_score\n",
    "\n",
    "from sklearn.linear_model import LogisticRegression\n"
   ]
  },
  {
   "cell_type": "code",
   "execution_count": 313,
   "metadata": {},
   "outputs": [],
   "source": [
    "#g = GroupShuffleSplit(test_size=0.33,n_splits=30)\n",
    "#label_collection = LabelEncoder()\n",
    "#label_y = LabelEncoder()\n",
    "x = data.x\n",
    "#y = label_y.fit_transform(data.y_names)\n",
    "y= data.y_names\n",
    "#groups = data.x.index.get_level_values(\"Collection\")\n",
    "#a = g.split(x,y,groups)\n",
    "\n",
    "\n"
   ]
  },
  {
   "cell_type": "code",
   "execution_count": 343,
   "metadata": {
    "scrolled": true
   },
   "outputs": [],
   "source": [
    "co= data.x.reset_index()[\"Collection\"]\n",
    "all_d = [(np.array(co.index),np.array(co.index))]"
   ]
  },
  {
   "cell_type": "code",
   "execution_count": null,
   "metadata": {},
   "outputs": [],
   "source": []
  },
  {
   "cell_type": "code",
   "execution_count": 337,
   "metadata": {},
   "outputs": [],
   "source": [
    "def collections_to_index(cs):\n",
    "    co = data.x.reset_index()[\"Collection\"]\n",
    "    return np.array(co.index[co.isin(cs)])\n",
    "\n",
    "\n",
    "cvs = data.train_test_combinations[[\"Train\",\"Test\"]]\n",
    "#cv = data.combination_split_train_test().applymap(collections_to_index).values\n",
    "cvs = cvs.applymap(collections_to_index).values\n",
    "cv = [tuple(t) for t in cvs]"
   ]
  },
  {
   "cell_type": "code",
   "execution_count": 240,
   "metadata": {},
   "outputs": [],
   "source": [
    "#data = a2.Data(spots_pd=data.spots_pd.reset_index())\n",
    "#test_set = data.subset_collection(cn)"
   ]
  },
  {
   "cell_type": "code",
   "execution_count": null,
   "metadata": {},
   "outputs": [],
   "source": []
  },
  {
   "cell_type": "code",
   "execution_count": 316,
   "metadata": {},
   "outputs": [],
   "source": [
    "# = LogisticRegression(random_state=0, penalty=\"l2\")\n",
    "lg_norm = LogisticRegression(multi_class =\"multinomial\",solver='lbfgs')"
   ]
  },
  {
   "cell_type": "code",
   "execution_count": 255,
   "metadata": {},
   "outputs": [],
   "source": [
    "param_range = [0.001,0.01,0.1,1.0,10.0,100.0]\n",
    "training_scores, test_scores = validation_curve(estimator=lg, X=x,y=y,param_name=\"C\", param_range=param_range,groups=y, cv=cv)"
   ]
  },
  {
   "cell_type": "code",
   "execution_count": 260,
   "metadata": {},
   "outputs": [
    {
     "data": {
      "text/plain": [
       "(6, 54)"
      ]
     },
     "execution_count": 260,
     "metadata": {},
     "output_type": "execute_result"
    }
   ],
   "source": [
    "training_scores.shape\n",
    "test_scores.shape"
   ]
  },
  {
   "cell_type": "code",
   "execution_count": 256,
   "metadata": {},
   "outputs": [],
   "source": [
    "train_mean = np.mean(training_scores,axis=1)\n",
    "train_std = np.std(training_scores,axis=1)\n",
    "test_mean = np.mean(test_scores,axis=1)\n",
    "test_std = np.std(test_scores,axis=1)\n"
   ]
  },
  {
   "cell_type": "code",
   "execution_count": null,
   "metadata": {},
   "outputs": [],
   "source": []
  },
  {
   "cell_type": "code",
   "execution_count": 257,
   "metadata": {},
   "outputs": [
    {
     "data": {
      "image/png": "[encoded data removed]",
      "text/plain": [
       "<matplotlib.figure.Figure at 0x7ff8452aa690>"
      ]
     },
     "metadata": {},
     "output_type": "display_data"
    }
   ],
   "source": [
    "plt.plot(param_range,train_mean,color=\"blue\",marker=\"o\", markersize=5,label=\"training accuracy\")\n",
    "plt.fill_between(param_range,train_mean+train_std,train_mean-train_std,alpha=0.15,color=\"blue\")\n",
    "plt.plot(param_range,test_mean,color=\"green\",marker=\"s\", markersize=5, linestyle=\"--\",label=\"test accuracy\")\n",
    "plt.fill_between(param_range,test_mean+test_std,test_mean-test_std,alpha=0.15,color=\"green\")\n",
    "\n",
    "plt.xscale(\"log\")\n",
    "#plt.yscale(\"log\")\n",
    "\n",
    "plt.show()"
   ]
  },
  {
   "cell_type": "code",
   "execution_count": 344,
   "metadata": {},
   "outputs": [],
   "source": [
    "x = data.x\n",
    "y= data.y_names\n",
    "scor = cross_val_score(estimator=lg_norm, X=x,y=y,cv=all_d)"
   ]
  },
  {
   "cell_type": "code",
   "execution_count": 345,
   "metadata": {},
   "outputs": [
    {
     "data": {
      "text/plain": [
       "0.93000000000000005"
      ]
     },
     "execution_count": 345,
     "metadata": {},
     "output_type": "execute_result"
    }
   ],
   "source": [
    "scor.mean()"
   ]
  },
  {
   "cell_type": "code",
   "execution_count": 346,
   "metadata": {},
   "outputs": [
    {
     "name": "stderr",
     "output_type": "stream",
     "text": [
      "/home/janekg89/Envs/flutype_webapp/lib/python2.7/site-packages/ipykernel_launcher.py:2: SettingWithCopyWarning: \n",
      "A value is trying to be set on a copy of a slice from a DataFrame.\n",
      "Try using .loc[row_indexer,col_indexer] = value instead\n",
      "\n",
      "See the caveats in the documentation: http://pandas.pydata.org/pandas-docs/stable/indexing.html#indexing-view-versus-copy\n",
      "  \n",
      "/home/janekg89/Envs/flutype_webapp/lib/python2.7/site-packages/ipykernel_launcher.py:3: SettingWithCopyWarning: \n",
      "A value is trying to be set on a copy of a slice from a DataFrame.\n",
      "Try using .loc[row_indexer,col_indexer] = value instead\n",
      "\n",
      "See the caveats in the documentation: http://pandas.pydata.org/pandas-docs/stable/indexing.html#indexing-view-versus-copy\n",
      "  This is separate from the ipykernel package so we can avoid doing imports until\n",
      "/home/janekg89/Envs/flutype_webapp/lib/python2.7/site-packages/ipykernel_launcher.py:4: SettingWithCopyWarning: \n",
      "A value is trying to be set on a copy of a slice from a DataFrame\n",
      "\n",
      "See the caveats in the documentation: http://pandas.pydata.org/pandas-docs/stable/indexing.html#indexing-view-versus-copy\n",
      "  after removing the cwd from sys.path.\n"
     ]
    }
   ],
   "source": [
    "complete = data.train_test_combinations[:1]\n",
    "complete[\"Test\"]=[tuple(cs)]*len(complete)\n",
    "complete[\"Train\"]=[tuple(cs)]*len(complete)\n",
    "complete.loc[1] = complete.loc[0]"
   ]
  },
  {
   "cell_type": "code",
   "execution_count": 347,
   "metadata": {},
   "outputs": [],
   "source": [
    "x = data.x\n",
    "ana = a2.Analysis(data,train_test=complete)"
   ]
  },
  {
   "cell_type": "code",
   "execution_count": 348,
   "metadata": {},
   "outputs": [
    {
     "name": "stdout",
     "output_type": "stream",
     "text": [
      "*****LogisticRegression*****\n",
      "*****Fit Models*****\n",
      "*****Predict*****\n"
     ]
    }
   ],
   "source": [
    "ana.calculate_all()"
   ]
  },
  {
   "cell_type": "code",
   "execution_count": 293,
   "metadata": {},
   "outputs": [
    {
     "data": {
      "text/plain": [
       "array([u'A/Brisbaine/59/2007(H1N1)-2018-03-20',\n",
       "       u'A/Brisbane/10/2007(H3N2)-2017-07-05',\n",
       "       u'A/California/7/2009(H1N1)-2018-03-20',\n",
       "       u'A/Hong Kong/4801/2014(H3N2)-2018-03-20'], dtype=object)"
      ]
     },
     "execution_count": 293,
     "metadata": {},
     "output_type": "execute_result"
    }
   ],
   "source": []
  },
  {
   "cell_type": "code",
   "execution_count": 328,
   "metadata": {},
   "outputs": [
    {
     "data": {
      "text/plain": [
       "4"
      ]
     },
     "execution_count": 328,
     "metadata": {},
     "output_type": "execute_result"
    }
   ],
   "source": [
    "#ana.result\n",
    "43200/200/54"
   ]
  },
  {
   "cell_type": "code",
   "execution_count": 349,
   "metadata": {},
   "outputs": [
    {
     "data": {
      "text/plain": [
       "0.93000000000000005"
      ]
     },
     "execution_count": 349,
     "metadata": {},
     "output_type": "execute_result"
    }
   ],
   "source": [
    "ana.complete_information()[\"TrueFalse\"].mean()"
   ]
  },
  {
   "cell_type": "code",
   "execution_count": null,
   "metadata": {},
   "outputs": [],
   "source": []
  },
  {
   "cell_type": "code",
   "execution_count": 289,
   "metadata": {},
   "outputs": [
    {
     "data": {
      "text/plain": [
       "Index([u'slide_26', u'slide_36', u'slide_31', u'slide_21'], dtype='object', name=u'Collection')"
      ]
     },
     "execution_count": 289,
     "metadata": {},
     "output_type": "execute_result"
    }
   ],
   "source": [
    "x.iloc[cv[0,1]].index.get_level_values(\"Collection\").unique()"
   ]
  },
  {
   "cell_type": "code",
   "execution_count": 284,
   "metadata": {},
   "outputs": [
    {
     "data": {
      "text/plain": [
       "array([ 200,  201,  202, ..., 2197, 2198, 2199])"
      ]
     },
     "execution_count": 284,
     "metadata": {},
     "output_type": "execute_result"
    }
   ],
   "source": [
    "cv[0,0]"
   ]
  },
  {
   "cell_type": "code",
   "execution_count": null,
   "metadata": {},
   "outputs": [],
   "source": []
  }
 ],
 "metadata": {
  "kernelspec": {
   "display_name": "flutype_webapp",
   "language": "python",
   "name": "flutype_webapp"
  },
  "language_info": {
   "codemirror_mode": {
    "name": "ipython",
    "version": 2
   },
   "file_extension": ".py",
   "mimetype": "text/x-python",
   "name": "python",
   "nbconvert_exporter": "python",
   "pygments_lexer": "ipython2",
   "version": "2.7.12"
  }
 },
 "nbformat": 4,
 "nbformat_minor": 2
}
