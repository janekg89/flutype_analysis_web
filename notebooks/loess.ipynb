{
 "cells": [
  {
   "cell_type": "code",
   "execution_count": 3,
   "metadata": {},
   "outputs": [
    {
     "name": "stderr",
     "output_type": "stream",
     "text": [
      "/home/janek89/Envs/flutype_webapp/lib/python3.5/site-packages/statsmodels/compat/pandas.py:56: FutureWarning: The pandas.core.datetools module is deprecated and will be removed in a future version. Please use the pandas.tseries module instead.\n",
      "  from pandas.core import datetools\n"
     ]
    }
   ],
   "source": [
    "from data_180218 import load_data\n",
    "from spot2intensity import Spots\n",
    "import pandas as pd\n",
    "from itertools import combinations\n",
    "import matplotlib.pyplot as plt\n",
    "import matplotlib.cm as cm\n",
    "import copy\n",
    "from utils import ensure_dir\n",
    "import numpy as np\n",
    "from correlation_significance import correlated_significance\n",
    "import statsmodels.api as sm\n",
    "from scipy.interpolate import interp1d\n",
    "\n"
   ]
  },
  {
   "cell_type": "code",
   "execution_count": 4,
   "metadata": {
    "collapsed": true
   },
   "outputs": [],
   "source": [
    "collections = load_data()"
   ]
  },
  {
   "cell_type": "code",
   "execution_count": 6,
   "metadata": {},
   "outputs": [],
   "source": [
    "cs_vir1_names = [\"slide_21\",\"slide_22\",\"slide_23\",\"slide_24\",\"slide_25\"]\n",
    "cs_vir2_names = [\"slide_26\",\"slide_27\",\"slide_28\",\"slide_29\",\"slide_30\"]\n",
    "cs_vir3_names = [\"slide_31\",\"slide_32\",\"slide_33\",\"slide_34\",\"slide_35\"]\n",
    "cs_vir4_names = [\"slide_36\",\"slide_37\",\"slide_39\",\"slide_40\"]\n",
    "cs_vir5_names = [\"slide_41\",\"slide_42\",\"slide_44\",\"slide_45\"]\n",
    "\n",
    "cs_vir1={collections[c]:\"HongKong/4801/2014\" for c in cs_vir1_names}\n",
    "cs_vir2={collections[c]:\"Brisbaine/59/2007\" for c in cs_vir2_names}\n",
    "cs_vir3={collections[c]:\"Cal\" for c in cs_vir3_names}\n",
    "cs_vir4={collections[c]:\"Brisbaine/10/2007\" for c in cs_vir4_names}\n",
    "cs_vir5={collections[c]:\"X31\" for c in cs_vir5_names}\n",
    "\n",
    "collections_dict = {}\n",
    "frames = []\n",
    "\n",
    "for d in [cs_vir1,cs_vir2,cs_vir3,cs_vir4,cs_vir5]:\n",
    "    for k, v in d.items():\n",
    "        collections_dict[k] = v\n",
    "viruses = set(collections_dict.values())\n",
    "virus_combinations = list(combinations(viruses,2))"
   ]
  },
  {
   "cell_type": "code",
   "execution_count": 9,
   "metadata": {},
   "outputs": [
    {
     "ename": "TypeError",
     "evalue": "a bytes-like object is required, not 'str'",
     "output_type": "error",
     "traceback": [
      "\u001b[0;31m---------------------------------------------------------------------------\u001b[0m",
      "\u001b[0;31mTypeError\u001b[0m                                 Traceback (most recent call last)",
      "\u001b[0;32m<ipython-input-9-4cd72b574c9c>\u001b[0m in \u001b[0;36m<module>\u001b[0;34m()\u001b[0m\n\u001b[1;32m      1\u001b[0m \u001b[0mframes\u001b[0m \u001b[0;34m=\u001b[0m \u001b[0;34m[\u001b[0m\u001b[0;34m]\u001b[0m\u001b[0;34m\u001b[0m\u001b[0m\n\u001b[1;32m      2\u001b[0m \u001b[0;32mfor\u001b[0m \u001b[0mc\u001b[0m\u001b[0;34m,\u001b[0m \u001b[0mvirus\u001b[0m \u001b[0;32min\u001b[0m \u001b[0mcollections_dict\u001b[0m\u001b[0;34m.\u001b[0m\u001b[0mitems\u001b[0m\u001b[0;34m(\u001b[0m\u001b[0;34m)\u001b[0m\u001b[0;34m:\u001b[0m\u001b[0;34m\u001b[0m\u001b[0m\n\u001b[0;32m----> 3\u001b[0;31m     \u001b[0mspots_c\u001b[0m \u001b[0;34m=\u001b[0m \u001b[0mSpots\u001b[0m\u001b[0;34m.\u001b[0m\u001b[0mload_pickel\u001b[0m\u001b[0;34m(\u001b[0m\u001b[0mc\u001b[0m\u001b[0;34m)\u001b[0m\u001b[0;34m\u001b[0m\u001b[0m\n\u001b[0m\u001b[1;32m      4\u001b[0m     \u001b[0mspots_c\u001b[0m\u001b[0;34m.\u001b[0m\u001b[0mselect_by_circlequal\u001b[0m\u001b[0;34m(\u001b[0m\u001b[0;36m0.3\u001b[0m\u001b[0;34m)\u001b[0m\u001b[0;34m\u001b[0m\u001b[0m\n\u001b[1;32m      5\u001b[0m     \u001b[0mspots_c\u001b[0m\u001b[0;34m.\u001b[0m\u001b[0madd_virus\u001b[0m\u001b[0;34m(\u001b[0m\u001b[0mvirus\u001b[0m\u001b[0;34m)\u001b[0m\u001b[0;34m\u001b[0m\u001b[0m\n",
      "\u001b[0;32m~/Dev/flutype_analysis_web/spot2intensity/spot2intensity.py\u001b[0m in \u001b[0;36mload_pickel\u001b[0;34m(collection)\u001b[0m\n\u001b[1;32m     53\u001b[0m         \u001b[0mdirectory\u001b[0m \u001b[0;34m=\u001b[0m \u001b[0;34m\"data/{}/{}/\"\u001b[0m\u001b[0;34m.\u001b[0m\u001b[0mformat\u001b[0m\u001b[0;34m(\u001b[0m\u001b[0mcollection\u001b[0m\u001b[0;34m.\u001b[0m\u001b[0mstudy\u001b[0m\u001b[0;34m,\u001b[0m \u001b[0mcollection\u001b[0m\u001b[0;34m.\u001b[0m\u001b[0mname\u001b[0m\u001b[0;34m)\u001b[0m\u001b[0;34m\u001b[0m\u001b[0m\n\u001b[1;32m     54\u001b[0m         \u001b[0;32mwith\u001b[0m \u001b[0mopen\u001b[0m\u001b[0;34m(\u001b[0m\u001b[0mdirectory\u001b[0m \u001b[0;34m+\u001b[0m \u001b[0;34m\"spots_class\"\u001b[0m\u001b[0;34m,\u001b[0m \u001b[0;34m'r'\u001b[0m\u001b[0;34m)\u001b[0m \u001b[0;32mas\u001b[0m \u001b[0mf\u001b[0m\u001b[0;34m:\u001b[0m\u001b[0;34m\u001b[0m\u001b[0m\n\u001b[0;32m---> 55\u001b[0;31m             \u001b[0mspots\u001b[0m \u001b[0;34m=\u001b[0m \u001b[0mpickle\u001b[0m\u001b[0;34m.\u001b[0m\u001b[0mload\u001b[0m\u001b[0;34m(\u001b[0m\u001b[0mf\u001b[0m\u001b[0;34m)\u001b[0m\u001b[0;34m\u001b[0m\u001b[0m\n\u001b[0m\u001b[1;32m     56\u001b[0m         \u001b[0;32mreturn\u001b[0m \u001b[0mspots\u001b[0m\u001b[0;34m\u001b[0m\u001b[0m\n\u001b[1;32m     57\u001b[0m \u001b[0;34m\u001b[0m\u001b[0m\n",
      "\u001b[0;31mTypeError\u001b[0m: a bytes-like object is required, not 'str'"
     ]
    }
   ],
   "source": [
    "frames = []\n",
    "for c, virus in collections_dict.items():\n",
    "    spots_c = Spots.load_pickel(c)\n",
    "    spots_c.select_by_circlequal(0.3)\n",
    "    spots_c.add_virus(virus)\n",
    "    spots_c.add_c_name(c.name)\n",
    "    frames.append(spots_c.df)\n",
    "spots = pd.concat(frames)\n",
    "\n",
    "\n"
   ]
  },
  {
   "cell_type": "code",
   "execution_count": 8,
   "metadata": {},
   "outputs": [
    {
     "ename": "NameError",
     "evalue": "name 'spots' is not defined",
     "output_type": "error",
     "traceback": [
      "\u001b[0;31m---------------------------------------------------------------------------\u001b[0m",
      "\u001b[0;31mNameError\u001b[0m                                 Traceback (most recent call last)",
      "\u001b[0;32m<ipython-input-8-0696002f7afb>\u001b[0m in \u001b[0;36m<module>\u001b[0;34m()\u001b[0m\n\u001b[0;32m----> 1\u001b[0;31m \u001b[0mc1\u001b[0m \u001b[0;34m=\u001b[0m  \u001b[0mspots\u001b[0m\u001b[0;34m[\u001b[0m\u001b[0mspots\u001b[0m\u001b[0;34m[\u001b[0m\u001b[0;34m\"Collection\"\u001b[0m\u001b[0;34m]\u001b[0m \u001b[0;34m==\u001b[0m \u001b[0;34m\"slide_21\"\u001b[0m\u001b[0;34m]\u001b[0m\u001b[0;34m\u001b[0m\u001b[0m\n\u001b[0m\u001b[1;32m      2\u001b[0m \u001b[0mc2\u001b[0m \u001b[0;34m=\u001b[0m \u001b[0mspots\u001b[0m\u001b[0;34m[\u001b[0m\u001b[0mspots\u001b[0m\u001b[0;34m[\u001b[0m\u001b[0;34m\"Collection\"\u001b[0m\u001b[0;34m]\u001b[0m \u001b[0;34m==\u001b[0m \u001b[0;34m\"slide_23\"\u001b[0m\u001b[0;34m]\u001b[0m\u001b[0;34m\u001b[0m\u001b[0m\n\u001b[1;32m      3\u001b[0m \u001b[0;34m\u001b[0m\u001b[0m\n\u001b[1;32m      4\u001b[0m \u001b[0;34m\u001b[0m\u001b[0m\n\u001b[1;32m      5\u001b[0m \u001b[0;34m\u001b[0m\u001b[0m\n",
      "\u001b[0;31mNameError\u001b[0m: name 'spots' is not defined"
     ]
    }
   ],
   "source": [
    "c1 =  spots[spots[\"Collection\"] == \"slide_21\"]\n",
    "c2 = spots[spots[\"Collection\"] == \"slide_23\"]\n",
    "\n",
    "\n",
    "\n",
    "\n",
    "cond = abs(np.log2(c1[\"intensities2\"]/c2[\"intensities2\"]))<1\n",
    "ncond = np.invert(cond)\n",
    "cond1 = c1[\"Name\"].isin([\"Pep_80\",\"Pep_43\",\"Pep_49\",\"Pep_50\",\"Pep_55\",\"Pep_56\",\"Pep_59\",\"Pep_61\",\"Pep_63\",\"Pep_83\",\"Pep_94\",\"Pep_95\",\"Pep_98\",\"Pep_100\",\"Pep_102\",\"Pep_103\",\"Pep_121\" ,\"Pep_125\",\"Pep_131.2\",\"Nenad\"])\n",
    "cond2 = c2[\"Name\"].isin([\"Pep_80\",\"Pep_43\",\"Pep_49\",\"Pep_50\",\"Pep_55\",\"Pep_56\",\"Pep_59\",\"Pep_61\",\"Pep_63\",\"Pep_83\",\"Pep_94\",\"Pep_95\",\"Pep_98\",\"Pep_100\",\"Pep_102\",\"Pep_103\",\"Pep_121\" ,\"Pep_125\",\"Pep_131.2\",\"Nenad\"])\n",
    "ncond1 = np.invert(cond1)\n",
    "ncond2 = np.invert(cond2)\n",
    "\n",
    "display()\n",
    "x1 = np.log10(c1.loc[ncond1][\"intensities2\"]*c2.loc[ncond2][\"intensities2\"])\n",
    "y1 = np.log2(c1.loc[ncond1][\"intensities2\"]/c2.loc[ncond2][\"intensities2\"])\n",
    "x2 = np.log10(c1.loc[cond1][\"intensities2\"]*c2.loc[cond2][\"intensities2\"])\n",
    "y2 = np.log2(c1.loc[cond1][\"intensities2\"]/c2.loc[cond2][\"intensities2\"])\n",
    "\n",
    "\n",
    "print(len(x1))\n",
    "print(len(x2))\n",
    "\n",
    "\n",
    "plt.figure(figsize=(10,10))\n",
    "plt.scatter(x1,y1, color = \"r\")\n",
    "plt.scatter(x2,y2, color = \"b\")\n",
    "\n",
    "plt.show()"
   ]
  },
  {
   "cell_type": "code",
   "execution_count": 67,
   "metadata": {},
   "outputs": [
    {
     "data": {
      "text/plain": [
       "Int64Index([ 16,  17,  19,  20,  27,  28,  29,  30,  31,  32,\n",
       "            ...\n",
       "            798, 799, 800, 801, 802, 804, 805, 806, 816, 822],\n",
       "           dtype='int64', name=u'ID', length=444)"
      ]
     },
     "execution_count": 67,
     "metadata": {},
     "output_type": "execute_result"
    }
   ],
   "source": [
    "c1.index"
   ]
  },
  {
   "cell_type": "code",
   "execution_count": 224,
   "metadata": {},
   "outputs": [
    {
     "name": "stdout",
     "output_type": "stream",
     "text": [
      "(4017, 2)\n",
      "(4044,)\n"
     ]
    }
   ],
   "source": [
    "x1= np.log10(c1n[\"intensities2\"]*c2n[\"intensities2\"])\n",
    "y1 = np.log2(c1n[\"intensities2\"]/c2n[\"intensities2\"])\n",
    "lowess = sm.nonparametric.lowess(y1, x1, frac=0.33)\n",
    "print(lowess.shape)\n",
    "print(y1.shape)\n",
    "\n"
   ]
  },
  {
   "cell_type": "code",
   "execution_count": 265,
   "metadata": {
    "scrolled": false
   },
   "outputs": [
    {
     "name": "stderr",
     "output_type": "stream",
     "text": [
      "/home/janekg89/Envs/flutype_webapp/lib/python2.7/site-packages/ipykernel_launcher.py:4: SettingWithCopyWarning: \n",
      "A value is trying to be set on a copy of a slice from a DataFrame.\n",
      "Try using .loc[row_indexer,col_indexer] = value instead\n",
      "\n",
      "See the caveats in the documentation: http://pandas.pydata.org/pandas-docs/stable/indexing.html#indexing-view-versus-copy\n",
      "  after removing the cwd from sys.path.\n",
      "/home/janekg89/Envs/flutype_webapp/lib/python2.7/site-packages/ipykernel_launcher.py:5: SettingWithCopyWarning: \n",
      "A value is trying to be set on a copy of a slice from a DataFrame.\n",
      "Try using .loc[row_indexer,col_indexer] = value instead\n",
      "\n",
      "See the caveats in the documentation: http://pandas.pydata.org/pandas-docs/stable/indexing.html#indexing-view-versus-copy\n",
      "  \"\"\"\n"
     ]
    },
    {
     "name": "stdout",
     "output_type": "stream",
     "text": [
      "(3810, 1191)\n"
     ]
    },
    {
     "data": {
      "image/png": "[encoded data removed]",
      "text/plain": [
       "<matplotlib.figure.Figure at 0x7fa785165a90>"
      ]
     },
     "metadata": {},
     "output_type": "display_data"
    },
    {
     "data": {
      "image/png": "[encoded data removed]",
      "text/plain": [
       "<matplotlib.figure.Figure at 0x7fa7839ade90>"
      ]
     },
     "metadata": {},
     "output_type": "display_data"
    }
   ],
   "source": [
    "c1 =  spots[spots[\"Collection\"] == \"slide_21\"]\n",
    "c2 = spots[spots[\"Collection\"] == \"slide_24\"]\n",
    "\n",
    "c1[\"Pep\"]=c1[\"Name\"]\n",
    "c2[\"Pep\"]=c2[\"Name\"]\n",
    "\n",
    "c1n = c1.set_index([\"Name\"])\n",
    "c2n = c2.set_index([\"Name\"])\n",
    "\n",
    "x1= np.log10(c1n[\"intensities2\"]*c2n[\"intensities2\"])\n",
    "y1 = np.log2(c1n[\"intensities2\"]/c2n[\"intensities2\"])\n",
    "\n",
    "x= np.log10(c1[\"intensities2\"]*c2[\"intensities2\"])\n",
    "y = np.log2(c1[\"intensities2\"]/c2[\"intensities2\"])\n",
    "\n",
    "cond = abs(np.log2(c1n[\"intensities2\"]/c2n[\"intensities2\"]))<2\n",
    "ncond = np.invert(cond)\n",
    "print(len(x1[cond]),len(x1[ncond]))\n",
    "\n",
    "df = cond.reset_index()\n",
    "df.groupby(\"Name\").agg(['mean', 'count']).sort_values(by=(\"intensities2\", \"mean\"), ascending=False)\n",
    "#plt.scatter(x1[cond],y1[cond],c=\"r\", alpha=0.3)\n",
    "#plt.scatter(x1[ncond],y1[ncond],c=\"b\", alpha=0.3)\n",
    "lowess = sm.nonparametric.lowess(y1, x1, frac=0.33)\n",
    "f = interp1d(lowess[:,0],lowess[:,1], bounds_error=False)\n",
    "cond = abs(y-f(x))< 2\n",
    "ncond = np.invert(cond)\n",
    "plt.plot(x1.sort_values(),f(x1.sort_values()),\"--\", c=\"k\")\n",
    "plt.show()\n",
    "plt.scatter(x[cond],y[cond]-f(x[cond]),c=\"r\", alpha=0.3)\n",
    "plt.scatter(x[ncond],y[ncond]-f(x[ncond]),c=\"b\", alpha=0.3)\n",
    "\n",
    "\n",
    "plt.show()\n",
    "\n",
    "\n"
   ]
  },
  {
   "cell_type": "code",
   "execution_count": 266,
   "metadata": {},
   "outputs": [
    {
     "name": "stdout",
     "output_type": "stream",
     "text": [
      "(3951, 1050)\n"
     ]
    }
   ],
   "source": [
    "cond = abs(y1-f(x1))< 2\n",
    "ncond = np.invert(cond)\n",
    "print(len(x1[cond]),len(x1[ncond]))\n"
   ]
  },
  {
   "cell_type": "code",
   "execution_count": 187,
   "metadata": {},
   "outputs": [
    {
     "ename": "AttributeError",
     "evalue": "'DataFrame' object has no attribute 'Row'",
     "output_type": "error",
     "traceback": [
      "\u001b[0;31m---------------------------------------------------------------------------\u001b[0m",
      "\u001b[0;31mAttributeError\u001b[0m                            Traceback (most recent call last)",
      "\u001b[0;32m<ipython-input-187-89fad36dbd3b>\u001b[0m in \u001b[0;36m<module>\u001b[0;34m()\u001b[0m\n\u001b[0;32m----> 1\u001b[0;31m df = pd.DataFrame(n1.Row.str.split(\",\",1).tolist(),\n\u001b[0m\u001b[1;32m      2\u001b[0m                                   columns = ['flips','row'])\n",
      "\u001b[0;32m/home/janekg89/Envs/flutype_webapp/local/lib/python2.7/site-packages/pandas/core/generic.pyc\u001b[0m in \u001b[0;36m__getattr__\u001b[0;34m(self, name)\u001b[0m\n\u001b[1;32m   3079\u001b[0m             \u001b[0;32mif\u001b[0m \u001b[0mname\u001b[0m \u001b[0;32min\u001b[0m \u001b[0mself\u001b[0m\u001b[0;34m.\u001b[0m\u001b[0m_info_axis\u001b[0m\u001b[0;34m:\u001b[0m\u001b[0;34m\u001b[0m\u001b[0m\n\u001b[1;32m   3080\u001b[0m                 \u001b[0;32mreturn\u001b[0m \u001b[0mself\u001b[0m\u001b[0;34m[\u001b[0m\u001b[0mname\u001b[0m\u001b[0;34m]\u001b[0m\u001b[0;34m\u001b[0m\u001b[0m\n\u001b[0;32m-> 3081\u001b[0;31m             \u001b[0;32mreturn\u001b[0m \u001b[0mobject\u001b[0m\u001b[0;34m.\u001b[0m\u001b[0m__getattribute__\u001b[0m\u001b[0;34m(\u001b[0m\u001b[0mself\u001b[0m\u001b[0;34m,\u001b[0m \u001b[0mname\u001b[0m\u001b[0;34m)\u001b[0m\u001b[0;34m\u001b[0m\u001b[0m\n\u001b[0m\u001b[1;32m   3082\u001b[0m \u001b[0;34m\u001b[0m\u001b[0m\n\u001b[1;32m   3083\u001b[0m     \u001b[0;32mdef\u001b[0m \u001b[0m__setattr__\u001b[0m\u001b[0;34m(\u001b[0m\u001b[0mself\u001b[0m\u001b[0;34m,\u001b[0m \u001b[0mname\u001b[0m\u001b[0;34m,\u001b[0m \u001b[0mvalue\u001b[0m\u001b[0;34m)\u001b[0m\u001b[0;34m:\u001b[0m\u001b[0;34m\u001b[0m\u001b[0m\n",
      "\u001b[0;31mAttributeError\u001b[0m: 'DataFrame' object has no attribute 'Row'"
     ]
    }
   ],
   "source": [
    " df = pd.DataFrame(n1.Row.str.split(\",\",1).tolist(),\n",
    "                                   columns = ['flips','row'])"
   ]
  },
  {
   "cell_type": "code",
   "execution_count": 189,
   "metadata": {
    "collapsed": true
   },
   "outputs": [],
   "source": [
    "n1= pd.concat([cond, c1n[\"Row\"].astype(str)+\",\"+c2n[\"Row\"].astype(str)],ignore_index=True, axis=1, levels=[\"rows\",\"cols\"])\n",
    "#pd.DataFrame(n1[1].str.split(\",\").tolist(),columns=[\"R1\",\"R2\"])\n",
    "#c1n[\"Row\"].astype(str)+\",\"+c2n[\"Row\"].astype(str), con\n"
   ]
  },
  {
   "cell_type": "code",
   "execution_count": 201,
   "metadata": {},
   "outputs": [
    {
     "ename": "TypeError",
     "evalue": "descriptor 'split' of 'str' object needs an argument",
     "output_type": "error",
     "traceback": [
      "\u001b[0;31m---------------------------------------------------------------------------\u001b[0m",
      "\u001b[0;31mTypeError\u001b[0m                                 Traceback (most recent call last)",
      "\u001b[0;32m<ipython-input-201-160aaae7c8b7>\u001b[0m in \u001b[0;36m<module>\u001b[0;34m()\u001b[0m\n\u001b[0;32m----> 1\u001b[0;31m \u001b[0mn1\u001b[0m\u001b[0;34m.\u001b[0m\u001b[0mrows\u001b[0m\u001b[0;34m.\u001b[0m\u001b[0mapply\u001b[0m\u001b[0;34m(\u001b[0m\u001b[0mstr\u001b[0m\u001b[0;34m.\u001b[0m\u001b[0msplit\u001b[0m\u001b[0;34m(\u001b[0m\u001b[0msep\u001b[0m\u001b[0;34m=\u001b[0m\u001b[0;34m\",\"\u001b[0m\u001b[0;34m)\u001b[0m\u001b[0;34m)\u001b[0m\u001b[0;34m\u001b[0m\u001b[0m\n\u001b[0m\u001b[1;32m      2\u001b[0m \u001b[0;31m#df = pd.DataFrame(n1.rows.str.split(\",\",1).tolist(),columns = ['flips','row'])\u001b[0m\u001b[0;34m\u001b[0m\u001b[0;34m\u001b[0m\u001b[0m\n",
      "\u001b[0;31mTypeError\u001b[0m: descriptor 'split' of 'str' object needs an argument"
     ]
    }
   ],
   "source": [
    "#df = pd.DataFrame(n1.rows.str.split(\",\",1).tolist(),columns = ['flips','row'])"
   ]
  },
  {
   "cell_type": "code",
   "execution_count": null,
   "metadata": {
    "collapsed": true
   },
   "outputs": [],
   "source": []
  }
 ],
 "metadata": {
  "kernelspec": {
   "display_name": "flutype_webapp",
   "language": "python",
   "name": "flutype_webapp"
  },
  "language_info": {
   "codemirror_mode": {
    "name": "ipython",
    "version": 3
   },
   "file_extension": ".py",
   "mimetype": "text/x-python",
   "name": "python",
   "nbconvert_exporter": "python",
   "pygments_lexer": "ipython3",
   "version": "3.5.2"
  }
 },
 "nbformat": 4,
 "nbformat_minor": 2
}
