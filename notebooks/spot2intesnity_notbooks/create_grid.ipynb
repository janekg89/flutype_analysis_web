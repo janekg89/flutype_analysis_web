{
 "cells": [
  {
   "cell_type": "code",
   "execution_count": 6,
   "metadata": {},
   "outputs": [],
   "source": [
    "from data_180218 import load_data, BLOCK_SHAPE"
   ]
  },
  {
   "cell_type": "code",
   "execution_count": 7,
   "metadata": {},
   "outputs": [],
   "source": [
    "# load data from 180218 study\n",
    "COLLECTION = load_data()"
   ]
  },
  {
   "cell_type": "code",
   "execution_count": null,
   "metadata": {},
   "outputs": [],
   "source": [
    "#how to use: \n",
    "\n",
    "# click \"g\" and use see the current grid. \n",
    "#click \"q,w,a,s\" and the position of a corner of the grid is replaced\n",
    "#by the cursor position.\n",
    "#{q:left upper corner,\n",
    "# w: right upper corner,\n",
    "# a: left bottom corner, \n",
    "# s: right bottom corner,}\n",
    "# after exiting the window the current corner positions are displayed. \n",
    "# copy past the posititions in the \"data_180218.py\"\n",
    "\n",
    "COLLECTION[\"slide_21\"].create_grid()"
   ]
  },
  {
   "cell_type": "code",
   "execution_count": null,
   "metadata": {
    "collapsed": true
   },
   "outputs": [],
   "source": []
  }
 ],
 "metadata": {
  "kernelspec": {
   "display_name": "flutype_web_analysis",
   "language": "python",
   "name": "flutype_web_analysis"
  },
  "language_info": {
   "codemirror_mode": {
    "name": "ipython",
    "version": 3
   },
   "file_extension": ".py",
   "mimetype": "text/x-python",
   "name": "python",
   "nbconvert_exporter": "python",
   "pygments_lexer": "ipython3",
   "version": "3.5.2"
  }
 },
 "nbformat": 4,
 "nbformat_minor": 2
}
