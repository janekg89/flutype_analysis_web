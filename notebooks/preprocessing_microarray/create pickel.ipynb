{
 "cells": [
  {
   "cell_type": "code",
   "execution_count": 1,
   "metadata": {
    "collapsed": true
   },
   "outputs": [],
   "source": [
    "import os\n",
    "import repackage\n",
    "from pprint import pprint\n",
    "import data.microarray_2018_03_21.data as d1\n",
    "from importlib import reload\n"
   ]
  },
  {
   "cell_type": "code",
   "execution_count": 2,
   "metadata": {},
   "outputs": [
    {
     "data": {
      "text/plain": [
       "<module 'data.microarray_2018_03_21.data' from '/home/janekg89/Develop/Pycharm_Projects/flutype_analysis_web/data/microarray_2018_03_21/data.py'>"
      ]
     },
     "execution_count": 2,
     "metadata": {},
     "output_type": "execute_result"
    }
   ],
   "source": [
    "reload(d1)\n"
   ]
  },
  {
   "cell_type": "code",
   "execution_count": 3,
   "metadata": {
    "collapsed": true,
    "scrolled": true
   },
   "outputs": [],
   "source": [
    "COLLECTIONS = d1.load_data()"
   ]
  },
  {
   "cell_type": "code",
   "execution_count": 4,
   "metadata": {
    "scrolled": false
   },
   "outputs": [
    {
     "name": "stdout",
     "output_type": "stream",
     "text": [
      "<2018_03_21_slide_33> is beeing pickeled\n",
      "[<spot2intensity.model.Grid object at 0x7fac43323940>]\n",
      "Claculating grid starting at:(92.0,127.0)\n",
      "<2018_03_21_slide_42> is beeing pickeled\n",
      "[<spot2intensity.model.Grid object at 0x7fac458beba8>]\n",
      "Claculating grid starting at:(97.0,65.0)\n",
      "<2018_03_21_slide_51> is beeing pickeled\n",
      "[<spot2intensity.model.Grid object at 0x7fac881c72e8>]\n",
      "Claculating grid starting at:(72.0,96.0)\n",
      "<2018_03_21_slide_50> is beeing pickeled\n",
      "[<spot2intensity.model.Grid object at 0x7fac432f3e10>]\n",
      "Claculating grid starting at:(72.0,96.0)\n",
      "<2018_03_21_slide_48> is beeing pickeled\n",
      "[<spot2intensity.model.Grid object at 0x7fac432f3b00>]\n",
      "Claculating grid starting at:(89.0,85.0)\n",
      "<2018_03_21_slide_45> is beeing pickeled\n",
      "[<spot2intensity.model.Grid object at 0x7fac458be710>]\n",
      "Claculating grid starting at:(86.0,91.0)\n",
      "<2018_03_21_slide_67> is beeing pickeled\n",
      "[<spot2intensity.model.Grid object at 0x7fac432f5f28>]\n",
      "Claculating grid starting at:(91.0,82.0)\n",
      "<2018_03_21_slide_35> is beeing pickeled\n",
      "[<spot2intensity.model.Grid object at 0x7fac43323630>]\n",
      "Claculating grid starting at:(84.0,141.0)\n",
      "<2018_03_21_slide_40> is beeing pickeled\n",
      "[<spot2intensity.model.Grid object at 0x7fac458beeb8>]\n",
      "Claculating grid starting at:(71.0,150.0)\n",
      "<2018_03_21_slide_38> is beeing pickeled\n",
      "[<spot2intensity.model.Grid object at 0x7fac43323198>]\n",
      "Claculating grid starting at:(84.0,141.0)\n",
      "<2018_03_21_slide_43> is beeing pickeled\n",
      "[<spot2intensity.model.Grid object at 0x7fac458bea20>]\n",
      "Claculating grid starting at:(91.0,75.0)\n",
      "<2018_03_21_slide_61> is beeing pickeled\n",
      "[<spot2intensity.model.Grid object at 0x7fac432f55f8>]\n",
      "Claculating grid starting at:(91.0,65.0)\n",
      "<2018_03_21_slide_56> is beeing pickeled\n",
      "[<spot2intensity.model.Grid object at 0x7fac458be3c8>]\n",
      "Claculating grid starting at:(78.0,123.0)\n",
      "<2018_03_21_slide_39> is beeing pickeled\n",
      "[<spot2intensity.model.Grid object at 0x7fac43323e10>]\n",
      "Claculating grid starting at:(84.0,141.0)\n",
      "<2018_03_21_slide_66> is beeing pickeled\n",
      "[<spot2intensity.model.Grid object at 0x7fac432f5da0>]\n",
      "Claculating grid starting at:(91.0,82.0)\n",
      "<2018_03_21_slide_46> is beeing pickeled\n",
      "[<spot2intensity.model.Grid object at 0x7fac458be588>]\n",
      "Claculating grid starting at:(86.0,91.0)\n",
      "<2018_03_21_slide_37> is beeing pickeled\n",
      "[<spot2intensity.model.Grid object at 0x7fac43323320>]\n",
      "Claculating grid starting at:(84.0,141.0)\n",
      "<2018_03_21_slide_32> is beeing pickeled\n",
      "[<spot2intensity.model.Grid object at 0x7fac43323ac8>]\n",
      "Claculating grid starting at:(93.0,115.0)\n",
      "<2018_03_21_slide_34> is beeing pickeled\n",
      "[<spot2intensity.model.Grid object at 0x7fac433237b8>]\n",
      "Claculating grid starting at:(84.0,141.0)\n",
      "<2018_03_21_slide_30> is beeing pickeled\n",
      "[<spot2intensity.model.Grid object at 0x7fac43323c50>]\n",
      "Claculating grid starting at:(91.0,106.0)\n",
      "<2018_03_21_slide_49> is beeing pickeled\n",
      "[<spot2intensity.model.Grid object at 0x7fac432f3c88>]\n",
      "Claculating grid starting at:(72.0,96.0)\n",
      "<2018_03_21_slide_53> is beeing pickeled\n",
      "[<spot2intensity.model.Grid object at 0x7fac88792240>]\n",
      "Claculating grid starting at:(93.0,114.0)\n",
      "<2018_03_21_slide_60> is beeing pickeled\n",
      "[<spot2intensity.model.Grid object at 0x7fac432f5470>]\n",
      "Claculating grid starting at:(78.0,142.0)\n",
      "<2018_03_21_slide_44> is beeing pickeled\n",
      "[<spot2intensity.model.Grid object at 0x7fac458be898>]\n",
      "Claculating grid starting at:(86.0,91.0)\n",
      "<2018_03_21_slide_65> is beeing pickeled\n",
      "[<spot2intensity.model.Grid object at 0x7fac432f5c18>]\n",
      "Claculating grid starting at:(87.0,57.0)\n",
      "<2018_03_21_slide_41> is beeing pickeled\n",
      "[<spot2intensity.model.Grid object at 0x7fac458bed30>]\n",
      "Claculating grid starting at:(82.0,57.0)\n",
      "<2018_03_21_slide_64> is beeing pickeled\n",
      "[<spot2intensity.model.Grid object at 0x7fac432f5a90>]\n",
      "Claculating grid starting at:(77.0,74.0)\n",
      "<2018_03_21_slide_57> is beeing pickeled\n",
      "[<spot2intensity.model.Grid object at 0x7fac432f3f98>]\n",
      "Claculating grid starting at:(82.0,133.0)\n",
      "<2018_03_21_slide_36> is beeing pickeled\n",
      "[<spot2intensity.model.Grid object at 0x7fac433234a8>]\n",
      "Claculating grid starting at:(84.0,141.0)\n",
      "<2018_03_21_slide_47> is beeing pickeled\n",
      "[<spot2intensity.model.Grid object at 0x7fac458be240>]\n",
      "Claculating grid starting at:(89.0,85.0)\n",
      "<2018_03_21_slide_59> is beeing pickeled\n",
      "[<spot2intensity.model.Grid object at 0x7fac432f52e8>]\n",
      "Claculating grid starting at:(78.0,142.0)\n",
      "<2018_03_21_slide_63> is beeing pickeled\n",
      "[<spot2intensity.model.Grid object at 0x7fac432f5908>]\n",
      "Claculating grid starting at:(77.0,74.0)\n",
      "<2018_03_21_slide_52> is beeing pickeled\n",
      "[<spot2intensity.model.Grid object at 0x7fac886a7a90>]\n",
      "Claculating grid starting at:(93.0,114.0)\n",
      "<2018_03_21_slide_68> is beeing pickeled\n",
      "[<spot2intensity.model.Grid object at 0x7fac432f80f0>]\n",
      "Claculating grid starting at:(90.0,90.0)\n",
      "<2018_03_21_slide_58> is beeing pickeled\n",
      "[<spot2intensity.model.Grid object at 0x7fac432f5160>]\n",
      "Claculating grid starting at:(78.0,142.0)\n",
      "<2018_03_21_slide_62> is beeing pickeled\n",
      "[<spot2intensity.model.Grid object at 0x7fac432f5780>]\n",
      "Claculating grid starting at:(41.0,64.0)\n",
      "<2018_03_21_slide_55> is beeing pickeled\n",
      "[<spot2intensity.model.Grid object at 0x7fac4332b9b0>]\n",
      "Claculating grid starting at:(89.0,127.0)\n"
     ]
    }
   ],
   "source": [
    "for n, c in COLLECTIONS.items():\n",
    "    #if n in [\"slide_19\",\"slide_20\",\"slide_46\",\"slide_47\"]:\n",
    "        #continue\n",
    "    c.dump_pickel()"
   ]
  },
  {
   "cell_type": "code",
   "execution_count": 5,
   "metadata": {},
   "outputs": [
    {
     "name": "stdout",
     "output_type": "stream",
     "text": [
      "<slide_35> is beeing pickeled\n",
      "[<spot2intensity.model.Grid object at 0x7fac28db7b38>]\n",
      "Claculating grid starting at:(44,116)\n",
      "<slide_31> is beeing pickeled\n",
      "[<spot2intensity.model.Grid object at 0x7fac28d01198>]\n",
      "Claculating grid starting at:(37,90)\n",
      "<slide_38> is beeing pickeled\n",
      "[<spot2intensity.model.Grid object at 0x7fac28db76a0>]\n",
      "Claculating grid starting at:(41,110)\n",
      "<slide_26> is beeing pickeled\n",
      "[<spot2intensity.model.Grid object at 0x7fac28d01940>]\n",
      "Claculating grid starting at:(35,148)\n",
      "<slide_40> is beeing pickeled\n",
      "[<spot2intensity.model.Grid object at 0x7fac28db7390>]\n",
      "Claculating grid starting at:(53,83)\n",
      "<slide_39> is beeing pickeled\n",
      "[<spot2intensity.model.Grid object at 0x7fac28db7518>]\n",
      "Claculating grid starting at:(55,84)\n",
      "<slide_27> is beeing pickeled\n",
      "[<spot2intensity.model.Grid object at 0x7fac28d017b8>]\n",
      "Claculating grid starting at:(42,144)\n",
      "<slide_41> is beeing pickeled\n",
      "[<spot2intensity.model.Grid object at 0x7fac28db7208>]\n",
      "Claculating grid starting at:(51,89)\n",
      "<slide_37> is beeing pickeled\n",
      "[<spot2intensity.model.Grid object at 0x7fac28db7828>]\n",
      "Claculating grid starting at:(43,98)\n",
      "<slide_29> is beeing pickeled\n",
      "[<spot2intensity.model.Grid object at 0x7fac28d014a8>]\n",
      "Claculating grid starting at:(39,152)\n",
      "<slide_25> is beeing pickeled\n",
      "[<spot2intensity.model.Grid object at 0x7fac28d01ac8>]\n",
      "Claculating grid starting at:(35,152)\n",
      "<slide_36> is beeing pickeled\n",
      "[<spot2intensity.model.Grid object at 0x7fac28db79b0>]\n",
      "Claculating grid starting at:(43,102)\n",
      "<slide_28> is beeing pickeled\n",
      "[<spot2intensity.model.Grid object at 0x7fac28d01630>]\n",
      "Claculating grid starting at:(39,155)\n",
      "<slide_22> is beeing pickeled\n",
      "[<spot2intensity.model.Grid object at 0x7fac28d01f60>]\n",
      "Claculating grid starting at:(39,134)\n",
      "<slide_44> is beeing pickeled\n",
      "[<spot2intensity.model.Grid object at 0x7fac28dbbeb8>]\n",
      "Claculating grid starting at:(53,95)\n",
      "<slide_30> is beeing pickeled\n",
      "[<spot2intensity.model.Grid object at 0x7fac28d01320>]\n",
      "Claculating grid starting at:(47,76)\n",
      "<slide_24> is beeing pickeled\n",
      "[<spot2intensity.model.Grid object at 0x7fac28d01c50>]\n",
      "Claculating grid starting at:(43,144)\n",
      "<slide_32> is beeing pickeled\n",
      "[<spot2intensity.model.Grid object at 0x7fac28db7fd0>]\n",
      "Claculating grid starting at:(51,85)\n",
      "<slide_42> is beeing pickeled\n",
      "[<spot2intensity.model.Grid object at 0x7fac28db7080>]\n",
      "Claculating grid starting at:(55,84)\n",
      "<slide_21> is beeing pickeled\n",
      "[<spot2intensity.model.Grid object at 0x7fac28d03128>]\n",
      "Claculating grid starting at:(55,132)\n",
      "<slide_34> is beeing pickeled\n",
      "[<spot2intensity.model.Grid object at 0x7fac28db7cc0>]\n",
      "Claculating grid starting at:(35,98)\n",
      "<slide_33> is beeing pickeled\n",
      "[<spot2intensity.model.Grid object at 0x7fac28db7e48>]\n",
      "Claculating grid starting at:(51,89)\n",
      "<slide_45> is beeing pickeled\n",
      "[<spot2intensity.model.Grid object at 0x7fac28dbbd30>]\n",
      "Claculating grid starting at:(48,106)\n",
      "<slide_23> is beeing pickeled\n",
      "[<spot2intensity.model.Grid object at 0x7fac28d01dd8>]\n",
      "Claculating grid starting at:(39,150)\n"
     ]
    }
   ],
   "source": [
    "import data.microarray_2018_02_18.data as d1\n",
    "COLLECTIONS = d1.load_data()\n",
    "for n, c in COLLECTIONS.items():\n",
    "    if n in [\"slide_19\",\"slide_20\",\"slide_46\",\"slide_47\"]:\n",
    "        continue\n",
    "    c.dump_pickel()"
   ]
  },
  {
   "cell_type": "code",
   "execution_count": null,
   "metadata": {
    "collapsed": true
   },
   "outputs": [],
   "source": []
  }
 ],
 "metadata": {
  "kernelspec": {
   "display_name": "flutype_web_analysis",
   "language": "python",
   "name": "flutype_web_analysis"
  },
  "language_info": {
   "codemirror_mode": {
    "name": "ipython",
    "version": 3
   },
   "file_extension": ".py",
   "mimetype": "text/x-python",
   "name": "python",
   "nbconvert_exporter": "python",
   "pygments_lexer": "ipython3",
   "version": "3.5.2"
  }
 },
 "nbformat": 4,
 "nbformat_minor": 2
}
