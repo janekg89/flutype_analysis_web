{
 "cells": [
  {
   "cell_type": "code",
   "execution_count": 1,
   "metadata": {
    "collapsed": true
   },
   "outputs": [],
   "source": [
    "import os\n",
    "\n",
    "import data.microarray_2018_03_21.data as d1\n",
    "from importlib import reload\n",
    "from utils import ensure_dir\n",
    "import pandas as pd\n"
   ]
  },
  {
   "cell_type": "code",
   "execution_count": 2,
   "metadata": {
    "collapsed": true
   },
   "outputs": [],
   "source": [
    "folder = os.path.join(\"microarray_2018_03_21\",\"measurements/\")\n",
    "ensure_dir(folder)\n"
   ]
  },
  {
   "cell_type": "code",
   "execution_count": 3,
   "metadata": {},
   "outputs": [
    {
     "data": {
      "text/plain": [
       "<module 'data.microarray_2018_03_21.data' from '/home/janekg89/Develop/Pycharm_Projects/flutype_analysis_web/data/microarray_2018_03_21/data.py'>"
      ]
     },
     "execution_count": 3,
     "metadata": {},
     "output_type": "execute_result"
    }
   ],
   "source": [
    "reload(d1)"
   ]
  },
  {
   "cell_type": "code",
   "execution_count": 4,
   "metadata": {
    "collapsed": true
   },
   "outputs": [],
   "source": [
    "COLLECTIONS = d1.load_data()"
   ]
  },
  {
   "cell_type": "code",
   "execution_count": null,
   "metadata": {
    "collapsed": true
   },
   "outputs": [],
   "source": []
  },
  {
   "cell_type": "code",
   "execution_count": 5,
   "metadata": {},
   "outputs": [
    {
     "name": "stdout",
     "output_type": "stream",
     "text": [
      "<2018_03_21_slide_68> is beeing pickeled\n",
      "[<spot2intensity.model.Grid object at 0x7f55cc2880b8>]\n",
      "Claculating grid starting at:(90.0,90.0)\n",
      "Starting with Collection <2018_03_21_slide_68>\n",
      "<2018_03_21_slide_45> is beeing pickeled\n",
      "[<spot2intensity.model.Grid object at 0x7f55cc292d68>]\n",
      "Claculating grid starting at:(86.0,91.0)\n",
      "Starting with Collection <2018_03_21_slide_45>\n",
      "<2018_03_21_slide_53> is beeing pickeled\n",
      "[<spot2intensity.model.Grid object at 0x7f55cc292668>]\n",
      "Claculating grid starting at:(93.0,114.0)\n",
      "Starting with Collection <2018_03_21_slide_53>\n",
      "<2018_03_21_slide_47> is beeing pickeled\n",
      "[<spot2intensity.model.Grid object at 0x7f56106e0e80>]\n",
      "Claculating grid starting at:(89.0,85.0)\n",
      "Starting with Collection <2018_03_21_slide_47>\n",
      "<2018_03_21_slide_32> is beeing pickeled\n",
      "[<spot2intensity.model.Grid object at 0x7f55cc29b438>]\n",
      "Claculating grid starting at:(93.0,115.0)\n",
      "Starting with Collection <2018_03_21_slide_32>\n",
      "<2018_03_21_slide_40> is beeing pickeled\n",
      "[<spot2intensity.model.Grid object at 0x7f55cc1f0ac8>]\n",
      "Claculating grid starting at:(71.0,150.0)\n",
      "Starting with Collection <2018_03_21_slide_40>\n",
      "<2018_03_21_slide_59> is beeing pickeled\n",
      "[<spot2intensity.model.Grid object at 0x7f55cc288f28>]\n",
      "Claculating grid starting at:(78.0,142.0)\n",
      "Starting with Collection <2018_03_21_slide_59>\n",
      "<2018_03_21_slide_33> is beeing pickeled\n",
      "[<spot2intensity.model.Grid object at 0x7f55cc29b358>]\n",
      "Claculating grid starting at:(92.0,127.0)\n",
      "Starting with Collection <2018_03_21_slide_33>\n",
      "<2018_03_21_slide_60> is beeing pickeled\n",
      "[<spot2intensity.model.Grid object at 0x7f55cc288da0>]\n",
      "Claculating grid starting at:(78.0,142.0)\n",
      "Starting with Collection <2018_03_21_slide_60>\n",
      "<2018_03_21_slide_42> is beeing pickeled\n",
      "[<spot2intensity.model.Grid object at 0x7f55cc1f0dd8>]\n",
      "Claculating grid starting at:(97.0,65.0)\n",
      "Starting with Collection <2018_03_21_slide_42>\n",
      "<2018_03_21_slide_67> is beeing pickeled\n",
      "[<spot2intensity.model.Grid object at 0x7f55cc288240>]\n",
      "Claculating grid starting at:(91.0,82.0)\n",
      "Starting with Collection <2018_03_21_slide_67>\n",
      "<2018_03_21_slide_62> is beeing pickeled\n",
      "[<spot2intensity.model.Grid object at 0x7f55cc2889e8>]\n",
      "Claculating grid starting at:(41.0,64.0)\n",
      "Starting with Collection <2018_03_21_slide_62>\n",
      "<2018_03_21_slide_49> is beeing pickeled\n",
      "[<spot2intensity.model.Grid object at 0x7f55cc29b978>]\n",
      "Claculating grid starting at:(72.0,96.0)\n",
      "Starting with Collection <2018_03_21_slide_49>\n",
      "<2018_03_21_slide_63> is beeing pickeled\n",
      "[<spot2intensity.model.Grid object at 0x7f55cc288860>]\n",
      "Claculating grid starting at:(77.0,74.0)\n",
      "Starting with Collection <2018_03_21_slide_63>\n",
      "<2018_03_21_slide_61> is beeing pickeled\n",
      "[<spot2intensity.model.Grid object at 0x7f55cc288be0>]\n",
      "Claculating grid starting at:(91.0,65.0)\n",
      "Starting with Collection <2018_03_21_slide_61>\n",
      "<2018_03_21_slide_37> is beeing pickeled\n",
      "[<spot2intensity.model.Grid object at 0x7f55cc1f0630>]\n",
      "Claculating grid starting at:(84.0,141.0)\n",
      "Starting with Collection <2018_03_21_slide_37>\n",
      "<2018_03_21_slide_55> is beeing pickeled\n",
      "[<spot2intensity.model.Grid object at 0x7f55cc2924e0>]\n",
      "Claculating grid starting at:(89.0,127.0)\n",
      "Starting with Collection <2018_03_21_slide_55>\n",
      "<2018_03_21_slide_50> is beeing pickeled\n",
      "[<spot2intensity.model.Grid object at 0x7f55cc285c88>]\n",
      "Claculating grid starting at:(72.0,96.0)\n",
      "Starting with Collection <2018_03_21_slide_50>\n",
      "<2018_03_21_slide_64> is beeing pickeled\n",
      "[<spot2intensity.model.Grid object at 0x7f55cc2886d8>]\n",
      "Claculating grid starting at:(77.0,74.0)\n",
      "Starting with Collection <2018_03_21_slide_64>\n",
      "<2018_03_21_slide_57> is beeing pickeled\n",
      "[<spot2intensity.model.Grid object at 0x7f55cc2921d0>]\n",
      "Claculating grid starting at:(82.0,133.0)\n",
      "Starting with Collection <2018_03_21_slide_57>\n",
      "<2018_03_21_slide_56> is beeing pickeled\n",
      "[<spot2intensity.model.Grid object at 0x7f55cc292358>]\n",
      "Claculating grid starting at:(78.0,123.0)\n",
      "Starting with Collection <2018_03_21_slide_56>\n",
      "<2018_03_21_slide_36> is beeing pickeled\n",
      "[<spot2intensity.model.Grid object at 0x7f55cc285eb8>]\n",
      "Claculating grid starting at:(84.0,141.0)\n",
      "Starting with Collection <2018_03_21_slide_36>\n",
      "<2018_03_21_slide_44> is beeing pickeled\n",
      "[<spot2intensity.model.Grid object at 0x7f55cc292ef0>]\n",
      "Claculating grid starting at:(86.0,91.0)\n",
      "Starting with Collection <2018_03_21_slide_44>\n",
      "<2018_03_21_slide_43> is beeing pickeled\n",
      "[<spot2intensity.model.Grid object at 0x7f55cc1f0f60>]\n",
      "Claculating grid starting at:(91.0,75.0)\n",
      "Starting with Collection <2018_03_21_slide_43>\n",
      "<2018_03_21_slide_65> is beeing pickeled\n",
      "[<spot2intensity.model.Grid object at 0x7f55cc288550>]\n",
      "Claculating grid starting at:(87.0,57.0)\n",
      "Starting with Collection <2018_03_21_slide_65>\n",
      "<2018_03_21_slide_34> is beeing pickeled\n",
      "[<spot2intensity.model.Grid object at 0x7f55cc29b1d0>]\n",
      "Claculating grid starting at:(84.0,141.0)\n",
      "Starting with Collection <2018_03_21_slide_34>\n",
      "<2018_03_21_slide_30> is beeing pickeled\n",
      "[<spot2intensity.model.Grid object at 0x7f55cc29b668>]\n",
      "Claculating grid starting at:(91.0,106.0)\n",
      "Starting with Collection <2018_03_21_slide_30>\n",
      "<2018_03_21_slide_52> is beeing pickeled\n",
      "[<spot2intensity.model.Grid object at 0x7f55cc2927f0>]\n",
      "Claculating grid starting at:(93.0,114.0)\n",
      "Starting with Collection <2018_03_21_slide_52>\n",
      "<2018_03_21_slide_51> is beeing pickeled\n",
      "[<spot2intensity.model.Grid object at 0x7f55cc292978>]\n",
      "Claculating grid starting at:(72.0,96.0)\n",
      "Starting with Collection <2018_03_21_slide_51>\n",
      "<2018_03_21_slide_48> is beeing pickeled\n",
      "[<spot2intensity.model.Grid object at 0x7f55cc24ea58>]\n",
      "Claculating grid starting at:(89.0,85.0)\n",
      "Starting with Collection <2018_03_21_slide_48>\n",
      "<2018_03_21_slide_35> is beeing pickeled\n",
      "[<spot2intensity.model.Grid object at 0x7f55cc29b048>]\n",
      "Claculating grid starting at:(84.0,141.0)\n",
      "Starting with Collection <2018_03_21_slide_35>\n",
      "<2018_03_21_slide_58> is beeing pickeled\n",
      "[<spot2intensity.model.Grid object at 0x7f55cc292048>]\n",
      "Claculating grid starting at:(78.0,142.0)\n",
      "Starting with Collection <2018_03_21_slide_58>\n",
      "<2018_03_21_slide_38> is beeing pickeled\n",
      "[<spot2intensity.model.Grid object at 0x7f55cc1f07b8>]\n",
      "Claculating grid starting at:(84.0,141.0)\n",
      "Starting with Collection <2018_03_21_slide_38>\n",
      "<2018_03_21_slide_39> is beeing pickeled\n",
      "[<spot2intensity.model.Grid object at 0x7f55cc1f0940>]\n",
      "Claculating grid starting at:(84.0,141.0)\n",
      "Starting with Collection <2018_03_21_slide_39>\n",
      "<2018_03_21_slide_41> is beeing pickeled\n",
      "[<spot2intensity.model.Grid object at 0x7f55cc1f0c50>]\n",
      "Claculating grid starting at:(82.0,57.0)\n",
      "Starting with Collection <2018_03_21_slide_41>\n",
      "<2018_03_21_slide_66> is beeing pickeled\n",
      "[<spot2intensity.model.Grid object at 0x7f55cc2883c8>]\n",
      "Claculating grid starting at:(91.0,82.0)\n",
      "Starting with Collection <2018_03_21_slide_66>\n",
      "<2018_03_21_slide_46> is beeing pickeled\n",
      "[<spot2intensity.model.Grid object at 0x7f55cc292be0>]\n",
      "Claculating grid starting at:(86.0,91.0)\n",
      "Starting with Collection <2018_03_21_slide_46>\n"
     ]
    }
   ],
   "source": [
    "for n, c in COLLECTIONS.items():\n",
    "    c.dump_pickel()\n",
    "    c.export_measurement_folder(folder)"
   ]
  },
  {
   "cell_type": "code",
   "execution_count": null,
   "metadata": {
    "collapsed": true
   },
   "outputs": [],
   "source": []
  },
  {
   "cell_type": "code",
   "execution_count": null,
   "metadata": {
    "collapsed": true
   },
   "outputs": [],
   "source": []
  }
 ],
 "metadata": {
  "kernelspec": {
   "display_name": "flutype_web_analysis",
   "language": "python",
   "name": "flutype_web_analysis"
  },
  "language_info": {
   "codemirror_mode": {
    "name": "ipython",
    "version": 3
   },
   "file_extension": ".py",
   "mimetype": "text/x-python",
   "name": "python",
   "nbconvert_exporter": "python",
   "pygments_lexer": "ipython3",
   "version": "3.5.2"
  }
 },
 "nbformat": 4,
 "nbformat_minor": 2
}
