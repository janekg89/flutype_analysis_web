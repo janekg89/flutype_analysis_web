{
 "cells": [
  {
   "cell_type": "code",
   "execution_count": 4,
   "metadata": {},
   "outputs": [
    {
     "data": {
      "text/html": [
       "        <script type=\"text/javascript\">\n",
       "        window.PlotlyConfig = {MathJaxConfig: 'local'};\n",
       "        if (window.MathJax) {MathJax.Hub.Config({SVG: {font: \"STIX-Web\"}});}\n",
       "        if (typeof require !== 'undefined') {\n",
       "        require.undef(\"plotly\");\n",
       "        requirejs.config({\n",
       "            paths: {\n",
       "                'plotly': ['https://cdn.plot.ly/plotly-latest.min']\n",
       "            }\n",
       "        });\n",
       "        require(['plotly'], function(Plotly) {\n",
       "            window._Plotly = Plotly;\n",
       "        });\n",
       "        }\n",
       "        </script>\n",
       "        "
      ]
     },
     "metadata": {},
     "output_type": "display_data"
    }
   ],
   "source": [
    "\n",
    "from importlib import reload\n",
    "\n",
    "\n",
    "import pandas as pd\n",
    "import numpy as np\n",
    "\n",
    "from sklearn import preprocessing\n",
    "from statsmodels.stats.multicomp import pairwise_tukeyhsd\n",
    "\n",
    "\n",
    "import matplotlib.pyplot as plt\n",
    "import matplotlib\n",
    "import seaborn as sns\n",
    "\n",
    "from plotly.offline import download_plotlyjs, init_notebook_mode, plot,iplot\n",
    "init_notebook_mode(connected=True)\n",
    "import plotly.graph_objs as go\n",
    "\n",
    "import analysis2 as a2\n",
    "#from flutype.utils import django_setup\n",
    "#from flutype.models import Spot\n",
    "\n",
    "\n",
    "\n",
    "from IPython.display import display_html\n",
    "def display_side_by_side(*args):\n",
    "    html_str=''\n",
    "    for df in args:\n",
    "        html_str+=df.to_html()\n",
    "    display_html(html_str.replace('table', 'table style=\"display:inline\"'), raw=True)\n",
    "import pandas as pd"
   ]
  },
  {
   "cell_type": "code",
   "execution_count": null,
   "metadata": {},
   "outputs": [],
   "source": []
  },
  {
   "cell_type": "code",
   "execution_count": null,
   "metadata": {},
   "outputs": [],
   "source": []
  },
  {
   "cell_type": "markdown",
   "metadata": {},
   "source": [
    "## Load Elisa Data"
   ]
  },
  {
   "cell_type": "code",
   "execution_count": null,
   "metadata": {},
   "outputs": [],
   "source": [
    "reload(a2)\n",
    "studies = [\"elisa_2018_03_28\"]\n",
    "analyte_batches = [\"A/Aichi/2/68(H3N2)-4-5\",\n",
    "                  \"A/Aichi/2/68(H3N2)-4-10\",\n",
    "                  \"A/Aichi/2/68(H3N2)-4-20\",\n",
    "                  'A/Brisbane/10/2007(H3N2)-10',\n",
    "                  'A/Brisbane/10/2007(H3N2)-20',\n",
    "                  'A/Brisbane/10/2007(H3N2)-5',\n",
    "                  'A/Brisbane/59/2007(H1N1)-10',\n",
    "                  'A/Brisbane/59/2007(H1N1)-20',\n",
    "                  'A/Brisbane/59/2007(H1N1)-5',\n",
    "                  'A/California/07/2009(H1N1)-3-10',\n",
    "                  'A/California/07/2009(H1N1)-3-20',\n",
    "                  'A/California/07/2009(H1N1)-3-5',\n",
    "                  'A/Hong Kong/4801/2014(H3N2)-10',\n",
    "                  'A/Hong Kong/4801/2014(H3N2)-20',\n",
    "                  'A/Hong Kong/4801/2014(H3N2)-5',\n",
    "                  'A/Panama/2007/1999(H3N2)-3-10',\n",
    "                 'A/Panama/2007/1999(H3N2)-3-20',\n",
    "                 'A/Panama/2007/1999(H3N2)-3-5',\n",
    "                   \"Buffer001\",\n",
    "                  ]\n",
    "spots_dj = Spot.objects.filter(raw_spot__raw_spot_collection__studies__sid__in=studies)\n",
    "spots_dj = spots_dj.filter(raw_spot__lig_mob_batch__sid__in=analyte_batches)\n",
    "data_elisa = a2.Data(spots_dj=spots_dj, impute=True)#.outlier_filtering()"
   ]
  },
  {
   "cell_type": "code",
   "execution_count": null,
   "metadata": {},
   "outputs": [],
   "source": [
    "# results dictionary\n",
    "frames = {}\n",
    "# iterate over collections and analyte batch\n",
    "for cn, d in data_elisa.spots_pd.groupby([\"Collection\", \"Analyte Batch\"]):\n",
    "    # normalize with respective buffer value\n",
    "    x = d.copy()\n",
    "    buffer_ref = d[d[\"Ligand Batch\"] == \"Buffer001\"].Intensity.mean()\n",
    "    x.Intensity = d.Intensity/buffer_ref\n",
    "    frames[cn] = x\n",
    "spots_pd_norm = pd.concat(frames)\n",
    "data_elisa_norm1 = a2.Data(spots_pd=spots_pd_norm,impute=True)"
   ]
  },
  {
   "cell_type": "code",
   "execution_count": null,
   "metadata": {},
   "outputs": [],
   "source": [
    "frames = {}\n",
    "for cn, d in data_elisa.spots_pd.groupby([\"Collection\", \"Ligand Batch\"]):\n",
    "    x = d.copy()\n",
    "    buffer_ref = d[d[\"Analyte Batch\"] == \"Buffer001\"][\"Intensity\"].mean()\n",
    "    x[\"Intensity\"] = d[\"Intensity\"]/buffer_ref\n",
    "    frames[cn] = x\n",
    "spots_pd_norm = pd.concat(frames)\n",
    "data_elisa_norm2 = a2.Data(spots_pd=spots_pd_norm,impute=True)"
   ]
  },
  {
   "cell_type": "code",
   "execution_count": null,
   "metadata": {},
   "outputs": [],
   "source": [
    "frames = {}\n",
    "for cn, d in  data_elisa_norm1.spots_pd.groupby([\"Collection\",\"Ligand Batch\"]):\n",
    "    x = d.copy()\n",
    "    x[\"Intensity\"] = d[\"Intensity\"]/d[d[\"Analyte Batch\"] == \"Buffer001\"][\"Intensity\"].mean()\n",
    "    frames[cn]=x\n",
    "spots_pd_norm = pd.concat(frames)\n",
    "data_elisa_norm3 = a2.Data(spots_pd=spots_pd_norm,impute=True)"
   ]
  },
  {
   "cell_type": "code",
   "execution_count": null,
   "metadata": {},
   "outputs": [],
   "source": [
    "frames = {}\n",
    "for cn, d in  data_elisa.spots_pd.groupby([\"Collection\",\"Analyte Batch\"]):\n",
    "    x = d.copy()\n",
    "    x[\"Intensity\"] = d[\"Intensity\"]-d[d[\"Ligand Batch\"] == \"Empty\"][\"Intensity\"].mean()\n",
    "    x[\"Intensity\"] = x[\"Intensity\"]/x[x[\"Ligand Batch\"] == \"Buffer001\"][\"Intensity\"].mean()\n",
    "    frames[cn]=x\n",
    "spots_pd_norm = pd.concat(frames)\n",
    "\n",
    "frames = {}\n",
    "for cn, d in  spots_pd_norm.groupby([\"Collection\",\"Ligand Batch\"]):\n",
    "    x = d.copy()\n",
    "    x[\"Intensity\"] = d[\"Intensity\"]/d[d[\"Analyte Batch\"] == \"Buffer001\"][\"Intensity\"].mean()\n",
    "    frames[cn]=x\n",
    "spots_pd_norm = pd.concat(frames)\n",
    "\n",
    "spots_pd_norm.at[spots_pd_norm[\"Ligand Batch\"] == \"Empty\",\"Intensity\"] = 0  # remove NaNs/Infs \n",
    "data_elisa_norm4 = a2.Data(spots_pd=spots_pd_norm,impute=True)"
   ]
  },
  {
   "cell_type": "code",
   "execution_count": null,
   "metadata": {},
   "outputs": [],
   "source": [
    "fig ,ax = plt.subplots(ncols=1,nrows=5,figsize=(20,50))\n",
    "ax[0].set_title(\"Raw Data\")\n",
    "#ax[0,1].set_title(\"Raw Data\")\n",
    "ax[1].set_title(\"Normalized 1 Data\")\n",
    "#ax[1,1].set_title(\"Normalized 1 Data\")\n",
    "ax[2].set_title(\"Normalized 2 Data\")\n",
    "#ax[2,1].set_title(\"Normalized 2 Data\")\n",
    "ax[3].set_title(\"Normalized 3 Data\")\n",
    "#ax[3,1].set_title(\"Normalized 3 Data\")\n",
    "ax[4].set_title(\"Normalized 4 Data\")\n",
    "#ax[4,1].set_title(\"Normalized 4 Data\")\n",
    "#sns.boxplot(data=data_elisa.spots_pd, x=\"Intensity\", hue=\"Collection\", y=\"Ligand Batch\", ax=ax[0,0])\n",
    "sns.boxplot(data=data_elisa.spots_pd, x=\"Intensity\", y=\"Ligand Batch\", hue=\"Analyte Batch\", ax=ax[0],)\n",
    "#sns.boxplot(data=data_elisa_norm1.spots_pd, x=\"Intensity\", y=\"Ligand Batch\", hue=\"Collection\", ax=ax[1,0])\n",
    "sns.boxplot(data=data_elisa_norm1.spots_pd, x=\"Intensity\", y=\"Ligand Batch\", hue=\"Analyte Batch\", ax=ax[1],)\n",
    "#sns.boxplot(data=data_elisa_norm2.spots_pd, x=\"Intensity\", y=\"Ligand Batch\", hue=\"Collection\", ax=ax[2,0])\n",
    "sns.boxplot(data=data_elisa_norm2.spots_pd, x=\"Intensity\", y=\"Ligand Batch\", hue=\"Analyte Batch\", ax=ax[2],)\n",
    "#sns.boxplot(data=data_elisa_norm3.spots_pd, x=\"Intensity\", y=\"Ligand Batch\", hue=\"Collection\", ax=ax[3,0])\n",
    "sns.boxplot(data=data_elisa_norm3.spots_pd, x=\"Intensity\", y=\"Ligand Batch\", hue=\"Analyte Batch\", ax=ax[3],)\n",
    "#sns.boxplot(data=data_elisa_norm4.spots_pd, x=\"Intensity\", y=\"Ligand Batch\", hue=\"Collection\", ax=ax[4,0])\n",
    "sns.boxplot(data=data_elisa_norm4.spots_pd, x=\"Intensity\", y=\"Ligand Batch\", hue=\"Analyte Batch\", ax=ax[4],)\n",
    "plt.show()"
   ]
  },
  {
   "cell_type": "markdown",
   "metadata": {},
   "source": [
    "## Load Reference  Data"
   ]
  },
  {
   "cell_type": "code",
   "execution_count": null,
   "metadata": {},
   "outputs": [],
   "source": [
    "studies = [\"microarray_2018_03_21\"]\n",
    "spots_dj_reference = Spot.objects.filter(raw_spot__raw_spot_collection__studies__sid__in=studies)\n",
    "spots_dj_reference = spots_dj_reference.filter(spot_collection__sid = \"quant1\")\n",
    "data_reference = a2.Data(spots_dj=spots_dj_reference).outlier_filtering().sample_on_collection(20).clean()"
   ]
  },
  {
   "cell_type": "markdown",
   "metadata": {
    "scrolled": true
   },
   "source": [
    "## Rank Peptides by Relafance in Reference Data"
   ]
  },
  {
   "cell_type": "code",
   "execution_count": null,
   "metadata": {},
   "outputs": [],
   "source": [
    "frames = []\n",
    "for n, d in data_reference.spots_pd.groupby(\"Ligand Batch\"):\n",
    "    \n",
    "    tukey = pairwise_tukeyhsd(endog=d[\"Intensity\"], groups=d[\"Analyte Batch\"],alpha=0.01)\n",
    "    frames.append(pd.Series({\"Ligand Batch\":n,\"Distinct Groups\":np.count_nonzero(tukey.reject)}))\n",
    "pepsig = pd.concat(frames, axis=1).transpose().sort_values(by=\"Distinct Groups\", ascending=False)\n",
    "peptides_ranking = pd.Series(pepsig[\"Distinct Groups\"].values,index=pepsig[\"Ligand Batch\"])  "
   ]
  },
  {
   "cell_type": "code",
   "execution_count": null,
   "metadata": {},
   "outputs": [],
   "source": [
    "peptides_ranking.to_clipboard()"
   ]
  },
  {
   "cell_type": "code",
   "execution_count": null,
   "metadata": {},
   "outputs": [],
   "source": [
    "ma_ana = data_elisa.mean_on_analyte_batch().groupby([\"Analyte Batch\"]).mean()[\"Intensity_rsd\"]\n",
    "ma_lig = data_elisa.mean_on_analyte_batch().groupby([\"Ligand Batch\"]).mean()[\"Intensity_rsd\"]\n",
    "ma_lig_norm1 = data_elisa_norm1.mean_on_analyte_batch().groupby([\"Ligand Batch\"]).mean()[\"Intensity_rsd\"]\n",
    "ma_lig_norm2 = data_elisa_norm2.mean_on_analyte_batch().groupby([\"Ligand Batch\"]).mean()[\"Intensity_rsd\"]\n",
    "ma_lig_norm3 = data_elisa_norm3.mean_on_analyte_batch().groupby([\"Ligand Batch\"]).mean()[\"Intensity_rsd\"]\n",
    "ma_lig_norm4 = data_elisa_norm4.mean_on_analyte_batch().groupby([\"Ligand Batch\"]).mean()[\"Intensity_rsd\"]"
   ]
  },
  {
   "cell_type": "code",
   "execution_count": null,
   "metadata": {},
   "outputs": [],
   "source": [
    "#peptides_ranking.to_clipboard()"
   ]
  },
  {
   "cell_type": "markdown",
   "metadata": {
    "collapsed": true
   },
   "source": [
    "Check  relevance of peptides in elisa study by relevance in reference data set "
   ]
  },
  {
   "cell_type": "code",
   "execution_count": null,
   "metadata": {},
   "outputs": [],
   "source": [
    "print(\"From {} petides the follwing petides ranked:\".format(len(peptides_ranking)))\n",
    "\n",
    "for ligand in  data_elisa.spots_pd[\"Ligand Batch\"].unique():\n",
    "    \n",
    "    if \"0.3\" in str(ligand):\n",
    "        peptide = str(ligand)[:-4]\n",
    "        try:\n",
    "            print(\"{}:{}\".format(peptide,peptides_ranking.index.get_loc(peptide)))\n",
    "        except KeyError:\n",
    "            print(\"{} is not in reference data set\".format(peptide))\n"
   ]
  },
  {
   "cell_type": "markdown",
   "metadata": {},
   "source": [
    "Selected Peptide have rather low relevance. This is bad."
   ]
  },
  {
   "cell_type": "markdown",
   "metadata": {},
   "source": [
    "## Check concentration dependence in elisa data set"
   ]
  },
  {
   "cell_type": "code",
   "execution_count": null,
   "metadata": {
    "scrolled": true
   },
   "outputs": [],
   "source": [
    "sns.set(style=\"whitegrid\")\n",
    "g = sns.factorplot(x=\"Analyte Batch Concentraion\", y=\"Intensity\", hue=\"Analyte\", col=\"Ligand Batch\", data=data_elisa.spots_pd,\n",
    "                   capsize=.2,  size=6, aspect=.75)\n",
    "g.despine(left=True)\n",
    "plt.show()"
   ]
  },
  {
   "cell_type": "markdown",
   "metadata": {
    "collapsed": true
   },
   "source": [
    " - Concentration of Analyte Batch has no dependece on the Intensity for Ligand Batch == Buffer. This is good\n",
    " - qualitativ: correct relation between Concentration and Intensity\n"
   ]
  },
  {
   "cell_type": "markdown",
   "metadata": {},
   "source": []
  },
  {
   "cell_type": "markdown",
   "metadata": {},
   "source": [
    " ## Correlation Plots"
   ]
  },
  {
   "cell_type": "code",
   "execution_count": null,
   "metadata": {},
   "outputs": [],
   "source": [
    "cmap = matplotlib.cm.get_cmap('Accent')"
   ]
  },
  {
   "cell_type": "code",
   "execution_count": null,
   "metadata": {},
   "outputs": [],
   "source": [
    "colors =  cmap(np.linspace(0,1,num=6))\n",
    "color_list = []\n",
    "for color in colors:\n",
    "    for i in range(3):\n",
    "        color_list.append(color)\n",
    "color_list += [np.array([0 ,0 , 0, 0]) ]"
   ]
  },
  {
   "cell_type": "markdown",
   "metadata": {},
   "source": [
    "Correlation of Peptides (check if viruses cluster in any corplot)\n",
    "-  x -> Buffer \n",
    "- d -> 5 Concentration\n",
    "- o -> 10 Concentration\n",
    "- s -> 20 Concentration"
   ]
  },
  {
   "cell_type": "code",
   "execution_count": null,
   "metadata": {
    "scrolled": true
   },
   "outputs": [],
   "source": [
    "sns.pairplot(data=data_elisa.x.reset_index(),vars=[\"Empty\",\"Buffer001\",\"P079-0.3\",\"P052-0.3\",\"P116-0.3\",\"P124-0.3\",\"P130-0.3\",\"P135-0.3\"],hue=\"Analyte Batch\",palette=color_list,markers= 6*[\"o\",\"s\",\"D\"]+[\"x\"])"
   ]
  },
  {
   "cell_type": "code",
   "execution_count": null,
   "metadata": {
    "scrolled": true
   },
   "outputs": [],
   "source": [
    "d_analayte_x = data_elisa.spots_pd.pivot_table(values=\"Intensity\",columns=[\"Ligand Batch\",\"Analyte Batch Concentraion\", \"Replica\"], index=[\"Analyte\"])\n",
    "d_new = d_analayte_x.transpose()"
   ]
  },
  {
   "cell_type": "code",
   "execution_count": null,
   "metadata": {},
   "outputs": [],
   "source": [
    "\n",
    "colors =  cmap(np.linspace(0,1,num=3))\n",
    "color_list = []\n",
    "for color in colors:\n",
    "    #for i in range(3):\n",
    "        color_list.append(color)\n",
    "color_list += [np.array([0 ,0 , 0, 0]) ]"
   ]
  },
  {
   "cell_type": "markdown",
   "metadata": {},
   "source": [
    "Correlation of Virsues "
   ]
  },
  {
   "cell_type": "code",
   "execution_count": null,
   "metadata": {
    "scrolled": true
   },
   "outputs": [],
   "source": [
    "sns.pairplot(data=d_new.reset_index(),palette=color_list, hue=\"Analyte Batch Concentraion\", vars=['A/Aichi/2/68(H3N2)-X31', 'A/Brisbane/10/2007(H3N2)', 'A/Brisbane/59/2007(H1N1)', 'A/California/7/2009(H1N1)', 'A/Hong Kong/4801/2014(H3N2)', 'A/Panama/2007/1999(H3N2)'])"
   ]
  },
  {
   "cell_type": "code",
   "execution_count": null,
   "metadata": {},
   "outputs": [],
   "source": []
  },
  {
   "cell_type": "markdown",
   "metadata": {},
   "source": [
    "## Heat/Cluster Map"
   ]
  },
  {
   "cell_type": "code",
   "execution_count": null,
   "metadata": {},
   "outputs": [],
   "source": [
    "sns.clustermap(data_elisa.x.groupby(\"Analyte Batch\").mean(),metric=\"correlation\", method=\"single\",figsize=(10,20))"
   ]
  },
  {
   "cell_type": "markdown",
   "metadata": {},
   "source": [
    "## pca"
   ]
  },
  {
   "cell_type": "code",
   "execution_count": null,
   "metadata": {},
   "outputs": [],
   "source": [
    "model_pca = data_elisa.x_pca_fit()\n",
    "elisa_pca = model_pca.transform(data_elisa.x)"
   ]
  },
  {
   "cell_type": "code",
   "execution_count": null,
   "metadata": {},
   "outputs": [],
   "source": [
    "#sns.heatmap(model_pca.scalings_, center=True)"
   ]
  },
  {
   "cell_type": "code",
   "execution_count": null,
   "metadata": {},
   "outputs": [],
   "source": [
    "# creating colors for pca\n",
    "le = preprocessing.LabelEncoder()\n",
    "le.fit(data_elisa.y_names)\n",
    "cs = le.transform(data_elisa.y_names)\n",
    "colors =cs.astype(float) / cs.max()"
   ]
  },
  {
   "cell_type": "code",
   "execution_count": null,
   "metadata": {},
   "outputs": [],
   "source": [
    "trace1 = go.Scatter3d(\n",
    "    x=elisa_pca[:,0],\n",
    "    y=elisa_pca[:,1],\n",
    "    z=elisa_pca[:,2],\n",
    "    text = data_elisa.y_names+\"<br>\"+data_elisa.x.index.get_level_values(\"Collection\"),\n",
    "    mode='markers',\n",
    "    hoverinfo='text',\n",
    "    #hoverlabel=dict(bgcolor=list(colors)),\n",
    "    marker=dict(\n",
    "        size=7,\n",
    "        color=colors,                # set color to an array/list of desired values\n",
    "        colorscale='Jet',   # choose a colorscale\n",
    "        opacity=0.99)\n",
    ")\n",
    "\n",
    "this = [trace1]\n",
    "layout = go.Layout(\n",
    "    #scene=dict(\n",
    "    #    xaxis = dict(showspikes=False),\n",
    "    #    yaxis = dict(showspikes=False),\n",
    "    #    zaxis = dict(showspikes=False),\n",
    "\n",
    "        \n",
    "\n",
    "     #   )\n",
    "    )\n",
    "fig = go.Figure(data=this, layout=layout)\n",
    "iplot(fig, filename='3d-scatter-colorscale')"
   ]
  },
  {
   "cell_type": "code",
   "execution_count": null,
   "metadata": {},
   "outputs": [],
   "source": [
    "complete = pd.DataFrame(columns=[\"Test\", \"Train\"])\n",
    "com = data_elisa.collections.unique().values\n",
    "complete.at[0, \"Test\"] = com\n",
    "complete.at[0, \"Train\"] = com\n",
    "\n"
   ]
  },
  {
   "cell_type": "code",
   "execution_count": null,
   "metadata": {},
   "outputs": [],
   "source": [
    "#no cross-validation on different microwells possible possible without \n",
    "#no cross-validation on different microwells possible possible without \n",
    "ana = a2.Analysis(data_elisa, train_test=complete)\n",
    "ana1 = a2.Analysis(data_elisa_norm1, train_test=complete)\n",
    "ana2 = a2.Analysis(data_elisa_norm2, train_test=complete)\n",
    "ana3 = a2.Analysis(data_elisa_norm3, train_test=complete)\n",
    "ana4 = a2.Analysis(data_elisa_norm4, train_test=complete)\n",
    "\n",
    "ana.calculate_all()\n",
    "ana1.calculate_all()\n",
    "ana2.calculate_all()\n",
    "ana3.calculate_all()\n",
    "ana4.calculate_all()"
   ]
  },
  {
   "cell_type": "code",
   "execution_count": null,
   "metadata": {
    "scrolled": false
   },
   "outputs": [],
   "source": [
    "def split_result(frame):\n",
    "    result_dict = {}\n",
    "    len_frame = int(len(frame)/3)\n",
    "    result_dict[\"frame_NN\"] = frame[:len_frame]\n",
    "    result_dict[\"frame_DT\"] = frame[len_frame:2*len_frame]\n",
    "    result_dict[\"frame_LR\"] = frame[2*len_frame:3*len_frame]\n",
    "    return result_dict"
   ]
  },
  {
   "cell_type": "code",
   "execution_count": null,
   "metadata": {},
   "outputs": [],
   "source": [
    "result = split_result(ana.complete_information())\n",
    "result1 = split_result(ana1.complete_information())\n",
    "result2 = split_result(ana2.complete_information())\n",
    "result3 = split_result(ana3.complete_information())\n",
    "result4 = split_result(ana4.complete_information())\n"
   ]
  },
  {
   "cell_type": "code",
   "execution_count": null,
   "metadata": {},
   "outputs": [],
   "source": [
    "def render_result(data,name,ax,show=False,xlabel=\"\",ylabel=\"\"):\n",
    "    data = data[\"\"]\n",
    "    sns.pointplot(data=data.reset_index().sort_values(by=[\"level_1\",\"level_2\"]),y=\"y\",x=\"TrueFalse\",ci=None, join=False,hue=\"y\", markers=\"|\",ax=ax)\n",
    "    for c in ax.collections:\n",
    "        for of in c.get_offsets():\n",
    "            ax.annotate(\"{:.2f}\".format(of[0]), of)\n",
    "    sns.swarmplot(data=data.reset_index().sort_values(by=[\"level_1\",\"level_2\"]),y=\"y\",x=\"TrueFalse\",hue=\"level_2\",ax=ax,palette=sns.color_palette(\"inferno\"))#, jitter=0.5)#, aspect=0.8)\n",
    "    if not show:\n",
    "        ax.legend_.remove()\n",
    "    ax.set_title(name, )\n",
    "    ax.set_xlabel(xlabel)\n",
    "    ax.set_ylabel(ylabel)\n"
   ]
  },
  {
   "cell_type": "code",
   "execution_count": null,
   "metadata": {},
   "outputs": [],
   "source": [
    "result.iloc[result[\"frame_NN\"].index.get_level_values(0) != 'Buffer001']\n"
   ]
  },
  {
   "cell_type": "code",
   "execution_count": null,
   "metadata": {},
   "outputs": [],
   "source": [
    "96/4"
   ]
  },
  {
   "cell_type": "code",
   "execution_count": null,
   "metadata": {},
   "outputs": [],
   "source": [
    "fig, ax = plt.subplots(ncols=2,nrows=5, figsize=(10,25),sharex=True, sharey=True)\n",
    "#ax = sns.boxplot(data=frame_NN,y=\"y\",x=\"TrueFalse\",notch=True)\n",
    "\n",
    "render_result(result[\"frame_NN\"], \"NN {:.02}\".format(result[\"frame_NN\"][\"TrueFalse\"].mean()), ax[0,0],ylabel=\"Raw\")\n",
    "#render_result(result[\"frame_DT\"], \"DT\",ax[0,1])\n",
    "render_result(result[\"frame_LR\"], \"LR {:.02}\".format(result[\"frame_LR\"][\"TrueFalse\"].mean()),ax[0,1])\n",
    "render_result(result1[\"frame_NN\"], \" {:.02}\".format(result1[\"frame_NN\"][\"TrueFalse\"].mean()), ax[1,0],ylabel=\"Norm1\")\n",
    "#render_result(result1[\"frame_DT\"], \"\",ax[1,1])\n",
    "render_result(result1[\"frame_LR\"], \" {:.02}\".format(result1[\"frame_LR\"][\"TrueFalse\"].mean()),ax[1,1])\n",
    "render_result(result2[\"frame_NN\"], \" {:.02}\".format(result2[\"frame_NN\"][\"TrueFalse\"].mean()), ax[2,0],ylabel=\"Norm2\")\n",
    "#render_result(result2[\"frame_DT\"], \"\",ax[2,1])\n",
    "render_result(result2[\"frame_LR\"], \" {:.02}\".format(result2[\"frame_LR\"][\"TrueFalse\"].mean()),ax[2,1])\n",
    "render_result(result3[\"frame_NN\"], \" {:.02}\".format(result3[\"frame_NN\"][\"TrueFalse\"].mean()), ax[3,0],ylabel=\"Norm3\")\n",
    "#render_result(result3[\"frame_DT\"], \"\",ax[3,1],show=True)\n",
    "render_result(result3[\"frame_LR\"], \" {:.02}\".format(result3[\"frame_LR\"][\"TrueFalse\"].mean()),ax[3,1])\n",
    "render_result(result4[\"frame_NN\"], \" {:.02}\".format(result4[\"frame_NN\"][\"TrueFalse\"].mean()), ax[4,0],ylabel=\"Norm4\")\n",
    "#render_result(result3[\"frame_DT\"], \"\",ax[3,1],show=True)\n",
    "render_result(result4[\"frame_LR\"], \" {:.02}\".format(result4[\"frame_LR\"][\"TrueFalse\"].mean()),ax[4,1])"
   ]
  },
  {
   "cell_type": "code",
   "execution_count": null,
   "metadata": {},
   "outputs": [],
   "source": []
  }
 ],
 "metadata": {
  "kernelspec": {
   "display_name": "flutype_new",
   "language": "python",
   "name": "flutype_new"
  },
  "language_info": {
   "codemirror_mode": {
    "name": "ipython",
    "version": 3
   },
   "file_extension": ".py",
   "mimetype": "text/x-python",
   "name": "python",
   "nbconvert_exporter": "python",
   "pygments_lexer": "ipython3",
   "version": "3.6.8"
  }
 },
 "nbformat": 4,
 "nbformat_minor": 2
}
