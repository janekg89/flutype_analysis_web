{
 "cells": [
  {
   "cell_type": "code",
   "execution_count": 14,
   "metadata": {},
   "outputs": [],
   "source": [
    "import os\n",
    "import repackage\n",
    "repackage.up()\n",
    "import data.microarray_2018_03_21.data as d1\n",
    "from importlib import reload\n",
    "from utils import ensure_dir"
   ]
  },
  {
   "cell_type": "code",
   "execution_count": 15,
   "metadata": {},
   "outputs": [
    {
     "data": {
      "text/plain": [
       "<module 'data.microarray_2018_03_21.data' from '/home/janekg89/Develop/Pycharm_Projects/flutype_analysis_web/data/microarray_2018_03_21/data.py'>"
      ]
     },
     "execution_count": 15,
     "metadata": {},
     "output_type": "execute_result"
    }
   ],
   "source": [
    "reload(d1)\n"
   ]
  },
  {
   "cell_type": "code",
   "execution_count": 16,
   "metadata": {
    "collapsed": true,
    "scrolled": true
   },
   "outputs": [],
   "source": [
    "COLLECTIONS = d1.load_data()"
   ]
  },
  {
   "cell_type": "code",
   "execution_count": 18,
   "metadata": {},
   "outputs": [
    {
     "name": "stdout",
     "output_type": "stream",
     "text": [
      "Starting with Collection <2018_03_21_slide_44>\n",
      "Starting with Collection <2018_03_21_slide_47>\n",
      "Starting with Collection <2018_03_21_slide_51>\n",
      "Starting with Collection <2018_03_21_slide_50>\n",
      "Starting with Collection <2018_03_21_slide_32>\n",
      "Starting with Collection <2018_03_21_slide_61>\n",
      "Starting with Collection <2018_03_21_slide_30>\n",
      "Starting with Collection <2018_03_21_slide_42>\n",
      "Starting with Collection <2018_03_21_slide_40>\n",
      "Starting with Collection <2018_03_21_slide_45>\n",
      "Starting with Collection <2018_03_21_slide_65>\n",
      "Starting with Collection <2018_03_21_slide_58>\n",
      "Starting with Collection <2018_03_21_slide_48>\n",
      "Starting with Collection <2018_03_21_slide_37>\n",
      "Starting with Collection <2018_03_21_slide_60>\n",
      "Starting with Collection <2018_03_21_slide_41>\n",
      "Starting with Collection <2018_03_21_slide_39>\n",
      "Starting with Collection <2018_03_21_slide_57>\n",
      "Starting with Collection <2018_03_21_slide_52>\n",
      "Starting with Collection <2018_03_21_slide_59>\n",
      "Starting with Collection <2018_03_21_slide_38>\n",
      "Starting with Collection <2018_03_21_slide_43>\n",
      "Starting with Collection <2018_03_21_slide_66>\n",
      "Starting with Collection <2018_03_21_slide_56>\n",
      "Starting with Collection <2018_03_21_slide_55>\n",
      "Starting with Collection <2018_03_21_slide_62>\n",
      "Starting with Collection <2018_03_21_slide_35>\n",
      "Starting with Collection <2018_03_21_slide_49>\n",
      "Starting with Collection <2018_03_21_slide_64>\n",
      "Starting with Collection <2018_03_21_slide_46>\n",
      "Starting with Collection <2018_03_21_slide_53>\n",
      "Starting with Collection <2018_03_21_slide_67>\n",
      "Starting with Collection <2018_03_21_slide_33>\n",
      "Starting with Collection <2018_03_21_slide_63>\n",
      "Starting with Collection <2018_03_21_slide_34>\n",
      "Starting with Collection <2018_03_21_slide_36>\n",
      "Starting with Collection <2018_03_21_slide_68>\n"
     ]
    }
   ],
   "source": [
    "folder = os.path.join(\"microarray_2018_03_21\",\"measurements/\")\n",
    "ensure_dir(folder)\n",
    "for n, c in COLLECTIONS.items():\n",
    "    #if n in [\"slide_19\",\"slide_20\",\"slide_46\",\"slide_47\"]:\n",
    "        #continue\n",
    "    c.export_measurement_folder(folder)"
   ]
  },
  {
   "cell_type": "code",
   "execution_count": null,
   "metadata": {
    "collapsed": true
   },
   "outputs": [],
   "source": []
  },
  {
   "cell_type": "code",
   "execution_count": null,
   "metadata": {
    "collapsed": true
   },
   "outputs": [],
   "source": []
  }
 ],
 "metadata": {
  "kernelspec": {
   "display_name": "flutype_web_analysis",
   "language": "python",
   "name": "flutype_web_analysis"
  },
  "language_info": {
   "codemirror_mode": {
    "name": "ipython",
    "version": 3
   },
   "file_extension": ".py",
   "mimetype": "text/x-python",
   "name": "python",
   "nbconvert_exporter": "python",
   "pygments_lexer": "ipython3",
   "version": "3.5.2"
  }
 },
 "nbformat": 4,
 "nbformat_minor": 2
}
