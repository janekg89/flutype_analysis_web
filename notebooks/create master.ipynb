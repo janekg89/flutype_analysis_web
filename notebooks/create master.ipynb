{
 "cells": [
  {
   "cell_type": "code",
   "execution_count": 1,
   "metadata": {},
   "outputs": [],
   "source": [
    "import os\n",
    "import repackage\n",
    "repackage.up()\n",
    "from data.microarray_2018_02_18.data_180218 import load_data\n",
    "from utils import ensure_dir"
   ]
  },
  {
   "cell_type": "code",
   "execution_count": 2,
   "metadata": {},
   "outputs": [],
   "source": [
    "COLLECTIONS = load_data()"
   ]
  },
  {
   "cell_type": "code",
   "execution_count": 3,
   "metadata": {},
   "outputs": [
    {
     "name": "stdout",
     "output_type": "stream",
     "text": [
      "Starting with Collection <slide_24>\n",
      "Starting with Collection <slide_22>\n",
      "Starting with Collection <slide_41>\n",
      "Starting with Collection <slide_44>\n",
      "Starting with Collection <slide_28>\n",
      "Starting with Collection <slide_40>\n",
      "Starting with Collection <slide_30>\n",
      "Starting with Collection <slide_36>\n",
      "Starting with Collection <slide_33>\n",
      "Starting with Collection <slide_27>\n",
      "Starting with Collection <slide_45>\n",
      "Starting with Collection <slide_37>\n",
      "Starting with Collection <slide_34>\n",
      "Starting with Collection <slide_42>\n",
      "Starting with Collection <slide_26>\n",
      "Starting with Collection <slide_39>\n",
      "Starting with Collection <slide_23>\n",
      "Starting with Collection <slide_21>\n",
      "Starting with Collection <slide_25>\n",
      "Starting with Collection <slide_32>\n",
      "Starting with Collection <slide_29>\n",
      "Starting with Collection <slide_38>\n",
      "Starting with Collection <slide_31>\n",
      "Starting with Collection <slide_35>\n"
     ]
    }
   ],
   "source": [
    "folder = os.path.join(\"microarray_2018_02_18\",\"measurements/\")\n",
    "ensure_dir(folder)\n",
    "for n, c in COLLECTIONS.items():\n",
    "    if n in [\"slide_19\",\"slide_20\",\"slide_46\",\"slide_47\"]:\n",
    "        continue\n",
    "    c.export_measurement_folder(folder)"
   ]
  }
 ],
 "metadata": {
  "kernelspec": {
   "display_name": "flutype_web_analysis",
   "language": "python",
   "name": "flutype_web_analysis"
  },
  "language_info": {
   "codemirror_mode": {
    "name": "ipython",
    "version": 3
   },
   "file_extension": ".py",
   "mimetype": "text/x-python",
   "name": "python",
   "nbconvert_exporter": "python",
   "pygments_lexer": "ipython3",
   "version": "3.5.2"
  }
 },
 "nbformat": 4,
 "nbformat_minor": 2
}
