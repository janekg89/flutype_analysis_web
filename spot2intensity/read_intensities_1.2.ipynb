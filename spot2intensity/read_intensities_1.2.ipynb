{
 "cells": [
  {
   "cell_type": "code",
   "execution_count": 1,
   "metadata": {
    "collapsed": true
   },
   "outputs": [],
   "source": [
    "from data_180218 import load_data\n",
    "from spot2intensity import create_circle_patches\n",
    "import matplotlib.pyplot as plt\n",
    "from matplotlib import patches\n",
    "from utils import ensure_dir\n",
    "import numpy as np\n",
    "import pickle"
   ]
  },
  {
   "cell_type": "code",
   "execution_count": 2,
   "metadata": {
    "collapsed": true
   },
   "outputs": [],
   "source": [
    "collections = load_data()\n"
   ]
  },
  {
   "cell_type": "code",
   "execution_count": 3,
   "metadata": {
    "collapsed": true
   },
   "outputs": [],
   "source": [
    "#c_names = ('l', 'm', 'n')\n",
    "#sub_collection = {x: collections[x] for x in c_names if x in collections}"
   ]
  },
  {
   "cell_type": "code",
   "execution_count": null,
   "metadata": {},
   "outputs": [],
   "source": []
  },
  {
   "cell_type": "code",
   "execution_count": 4,
   "metadata": {},
   "outputs": [
    {
     "name": "stdout",
     "output_type": "stream",
     "text": [
      "calculating:slide_27\n",
      "[<spot2intensity.Grid object at 0x7f422ad68310>]\n",
      "Claculating grid starting at:(42,144)\n"
     ]
    }
   ],
   "source": [
    "for c_name, c_data in collections.iteritems():\n",
    "    if  c_name in [\"slide_27\"] :\n",
    "        directory = \"data/{}/{}/\".format(c_data.study,c_name)\n",
    "        ensure_dir(directory)\n",
    "        print(\"calculating:{}\".format(c_name))\n",
    "        spots = c_data.pd_complete_spots()\n",
    "        with open(directory+\"spots_class\", 'w') as f:\n",
    "            pickle.dump(spots,f)\n",
    "            \n",
    "        spots.plot_grid(on=\"b_im\")\n",
    "        plt.savefig(directory+\"im_grid_before_600_80_635.jpg\",bbox_inches='tight')\n",
    "        spots.plot_grid(on=\"a_im\")\n",
    "        plt.savefig(directory+\"im_grid_after_600_80_635.jpg\",bbox_inches='tight')\n",
    "        plt.close()\n",
    "        \n",
    "        spots.df[[\"Block\",\"Row\",\"Column\",\"Name\",\"std_intensities2\",\"intensities2\",\"intensities\",\"intensities2_b\",\"circle_qual\"]].to_csv(\"{}spots.tsv\".format(directory), sep='\\t',)\n",
    "        inte = spots.df.pivot(index=\"Row\", columns=\"Column\", values=\"intensities\")\n",
    "        inte.to_csv(\"{}intensity.tsv\".format(directory), sep='\\t')\n",
    "        int2 = spots.df.pivot(index=\"Row\", columns=\"Column\", values=\"intensities2\")\n",
    "        int2.to_csv(\"{}intensity2.tsv\".format(directory), sep='\\t')\n",
    "        circ_q = spots.df.pivot(index=\"Row\", columns=\"Column\", values=\"circle_qual\")\n",
    "        circ_q.to_csv(\"{}circle_quality.tsv\".format(directory), sep='\\t')\n",
    "        std2 = spots.df.pivot(index=\"Row\", columns=\"Column\", values=\"std_intensities2\")\n",
    "        std2.to_csv(\"{}intensity2_std.tsv\".format(directory), sep='\\t')\n",
    "\n"
   ]
  },
  {
   "cell_type": "code",
   "execution_count": null,
   "metadata": {
    "scrolled": true
   },
   "outputs": [],
   "source": []
  },
  {
   "cell_type": "code",
   "execution_count": 5,
   "metadata": {},
   "outputs": [
    {
     "name": "stderr",
     "output_type": "stream",
     "text": [
      "/home/janekg89/Envs/flutype_webapp/local/lib/python2.7/site-packages/numpy/core/fromnumeric.py:57: FutureWarning: reshape is deprecated and will raise in a subsequent release. Please use .values.reshape(...) instead\n",
      "  return getattr(obj, method)(*args, **kwds)\n"
     ]
    }
   ],
   "source": [
    "c_names = [\"slide_19\",\"slide_20\",\"slide_46\",\"slide_47\"]\n",
    "sub_collections = collections\n",
    "for c_name in c_names:\n",
    "    sub_collections.pop(c_name)\n",
    "\n",
    "for c_name, c_data in sub_collections.iteritems():\n",
    "    directory = \"data/{}/{}/\".format(c_data.study,c_name)\n",
    "    with open(directory+\"spots_class\", 'r') as f:\n",
    "        spots = pickle.load(f)\n",
    "    spots.df.boxplot(vert=False,column=\"intensities2\", by=\"Name\", figsize=(20,20))\n",
    "    plt.xlabel(\"Intensities\")  \n",
    "    plt.ylabel(\"Peptides\")\n",
    "    plt.title(c_name+\" mean on circle\")\n",
    "    plt.savefig(\"data/{}/correlation_plots/array/circ/{}_boxplot.png\".format(c_data.study,c_name))\n",
    "    plt.close()\n",
    "    \n",
    "\n",
    "    "
   ]
  },
  {
   "cell_type": "code",
   "execution_count": 6,
   "metadata": {},
   "outputs": [
    {
     "data": {
      "text/plain": [
       "array(['slide_21', 'slide_22', 'slide_23', 'slide_24', 'slide_25',\n",
       "       'slide_26', 'slide_27', 'slide_28', 'slide_29', 'slide_30',\n",
       "       'slide_31', 'slide_32', 'slide_33', 'slide_34', 'slide_35',\n",
       "       'slide_36', 'slide_37', 'slide_38', 'slide_39', 'slide_40',\n",
       "       'slide_41', 'slide_42', 'slide_44', 'slide_45'],\n",
       "      dtype='|S8')"
      ]
     },
     "execution_count": 6,
     "metadata": {},
     "output_type": "execute_result"
    }
   ],
   "source": [
    "np.sort(sub_collections.keys())\n"
   ]
  },
  {
   "cell_type": "code",
   "execution_count": 7,
   "metadata": {},
   "outputs": [],
   "source": [
    "#a1 = spot_dict[c_names[0]]\n",
    "#a2 = spot_dict[c_names[1]]\n",
    "\n",
    "\n",
    "#plt.scatter(a1.df[\"intensities\"],a2.df[\"intensities\"])\n",
    "#plt.xlabel(c_names[0])\n",
    "#plt.xlabel(c_names[1])\n",
    "#plt.xlim(left=20000)\n",
    "#plt.ylim(bottom=20000)\n",
    "\n",
    "#plt.xscale(\"log\")\n",
    "##plt.yscale(\"log\")\n",
    "\n",
    "#plt.show()"
   ]
  },
  {
   "cell_type": "code",
   "execution_count": 8,
   "metadata": {},
   "outputs": [],
   "source": [
    "#a1.df.loc[all(a1.df[\"Row\"]==4 & a1.df[\"Column\"]==1)].spot_images\n",
    "\n",
    "#a_1_n = a1.df.loc[a1.df[\"Column\"]==1]\n",
    "#a_1_n =a_1_n.loc[a_1_n[\"Row\"]==4]\n",
    "#print(a_1_n.spot_images.values[0])\n",
    "#plt.imshow(a_1_n.spot_images.values[0])\n",
    "#plt.show()"
   ]
  },
  {
   "cell_type": "code",
   "execution_count": 9,
   "metadata": {
    "collapsed": true
   },
   "outputs": [],
   "source": [
    "import pandas as pd"
   ]
  },
  {
   "cell_type": "code",
   "execution_count": 10,
   "metadata": {
    "collapsed": true
   },
   "outputs": [],
   "source": [
    "frames = []\n",
    "for c_name, c_data in sub_collections.iteritems():\n",
    "    directory = \"data/{}/{}/\".format(c_data.study,c_name)\n",
    "    df = pd.read_csv(\"{}spots.tsv\".format(directory), sep='\\t',)\n",
    "    df[\"Collection\"] = c_name\n",
    "    frames.append(df)\n",
    "    \n",
    "\n",
    "merged = pd.concat(frames)\n",
    "\n",
    "\n"
   ]
  },
  {
   "cell_type": "code",
   "execution_count": 11,
   "metadata": {},
   "outputs": [
    {
     "data": {
      "text/html": [
       "<div>\n",
       "<style>\n",
       "    .dataframe thead tr:only-child th {\n",
       "        text-align: right;\n",
       "    }\n",
       "\n",
       "    .dataframe thead th {\n",
       "        text-align: left;\n",
       "    }\n",
       "\n",
       "    .dataframe tbody tr th {\n",
       "        vertical-align: top;\n",
       "    }\n",
       "</style>\n",
       "<table border=\"1\" class=\"dataframe\">\n",
       "  <thead>\n",
       "    <tr style=\"text-align: right;\">\n",
       "      <th></th>\n",
       "      <th>ID</th>\n",
       "      <th>Block</th>\n",
       "      <th>Row</th>\n",
       "      <th>Column</th>\n",
       "      <th>Name</th>\n",
       "      <th>std_intensities2</th>\n",
       "      <th>intensities2</th>\n",
       "      <th>intensities</th>\n",
       "      <th>intensities2_b</th>\n",
       "      <th>circle_qual</th>\n",
       "      <th>Collection</th>\n",
       "    </tr>\n",
       "  </thead>\n",
       "  <tbody>\n",
       "    <tr>\n",
       "      <th>0</th>\n",
       "      <td>1</td>\n",
       "      <td>1</td>\n",
       "      <td>1</td>\n",
       "      <td>1</td>\n",
       "      <td>LF</td>\n",
       "      <td>4008.278466</td>\n",
       "      <td>3872.700125</td>\n",
       "      <td>9010898</td>\n",
       "      <td>428.925972</td>\n",
       "      <td>0.593750</td>\n",
       "      <td>slide_28</td>\n",
       "    </tr>\n",
       "    <tr>\n",
       "      <th>1</th>\n",
       "      <td>2</td>\n",
       "      <td>1</td>\n",
       "      <td>1</td>\n",
       "      <td>2</td>\n",
       "      <td>LF</td>\n",
       "      <td>2353.198870</td>\n",
       "      <td>1848.082811</td>\n",
       "      <td>4527545</td>\n",
       "      <td>388.346299</td>\n",
       "      <td>0.802083</td>\n",
       "      <td>slide_28</td>\n",
       "    </tr>\n",
       "    <tr>\n",
       "      <th>2</th>\n",
       "      <td>3</td>\n",
       "      <td>1</td>\n",
       "      <td>1</td>\n",
       "      <td>3</td>\n",
       "      <td>LF</td>\n",
       "      <td>2170.016927</td>\n",
       "      <td>1371.328733</td>\n",
       "      <td>3664968</td>\n",
       "      <td>336.179423</td>\n",
       "      <td>0.614583</td>\n",
       "      <td>slide_28</td>\n",
       "    </tr>\n",
       "    <tr>\n",
       "      <th>3</th>\n",
       "      <td>4</td>\n",
       "      <td>1</td>\n",
       "      <td>1</td>\n",
       "      <td>4</td>\n",
       "      <td>LF</td>\n",
       "      <td>1865.211575</td>\n",
       "      <td>1031.460477</td>\n",
       "      <td>3219597</td>\n",
       "      <td>348.723965</td>\n",
       "      <td>0.645833</td>\n",
       "      <td>slide_28</td>\n",
       "    </tr>\n",
       "    <tr>\n",
       "      <th>4</th>\n",
       "      <td>5</td>\n",
       "      <td>1</td>\n",
       "      <td>1</td>\n",
       "      <td>5</td>\n",
       "      <td>LF</td>\n",
       "      <td>1885.540587</td>\n",
       "      <td>1038.954831</td>\n",
       "      <td>2774662</td>\n",
       "      <td>483.819322</td>\n",
       "      <td>0.510417</td>\n",
       "      <td>slide_28</td>\n",
       "    </tr>\n",
       "  </tbody>\n",
       "</table>\n",
       "</div>"
      ],
      "text/plain": [
       "   ID  Block  Row  Column Name  std_intensities2  intensities2  intensities  \\\n",
       "0   1      1    1       1   LF       4008.278466   3872.700125      9010898   \n",
       "1   2      1    1       2   LF       2353.198870   1848.082811      4527545   \n",
       "2   3      1    1       3   LF       2170.016927   1371.328733      3664968   \n",
       "3   4      1    1       4   LF       1865.211575   1031.460477      3219597   \n",
       "4   5      1    1       5   LF       1885.540587   1038.954831      2774662   \n",
       "\n",
       "   intensities2_b  circle_qual Collection  \n",
       "0      428.925972     0.593750   slide_28  \n",
       "1      388.346299     0.802083   slide_28  \n",
       "2      336.179423     0.614583   slide_28  \n",
       "3      348.723965     0.645833   slide_28  \n",
       "4      483.819322     0.510417   slide_28  "
      ]
     },
     "execution_count": 11,
     "metadata": {},
     "output_type": "execute_result"
    }
   ],
   "source": [
    "merged.head()"
   ]
  },
  {
   "cell_type": "code",
   "execution_count": 12,
   "metadata": {
    "scrolled": true
   },
   "outputs": [
    {
     "name": "stdout",
     "output_type": "stream",
     "text": [
      "AK Cal 28666\n"
     ]
    },
    {
     "name": "stderr",
     "output_type": "stream",
     "text": [
      "/home/janekg89/Envs/flutype_webapp/lib/python2.7/site-packages/ipykernel_launcher.py:13: SettingWithCopyWarning: \n",
      "A value is trying to be set on a copy of a slice from a DataFrame\n",
      "\n",
      "See the caveats in the documentation: http://pandas.pydata.org/pandas-docs/stable/indexing.html#indexing-view-versus-copy\n",
      "  del sys.path[0]\n"
     ]
    },
    {
     "ename": "NameError",
     "evalue": "name 'boxprops' is not defined",
     "output_type": "error",
     "traceback": [
      "\u001b[0;31m---------------------------------------------------------------------------\u001b[0m",
      "\u001b[0;31mNameError\u001b[0m                                 Traceback (most recent call last)",
      "\u001b[0;32m<ipython-input-12-202cd4d3c291>\u001b[0m in \u001b[0;36m<module>\u001b[0;34m()\u001b[0m\n\u001b[1;32m     12\u001b[0m     \u001b[0;32mprint\u001b[0m\u001b[0;34m(\u001b[0m\u001b[0mpep_name\u001b[0m\u001b[0;34m)\u001b[0m\u001b[0;34m\u001b[0m\u001b[0m\n\u001b[1;32m     13\u001b[0m     \u001b[0mpep_data\u001b[0m\u001b[0;34m.\u001b[0m\u001b[0msort_values\u001b[0m\u001b[0;34m(\u001b[0m\u001b[0mby\u001b[0m\u001b[0;34m=\u001b[0m\u001b[0;34m\"Collection\"\u001b[0m\u001b[0;34m,\u001b[0m\u001b[0mascending\u001b[0m\u001b[0;34m=\u001b[0m\u001b[0mTrue\u001b[0m\u001b[0;34m,\u001b[0m \u001b[0minplace\u001b[0m\u001b[0;34m=\u001b[0m\u001b[0mTrue\u001b[0m\u001b[0;34m)\u001b[0m\u001b[0;34m\u001b[0m\u001b[0m\n\u001b[0;32m---> 14\u001b[0;31m     \u001b[0mpep_data\u001b[0m\u001b[0;34m.\u001b[0m\u001b[0mboxplot\u001b[0m\u001b[0;34m(\u001b[0m\u001b[0mvert\u001b[0m\u001b[0;34m=\u001b[0m\u001b[0mFalse\u001b[0m\u001b[0;34m,\u001b[0m\u001b[0mcolumn\u001b[0m\u001b[0;34m=\u001b[0m\u001b[0;34m\"intensities2\"\u001b[0m\u001b[0;34m,\u001b[0m \u001b[0mby\u001b[0m\u001b[0;34m=\u001b[0m\u001b[0;34m\"Collection\"\u001b[0m\u001b[0;34m,\u001b[0m \u001b[0mfigsize\u001b[0m\u001b[0;34m=\u001b[0m\u001b[0;34m(\u001b[0m\u001b[0;36m10\u001b[0m\u001b[0;34m,\u001b[0m\u001b[0;36m10\u001b[0m\u001b[0;34m)\u001b[0m\u001b[0;34m,\u001b[0m \u001b[0mboxprops\u001b[0m\u001b[0;34m=\u001b[0m\u001b[0mboxprops\u001b[0m\u001b[0;34m)\u001b[0m\u001b[0;34m\u001b[0m\u001b[0m\n\u001b[0m\u001b[1;32m     15\u001b[0m     \u001b[0mplt\u001b[0m\u001b[0;34m.\u001b[0m\u001b[0mxlabel\u001b[0m\u001b[0;34m(\u001b[0m\u001b[0;34m\"Intensities\"\u001b[0m\u001b[0;34m)\u001b[0m\u001b[0;34m\u001b[0m\u001b[0m\n\u001b[1;32m     16\u001b[0m     \u001b[0mplt\u001b[0m\u001b[0;34m.\u001b[0m\u001b[0mylabel\u001b[0m\u001b[0;34m(\u001b[0m\u001b[0;34m\"Collections\"\u001b[0m\u001b[0;34m)\u001b[0m\u001b[0;34m\u001b[0m\u001b[0m\n",
      "\u001b[0;31mNameError\u001b[0m: name 'boxprops' is not defined"
     ]
    }
   ],
   "source": [
    "directory = \"data/{}/pep_plots/\".format(c_data.study)\n",
    "\n",
    "# TODO: different colors for the Viruses /background\n",
    "# TODO: add method to title PEP_76 (intensities, sum square method, no background)\n",
    "# TODO: Add virus to ylabel (V1 (45, 1))\n",
    "#(V1 (45, 0.5))\n",
    "# boxprops = {'color': 'red'}\n",
    "\n",
    "\n",
    "ensure_dir(directory)\n",
    "for pep_name, pep_data in merged.groupby(\"Name\"):\n",
    "    print(pep_name)\n",
    "    pep_data.sort_values(by=\"Collection\",ascending=True, inplace=True)\n",
    "    pep_data.boxplot(vert=False,column=\"intensities2\", by=\"Collection\", figsize=(10,10), boxprops=boxprops)\n",
    "    plt.xlabel(\"Intensities\")\n",
    "    plt.ylabel(\"Collections\")\n",
    "    plt.title(\"{},mean_on_circle\".format(pep_name))\n",
    "    plt.savefig(directory+\"mean/\"+pep_name+\".png\")\n",
    "    plt.close()"
   ]
  },
  {
   "cell_type": "code",
   "execution_count": null,
   "metadata": {},
   "outputs": [],
   "source": [
    "# plt.plot(spots.df.Name, spots.df.intensities2, 'o')\n",
    "#plt.figure(figsize=(20,20))\n",
    "\n",
    "# TODO: save all in one folder (array_plots)\n",
    "# TODO: add methods to title\n",
    "\n",
    "#plt.boxplot(a1.df.Name, a1.df.intensities, 'o')\n",
    "a1.df.boxplot(vert=False,column=\"intensities2\", by=\"Name\", figsize=(20,20))\n",
    "#fig ,axes = plt.subplots(1,figsize=(20,20))\n",
    "#for name, data in a1.df.groupby(\"Name\"):\n",
    "plt.xlabel(\"Intensities\")  \n",
    "plt.ylabel(\"Peptides\")\n",
    "plt.title(c_names[0])\n",
    "#plt.yscale(\"log\")\n",
    "plt.show()"
   ]
  },
  {
   "cell_type": "code",
   "execution_count": null,
   "metadata": {
    "collapsed": true
   },
   "outputs": [],
   "source": [
    "\n",
    "directory = \"data/{}/correlation_plots/\".format(c_data.study)\n",
    "ensure_dir(directory)\n",
    "for pep_name, pep_data in merged.groupby(\"Name\"):\n",
    "    print(pep_name)\n",
    "    pep_data.sort_values(by=\"Collection\",ascending=True, inplace=True)\n",
    "    pep_data.boxplot(vert=False,column=\"intensities\", by=\"Collection\", )#figsize=(20,30))\n",
    "    plt.xlabel(\"Intensities\")\n",
    "    plt.ylabel(\"Collections\")\n",
    "    plt.title(pep_name)\n",
    "    plt.savefig(directory+pep_name+\".png\")\n",
    "    plt.close()"
   ]
  },
  {
   "cell_type": "code",
   "execution_count": null,
   "metadata": {},
   "outputs": [],
   "source": [
    "viruses = [1,1,1,1,1,2,2,2,2,2,3,3,3,3,3,4,4,4,4,4,5,5,5,5]\n",
    "merged[\"virus\"] = 0\n",
    "vir1 = [c in [\"slide_21\",\"slide_22\",\"slide_23\",\"slide_24\",\"slide_25\"] for c in merged[\"Collection\"]]\n",
    "vir2 = [c in [\"slide_26\",\"slide_27\",\"slide_28\",\"slide_29\",\"slide_30\"] for c in merged[\"Collection\"]]\n",
    "vir3 = [c in [\"slide_31\",\"slide_32\",\"slide_33\",\"slide_34\",\"slide_35\"] for c in merged[\"Collection\"]]\n",
    "vir4 = [c in [\"slide_36\",\"slide_37\",\"slide_38\",\"slide_39\",\"slide_40\"] for c in merged[\"Collection\"]]\n",
    "vir5 = [c in [\"slide_41\",\"slide_42\",\"slide_43\",\"slide_44\",\"slide_45\"] for c in merged[\"Collection\"]]\n",
    "\n",
    "merged[\"concentration\"] = 1\n",
    "con2=[c in [\"slide_24\",\"slide_29\",\"slide_34\",\"slide_39\",\"slide_44\"] for c in merged[\"Collection\"]]\n",
    "con05=[c in [\"slide_25\",\"slide_30\",\"slide_35\",\"slide_40\",\"slide_45\"] for c in merged[\"Collection\"]]\n",
    "\n",
    "merged[\"concentration\"].loc[con2]=2\n",
    "merged[\"concentration\"].loc[con05]=0.5\n",
    "\n",
    "merged[\"virus\"].loc[vir1] = 1\n",
    "merged[\"virus\"].loc[vir2] = 2\n",
    "merged[\"virus\"].loc[vir3] = 3\n",
    "merged[\"virus\"].loc[vir4] = 4\n",
    "merged[\"virus\"].loc[vir5] = 5\n",
    "\n",
    "## bad collection\n",
    "\n",
    "cor_data = merged.loc[merged[\"Collection\"] != \"slide_38\"]\n",
    "    #c_data[\"virus\"] = virus"
   ]
  },
  {
   "cell_type": "code",
   "execution_count": null,
   "metadata": {},
   "outputs": [],
   "source": [
    "c1 = cor_data.loc[cor_data[\"Collection\"]==\"slide_22\"]\n",
    "c2 = cor_data.loc[cor_data[\"Collection\"]==\"slide_21\"]\n",
    "plt.scatter(c1[\"intensities\"],c2[\"intensities\"])\n",
    "plt.show()\n"
   ]
  },
  {
   "cell_type": "code",
   "execution_count": null,
   "metadata": {
    "collapsed": true
   },
   "outputs": [],
   "source": [
    "#print(len(list(combinations(collections.keys(),2))))\n",
    "con1_data = cor_data.loc[cor_data[\"concentration\"] == 1]\n",
    "frames = []\n",
    "for name, data in con1_data.groupby([\"virus\",\"Name\"]):\n",
    "    x = data.median()\n",
    "    x[\"intensities_mean_std\"] = data[\"intensities\"].std()\n",
    "    x[\"intensities2_mean_std\"] = data[\"intensities2\"].std()\n",
    "\n",
    "    x.name = name\n",
    "    frames.append(x)\n",
    "    \n",
    "    \n",
    "mean_data = pd.concat(frames, axis=1)"
   ]
  },
  {
   "cell_type": "code",
   "execution_count": null,
   "metadata": {
    "collapsed": true
   },
   "outputs": [],
   "source": [
    "mean_data = mean_data.transpose().reset_index()\n",
    "mean_data = mean_data.rename(columns={\"level_1\":\"Peptide Batch\",\"level_0\":\"Virus\"})\n"
   ]
  },
  {
   "cell_type": "code",
   "execution_count": null,
   "metadata": {
    "scrolled": false
   },
   "outputs": [],
   "source": [
    "from itertools import combinations\n",
    "plt.close()\n",
    "virus_combinations = list(combinations(range(1,6),2))\n",
    "plt.figure(figsize=(15,15))\n",
    "plt.cmap =plt.get_cmap(\"Paired\")\n",
    "directory = \"data/{}/correlation_plots/\".format(c_data.study)\n",
    "ensure_dir(directory)\n",
    "for v1,v2 in virus_combinations:\n",
    "    print(v1,v2)\n",
    "    if (v1==2 and v2==4):\n",
    "        v1_data = mean_data.loc[mean_data[\"Virus\"]==v1]\n",
    "        v2_data = mean_data.loc[mean_data[\"Virus\"]==v2]\n",
    "        x = v1_data[\"intensities2\"]\n",
    "        y = v2_data[\"intensities2\"]\n",
    "        x_err = v1_data[\"intensities2_mean_std\"]\n",
    "        y_err = v2_data[\"intensities2_mean_std\"]\n",
    "\n",
    "        plt.errorbar(x=x,xerr=x_err,y=y,yerr=y_err, label=\"v1={},v2={}\".format(v1,v2),fmt=\"o\",linestyle=\" \",alpha=.4, capthick=2)\n",
    "    #plt.title((v1,v2))\n",
    "#plt.xscale(\"log\")\n",
    "#plt.yscale(\"log\")\n",
    "plt.legend()\n",
    "plt.title(\"mean on virus with same concentration, v1/v2 correlation, intensities mean on circle\")\n",
    "plt.xlabel(\"v1\")\n",
    "plt.ylabel(\"v2\")\n",
    "plt.show()\n",
    "#mean_data"
   ]
  },
  {
   "cell_type": "code",
   "execution_count": null,
   "metadata": {},
   "outputs": [],
   "source": [
    "plt.figure(figsize=(20,20))\n",
    "plt.imshow(np.asarray(c_data.tifs_a[1]), cmap=\"gray\")\n",
    "plt.show()"
   ]
  },
  {
   "cell_type": "code",
   "execution_count": null,
   "metadata": {
    "collapsed": true
   },
   "outputs": [],
   "source": [
    "plt.plot(spots.df.Name, spots.df.intensities2)"
   ]
  }
 ],
 "metadata": {
  "kernelspec": {
   "display_name": "flutype_webapp",
   "language": "python",
   "name": "flutype_webapp"
  },
  "language_info": {
   "codemirror_mode": {
    "name": "ipython",
    "version": 2
   },
   "file_extension": ".py",
   "mimetype": "text/x-python",
   "name": "python",
   "nbconvert_exporter": "python",
   "pygments_lexer": "ipython2",
   "version": "2.7.12"
  }
 },
 "nbformat": 4,
 "nbformat_minor": 2
}
