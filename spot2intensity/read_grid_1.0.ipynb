{
 "cells": [
  {
   "cell_type": "code",
   "execution_count": 5,
   "metadata": {
    "collapsed": true
   },
   "outputs": [],
   "source": [
    "from Tkinter import *\n",
    "import math\n",
    "import matplotlib.patches as patches\n",
    "import pandas as pd\n",
    "\n",
    "images_paths = [\"180124_N21_Pan.gif\",\n",
    "                '180124_E14_X31_Allantois_100_600_635_635_2_635.gif',\n",
    "                '180124_N22_Cal_100_600_635_635_635.gif',\n",
    "                '180124_N23_X31_100_600_635_635_635_635.gif',\n",
    "                '180124_E15_X31_100_600_635_635.gif',\n",
    "               ]\n",
    "\n",
    "directory = [\"180124_N21_Pan\",\"180124_E14_X31\",\"180124_N22_Cal\",\"180124_N23_X31\",\"180124_E15_X31\"]\n",
    "which_image = 0\n",
    "fpath = \"data/\"+directory[which_image]+'/'+images_paths[which_image]\n",
    "\n"
   ]
  },
  {
   "cell_type": "code",
   "execution_count": 6,
   "metadata": {},
   "outputs": [
    {
     "name": "stdout",
     "output_type": "stream",
     "text": [
      "(326, 329)\n",
      "(321, 1845)\n",
      "(1938, 1847)\n",
      "(1947, 325)\n",
      "(315, 2881)\n",
      "(321, 4410)\n",
      "(1939, 4413)\n",
      "(1949, 2875)\n",
      "(325, 5269)\n",
      "(326, 6784)\n",
      "(1943, 6777)\n",
      "(1952, 5259)\n"
     ]
    }
   ],
   "source": [
    "event2canvas = lambda e, c: (c.canvasx(e.x), c.canvasy(e.y))\n",
    "\n",
    "root = Toplevel()\n",
    "\n",
    "#setting up a tkinter canvas with scrollbars\n",
    "frame = Frame(root, bd=2, relief=SUNKEN)\n",
    "frame.grid_rowconfigure(0, weight=1)\n",
    "frame.grid_columnconfigure(0, weight=1)\n",
    "xscroll = Scrollbar(frame, orient=HORIZONTAL)\n",
    "xscroll.grid(row=1, column=0, sticky=E+W)\n",
    "yscroll = Scrollbar(frame)\n",
    "yscroll.grid(row=0, column=1, sticky=N+S)\n",
    "canvas = Canvas(frame, bd=0, xscrollcommand=xscroll.set, yscrollcommand=yscroll.set)\n",
    "canvas.grid(row=0, column=0, sticky=N+S+E+W)\n",
    "xscroll.config(command=canvas.xview)\n",
    "yscroll.config(command=canvas.yview)\n",
    "frame.pack(fill=BOTH,expand=1)\n",
    "\n",
    "img = PhotoImage(file=fpath)\n",
    "canvas.create_image(0,0,image=img,anchor=\"nw\")\n",
    "canvas.config(scrollregion=canvas.bbox(ALL))\n",
    "\n",
    "#function to be called when mouse is clicked\n",
    "def printcoords(event):\n",
    "    #outputting x and y coords to console\n",
    "    cx, cy = event2canvas(event, canvas)\n",
    "    print (\"(%d, %d)\" % (cx,cy))\n",
    "#mouseclick event\n",
    "canvas.bind(\"<ButtonPress-1>\",printcoords)\n",
    "\n",
    "root.mainloop()"
   ]
  },
  {
   "cell_type": "code",
   "execution_count": 45,
   "metadata": {
    "collapsed": true
   },
   "outputs": [],
   "source": []
  },
  {
   "cell_type": "code",
   "execution_count": null,
   "metadata": {
    "collapsed": true
   },
   "outputs": [],
   "source": []
  },
  {
   "cell_type": "code",
   "execution_count": 81,
   "metadata": {
    "scrolled": true
   },
   "outputs": [
    {
     "data": {
      "image/png": "[encoded data removed]",
      "text/plain": [
       "<matplotlib.figure.Figure at 0x7f684b43ac90>"
      ]
     },
     "metadata": {},
     "output_type": "display_data"
    }
   ],
   "source": []
  },
  {
   "cell_type": "code",
   "execution_count": 82,
   "metadata": {
    "collapsed": true
   },
   "outputs": [],
   "source": []
  },
  {
   "cell_type": "code",
   "execution_count": null,
   "metadata": {
    "collapsed": true
   },
   "outputs": [],
   "source": []
  }
 ],
 "metadata": {
  "kernelspec": {
   "display_name": "flutype_webapp",
   "language": "python",
   "name": "flutype_webapp"
  },
  "language_info": {
   "codemirror_mode": {
    "name": "ipython",
    "version": 2
   },
   "file_extension": ".py",
   "mimetype": "text/x-python",
   "name": "python",
   "nbconvert_exporter": "python",
   "pygments_lexer": "ipython2",
   "version": "2.7.12"
  }
 },
 "nbformat": 4,
 "nbformat_minor": 2
}
