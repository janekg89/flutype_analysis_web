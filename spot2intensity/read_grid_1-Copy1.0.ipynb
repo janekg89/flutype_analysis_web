{
 "cells": [
  {
   "cell_type": "code",
   "execution_count": 1,
   "metadata": {
    "collapsed": true
   },
   "outputs": [],
   "source": [
    "from Tkinter import *\n",
    "from PIL import ImageTk, Image\n",
    "import math\n",
    "import matplotlib.patches as patches\n",
    "import pandas as pd\n",
    "from data_180218 import STUDY\n",
    "#fpath = \"data/2018-02-18_microarray/slide_37/afterIncubation/37_80_280_rot_635.jpg\"\n",
    "\n"
   ]
  },
  {
   "cell_type": "code",
   "execution_count": 9,
   "metadata": {},
   "outputs": [
    {
     "name": "stdout",
     "output_type": "stream",
     "text": [
      "(43, 98)\n",
      "(48, 3441)\n",
      "(988, 3435)\n",
      "(987, 106)\n"
     ]
    }
   ],
   "source": [
    "event2canvas = lambda e, c: (c.canvasx(e.x), c.canvasy(e.y))\n",
    "\n",
    "root = Toplevel()\n",
    "\n",
    "#setting up a tkinter canvas with scrollbars\n",
    "frame = Frame(root, bd=2, relief=SUNKEN)\n",
    "frame.grid_rowconfigure(0, weight=1)\n",
    "frame.grid_columnconfigure(0, weight=1)\n",
    "xscroll = Scrollbar(frame, orient=HORIZONTAL)\n",
    "xscroll.grid(row=1, column=0, sticky=E+W)\n",
    "yscroll = Scrollbar(frame)\n",
    "yscroll.grid(row=0, column=1, sticky=N+S)\n",
    "canvas = Canvas(frame, bd=0, xscrollcommand=xscroll.set, yscrollcommand=yscroll.set)\n",
    "canvas.grid(row=0, column=0, sticky=N+S+E+W)\n",
    "xscroll.config(command=canvas.xview)\n",
    "yscroll.config(command=canvas.yview)\n",
    "frame.pack(fill=BOTH,expand=1)\n",
    "\n",
    "img = ImageTk.PhotoImage(Image.open(fpath))\n",
    "canvas.create_image(0,0,image=img,anchor=\"nw\")\n",
    "canvas.config(scrollregion=canvas.bbox(ALL))\n",
    "\n",
    "#function to be called when mouse is clicked\n",
    "def printcoords(event):\n",
    "    #outputting x and y coords to console\n",
    "    cx, cy = event2canvas(event, canvas)\n",
    "    print (\"(%d, %d)\" % (cx,cy))\n",
    "#mouseclick event\n",
    "canvas.bind(\"<ButtonPress-1>\",printcoords)\n",
    "\n",
    "root.mainloop()"
   ]
  },
  {
   "cell_type": "code",
   "execution_count": 45,
   "metadata": {
    "collapsed": true
   },
   "outputs": [],
   "source": []
  },
  {
   "cell_type": "code",
   "execution_count": null,
   "metadata": {
    "collapsed": true
   },
   "outputs": [],
   "source": []
  },
  {
   "cell_type": "code",
   "execution_count": null,
   "metadata": {
    "scrolled": true
   },
   "outputs": [],
   "source": []
  },
  {
   "cell_type": "code",
   "execution_count": 82,
   "metadata": {
    "collapsed": true
   },
   "outputs": [],
   "source": []
  },
  {
   "cell_type": "code",
   "execution_count": null,
   "metadata": {
    "collapsed": true
   },
   "outputs": [],
   "source": []
  }
 ],
 "metadata": {
  "kernelspec": {
   "display_name": "flutype_webapp",
   "language": "python",
   "name": "flutype_webapp"
  },
  "language_info": {
   "codemirror_mode": {
    "name": "ipython",
    "version": 2
   },
   "file_extension": ".py",
   "mimetype": "text/x-python",
   "name": "python",
   "nbconvert_exporter": "python",
   "pygments_lexer": "ipython2",
   "version": "2.7.12"
  }
 },
 "nbformat": 4,
 "nbformat_minor": 2
}
