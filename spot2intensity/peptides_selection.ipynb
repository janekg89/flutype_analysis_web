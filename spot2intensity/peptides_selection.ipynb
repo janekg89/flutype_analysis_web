{
 "cells": [
  {
   "cell_type": "code",
   "execution_count": 1,
   "metadata": {
    "collapsed": true
   },
   "outputs": [],
   "source": [
    "peps = len([\"Pep_80\",\"Pep_43\",\"Pep_49\",\"Pep_50\",\"Pep_55\",\"Pep_56\",\"Pep_59\",\"Pep_61\",\"Pep_63\",\"Pep_83\",\"Pep_94\",\"Pep_95\",\"Pep_98\",\"Pep_100\",\"Pep_102\",\"Pep_103\",\"Pep_121\" ,\"Pep_125\",\"Pep_131.2\",\"Nenad\"])"
   ]
  },
  {
   "cell_type": "code",
   "execution_count": 3,
   "metadata": {},
   "outputs": [
    {
     "data": {
      "text/plain": [
       "130"
      ]
     },
     "execution_count": 3,
     "metadata": {},
     "output_type": "execute_result"
    }
   ],
   "source": [
    "blank = 10\n",
    "fl1 = 10\n",
    "fl2 = 10\n",
    "\n",
    "block_spots =peps*3+fl1*3+fl1*3+blank\n",
    "block_spots"
   ]
  },
  {
   "cell_type": "code",
   "execution_count": 10,
   "metadata": {},
   "outputs": [
    {
     "data": {
      "text/plain": [
       "20"
      ]
     },
     "execution_count": 10,
     "metadata": {},
     "output_type": "execute_result"
    }
   ],
   "source": [
    "len([\"Pep_80\",\"Pep_43\",\"Pep_49\",\"Pep_50\",\"Pep_55\",\"Pep_56\",\"Pep_59\",\"Pep_61\",\"Pep_63\",\"Pep_83\",\"Pep_94\",\"Pep_95\",\"Pep_98\",\"Pep_100\",\"Pep_102\",\"Pep_103\",\"Pep_121\" ,\"Pep_125\",\"Pep_131.2\",\"Nenad\"])"
   ]
  },
  {
   "cell_type": "code",
   "execution_count": null,
   "metadata": {
    "collapsed": true
   },
   "outputs": [],
   "source": [
    "#old experiment interesting:\n",
    "# 49,50,61                                          3\n",
    "#new anti correlated best\n",
    "#55,56,59,63,83,94,95,100,121,125,131.2,            11\n",
    "#strong signal medium anti correlation:\n",
    "#43,80,98,102,103,Nenad                             5\n",
    "\n"
   ]
  }
 ],
 "metadata": {
  "kernelspec": {
   "display_name": "flutype_webapp",
   "language": "python",
   "name": "flutype_webapp"
  },
  "language_info": {
   "codemirror_mode": {
    "name": "ipython",
    "version": 3
   },
   "file_extension": ".py",
   "mimetype": "text/x-python",
   "name": "python",
   "nbconvert_exporter": "python",
   "pygments_lexer": "ipython3",
   "version": "3.5.2"
  }
 },
 "nbformat": 4,
 "nbformat_minor": 2
}
