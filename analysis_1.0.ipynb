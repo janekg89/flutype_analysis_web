{
 "cells": [
  {
   "cell_type": "code",
   "execution_count": 1,
   "metadata": {},
   "outputs": [
    {
     "name": "stdout",
     "output_type": "stream",
     "text": [
      "****************************************\n",
      "RUNNING IN DEVELOP\n",
      "****************************************\n"
     ]
    }
   ],
   "source": [
    "from __future__ import absolute_import, print_function, unicode_literals\n",
    "import sys\n",
    "import os\n",
    "\n",
    "import pandas as pd\n",
    "import numpy as np\n",
    "import matplotlib.pyplot as plt\n",
    "import analysis as a\n",
    "from IPython.display import display, HTML\n",
    "sys.path.append('/home/janekg89/Develop/Pycharm_Projects/flutype_webapp')\n",
    "os.environ.setdefault(\"DJANGO_SETTINGS_MODULE\", \"flutype_webapp.settings\")\n",
    "import django\n",
    "django.setup()\n",
    "from flutype.models import Spot\n"
   ]
  },
  {
   "cell_type": "code",
   "execution_count": 2,
   "metadata": {},
   "outputs": [],
   "source": [
    "# raw_spot_collections = [\"2018-01-24_E14_X31\",\n",
    "#                         \"2018-01-24_E15_X31\",\n",
    "#                         \"2018-01-24_N21_Pan\",\n",
    "#                         \"2018-01-24_N22_Cal\",\n",
    "#                         \"2018-01-24_N23_X31\",\n",
    "#                         ]\n",
    "#spots = Spot.objects.filter(raw_spot__raw_spot_collection__sid__in=raw_spot_collections)\n",
    "\n",
    "studies = [\"2018-01-24_microarray\"]\n",
    "spots = Spot.objects.filter(raw_spot__raw_spot_collection__studies__sid__in=studies)"
   ]
  },
  {
   "cell_type": "code",
   "execution_count": 3,
   "metadata": {},
   "outputs": [],
   "source": [
    "data = a.Data(spots,mean_on=None)\n",
    "analysis = a.Analysis(data=data)"
   ]
  },
  {
   "cell_type": "code",
   "execution_count": 4,
   "metadata": {},
   "outputs": [
    {
     "name": "stderr",
     "output_type": "stream",
     "text": [
      "/home/janekg89/Envs/flutype_webapp/local/lib/python2.7/site-packages/sklearn/discriminant_analysis.py:388: UserWarning: Variables are collinear.\n",
      "  warnings.warn(\"Variables are collinear.\")\n",
      "/home/janekg89/Envs/flutype_webapp/local/lib/python2.7/site-packages/sklearn/discriminant_analysis.py:388: UserWarning: Variables are collinear.\n",
      "  warnings.warn(\"Variables are collinear.\")\n",
      "/home/janekg89/Envs/flutype_webapp/local/lib/python2.7/site-packages/sklearn/discriminant_analysis.py:388: UserWarning: Variables are collinear.\n",
      "  warnings.warn(\"Variables are collinear.\")\n",
      "/home/janekg89/Envs/flutype_webapp/local/lib/python2.7/site-packages/sklearn/discriminant_analysis.py:388: UserWarning: Variables are collinear.\n",
      "  warnings.warn(\"Variables are collinear.\")\n",
      "/home/janekg89/Envs/flutype_webapp/local/lib/python2.7/site-packages/sklearn/discriminant_analysis.py:388: UserWarning: Variables are collinear.\n",
      "  warnings.warn(\"Variables are collinear.\")\n",
      "/home/janekg89/Envs/flutype_webapp/local/lib/python2.7/site-packages/sklearn/discriminant_analysis.py:388: UserWarning: Variables are collinear.\n",
      "  warnings.warn(\"Variables are collinear.\")\n"
     ]
    }
   ],
   "source": [
    "performance_tabels = []\n",
    "for _ in range(2):\n",
    "    data._safe_random_permuation(data.data, with_in=\"Block\")\n",
    "    analysis = a.Analysis(data=data)\n",
    "    performance_tabels += tuple((analysis.performance_table(),))\n",
    "df = pd.concat(performance_tabels,axis=0)\n",
    "    "
   ]
  },
  {
   "cell_type": "code",
   "execution_count": 5,
   "metadata": {},
   "outputs": [
    {
     "data": {
      "text/html": [
       "<div>\n",
       "<style>\n",
       "    .dataframe thead tr:only-child th {\n",
       "        text-align: right;\n",
       "    }\n",
       "\n",
       "    .dataframe thead th {\n",
       "        text-align: left;\n",
       "    }\n",
       "\n",
       "    .dataframe tbody tr th {\n",
       "        vertical-align: top;\n",
       "    }\n",
       "</style>\n",
       "<table border=\"1\" class=\"dataframe\">\n",
       "  <thead>\n",
       "    <tr style=\"text-align: right;\">\n",
       "      <th></th>\n",
       "      <th>unweighted accuracy</th>\n",
       "      <th>true positive</th>\n",
       "      <th>false positive</th>\n",
       "      <th>true negative</th>\n",
       "      <th>false negative</th>\n",
       "      <th>Name</th>\n",
       "    </tr>\n",
       "  </thead>\n",
       "  <tbody>\n",
       "    <tr>\n",
       "      <th>0</th>\n",
       "      <td>83.333333</td>\n",
       "      <td>83.333333</td>\n",
       "      <td>16.666667</td>\n",
       "      <td>91.666667</td>\n",
       "      <td>8.333333</td>\n",
       "      <td>Nearest Neighbors</td>\n",
       "    </tr>\n",
       "    <tr>\n",
       "      <th>1</th>\n",
       "      <td>86.666667</td>\n",
       "      <td>90.000000</td>\n",
       "      <td>10.000000</td>\n",
       "      <td>95.000000</td>\n",
       "      <td>5.000000</td>\n",
       "      <td>Decision Tree</td>\n",
       "    </tr>\n",
       "    <tr>\n",
       "      <th>2</th>\n",
       "      <td>93.333333</td>\n",
       "      <td>93.750000</td>\n",
       "      <td>6.250000</td>\n",
       "      <td>98.275862</td>\n",
       "      <td>1.724138</td>\n",
       "      <td>Random Forest</td>\n",
       "    </tr>\n",
       "    <tr>\n",
       "      <th>3</th>\n",
       "      <td>83.333333</td>\n",
       "      <td>86.160714</td>\n",
       "      <td>13.839286</td>\n",
       "      <td>93.548387</td>\n",
       "      <td>6.451613</td>\n",
       "      <td>AdaBoost</td>\n",
       "    </tr>\n",
       "    <tr>\n",
       "      <th>4</th>\n",
       "      <td>40.000000</td>\n",
       "      <td>64.583333</td>\n",
       "      <td>35.416667</td>\n",
       "      <td>75.880426</td>\n",
       "      <td>24.119574</td>\n",
       "      <td>Naive Bayes</td>\n",
       "    </tr>\n",
       "    <tr>\n",
       "      <th>5</th>\n",
       "      <td>50.000000</td>\n",
       "      <td>60.294118</td>\n",
       "      <td>39.705882</td>\n",
       "      <td>83.531746</td>\n",
       "      <td>16.468254</td>\n",
       "      <td>LDA</td>\n",
       "    </tr>\n",
       "  </tbody>\n",
       "</table>\n",
       "</div>"
      ],
      "text/plain": [
       "   unweighted accuracy  true positive  false positive  true negative  \\\n",
       "0            83.333333      83.333333       16.666667      91.666667   \n",
       "1            86.666667      90.000000       10.000000      95.000000   \n",
       "2            93.333333      93.750000        6.250000      98.275862   \n",
       "3            83.333333      86.160714       13.839286      93.548387   \n",
       "4            40.000000      64.583333       35.416667      75.880426   \n",
       "5            50.000000      60.294118       39.705882      83.531746   \n",
       "\n",
       "   false negative               Name  \n",
       "0        8.333333  Nearest Neighbors  \n",
       "1        5.000000      Decision Tree  \n",
       "2        1.724138      Random Forest  \n",
       "3        6.451613           AdaBoost  \n",
       "4       24.119574        Naive Bayes  \n",
       "5       16.468254                LDA  "
      ]
     },
     "execution_count": 5,
     "metadata": {},
     "output_type": "execute_result"
    }
   ],
   "source": [
    "performace_mean = df.groupby(df.index).mean()    \n",
    "performace_mean[\"Name\"] = performance_tabels[0][\"Name\"]\n",
    "performace_mean"
   ]
  },
  {
   "cell_type": "code",
   "execution_count": 6,
   "metadata": {},
   "outputs": [
    {
     "data": {
      "image/png": "[encoded data removed]",
      "text/plain": [
       "<matplotlib.figure.Figure at 0x7fd69f466250>"
      ]
     },
     "metadata": {},
     "output_type": "display_data"
    }
   ],
   "source": [
    "performace_mean.plot.bar(\"Name\")\n",
    "plt.legend(loc='center left', bbox_to_anchor=(1, 0.5))\n",
    "plt.title('Performance Graph on Validation Set')\n",
    "plt.ylabel('in percent')\n",
    "#plt.savefig('performance_validators_on_unprocest_shuffeld_data.png',bbox_inches='tight')\n",
    "plt.show()"
   ]
  },
  {
   "cell_type": "code",
   "execution_count": null,
   "metadata": {
    "collapsed": true
   },
   "outputs": [],
   "source": []
  }
 ],
 "metadata": {
  "kernelspec": {
   "display_name": "flutype_webapp",
   "language": "python",
   "name": "flutype_webapp"
  },
  "language_info": {
   "codemirror_mode": {
    "name": "ipython",
    "version": 2
   },
   "file_extension": ".py",
   "mimetype": "text/x-python",
   "name": "python",
   "nbconvert_exporter": "python",
   "pygments_lexer": "ipython2",
   "version": "2.7.12"
  }
 },
 "nbformat": 4,
 "nbformat_minor": 2
}
